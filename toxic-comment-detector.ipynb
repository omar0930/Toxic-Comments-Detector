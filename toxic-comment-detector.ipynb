{
 "cells": [
  {
   "cell_type": "markdown",
   "id": "1d981b04",
   "metadata": {
    "papermill": {
     "duration": 0.032371,
     "end_time": "2024-04-01T23:28:35.416760",
     "exception": false,
     "start_time": "2024-04-01T23:28:35.384389",
     "status": "completed"
    },
    "tags": []
   },
   "source": [
    "# 1. Import Necessary Libraries"
   ]
  },
  {
   "cell_type": "code",
   "execution_count": 1,
   "id": "884060f7",
   "metadata": {
    "_cell_guid": "b1076dfc-b9ad-4769-8c92-a6c4dae69d19",
    "_uuid": "8f2839f25d086af736a60e9eeb907d3b93b6e0e5",
    "execution": {
     "iopub.execute_input": "2024-04-01T23:28:35.480490Z",
     "iopub.status.busy": "2024-04-01T23:28:35.480042Z",
     "iopub.status.idle": "2024-04-01T23:29:01.367153Z",
     "shell.execute_reply": "2024-04-01T23:29:01.366208Z"
    },
    "papermill": {
     "duration": 25.922286,
     "end_time": "2024-04-01T23:29:01.369921",
     "exception": false,
     "start_time": "2024-04-01T23:28:35.447635",
     "status": "completed"
    },
    "tags": [],
    "vscode": {
     "languageId": "python"
    }
   },
   "outputs": [
    {
     "name": "stdout",
     "output_type": "stream",
     "text": [
      "Collecting gradio\r\n",
      "  Downloading gradio-3.34.0-py3-none-any.whl (20.0 MB)\r\n",
      "\u001b[2K     \u001b[90m━━━━━━━━━━━━━━━━━━━━━━━━━━━━━━━━━━━━━━━━\u001b[0m \u001b[32m20.0/20.0 MB\u001b[0m \u001b[31m50.3 MB/s\u001b[0m eta \u001b[36m0:00:00\u001b[0m\r\n",
      "\u001b[?25hRequirement already satisfied: typing-extensions in /opt/conda/lib/python3.7/site-packages (from gradio) (4.1.1)\r\n",
      "Requirement already satisfied: orjson in /opt/conda/lib/python3.7/site-packages (from gradio) (3.7.5)\r\n",
      "Requirement already satisfied: fastapi in /opt/conda/lib/python3.7/site-packages (from gradio) (0.88.0)\r\n",
      "Requirement already satisfied: numpy in /opt/conda/lib/python3.7/site-packages (from gradio) (1.21.6)\r\n",
      "Requirement already satisfied: jinja2 in /opt/conda/lib/python3.7/site-packages (from gradio) (3.1.2)\r\n",
      "Collecting semantic-version\r\n",
      "  Downloading semantic_version-2.10.0-py2.py3-none-any.whl (15 kB)\r\n",
      "Requirement already satisfied: matplotlib in /opt/conda/lib/python3.7/site-packages (from gradio) (3.5.3)\r\n",
      "Collecting httpx\r\n",
      "  Downloading httpx-0.24.1-py3-none-any.whl (75 kB)\r\n",
      "\u001b[2K     \u001b[90m━━━━━━━━━━━━━━━━━━━━━━━━━━━━━━━━━━━━━━━━\u001b[0m \u001b[32m75.4/75.4 kB\u001b[0m \u001b[31m7.8 MB/s\u001b[0m eta \u001b[36m0:00:00\u001b[0m\r\n",
      "\u001b[?25hRequirement already satisfied: requests in /opt/conda/lib/python3.7/site-packages (from gradio) (2.28.1)\r\n",
      "Collecting aiofiles\r\n",
      "  Downloading aiofiles-23.2.1-py3-none-any.whl (15 kB)\r\n",
      "Requirement already satisfied: websockets>=10.0 in /opt/conda/lib/python3.7/site-packages (from gradio) (10.4)\r\n",
      "Requirement already satisfied: pyyaml in /opt/conda/lib/python3.7/site-packages (from gradio) (6.0)\r\n",
      "Requirement already satisfied: pillow in /opt/conda/lib/python3.7/site-packages (from gradio) (9.1.1)\r\n",
      "Collecting huggingface-hub>=0.14.0\r\n",
      "  Downloading huggingface_hub-0.16.4-py3-none-any.whl (268 kB)\r\n",
      "\u001b[2K     \u001b[90m━━━━━━━━━━━━━━━━━━━━━━━━━━━━━━━━━━━━━━\u001b[0m \u001b[32m268.8/268.8 kB\u001b[0m \u001b[31m25.2 MB/s\u001b[0m eta \u001b[36m0:00:00\u001b[0m\r\n",
      "\u001b[?25hRequirement already satisfied: pandas in /opt/conda/lib/python3.7/site-packages (from gradio) (1.3.5)\r\n",
      "Requirement already satisfied: pydantic in /opt/conda/lib/python3.7/site-packages (from gradio) (1.8.2)\r\n",
      "Requirement already satisfied: markupsafe in /opt/conda/lib/python3.7/site-packages (from gradio) (2.1.1)\r\n",
      "Requirement already satisfied: pygments>=2.12.0 in /opt/conda/lib/python3.7/site-packages (from gradio) (2.12.0)\r\n",
      "Requirement already satisfied: aiohttp in /opt/conda/lib/python3.7/site-packages (from gradio) (3.8.1)\r\n",
      "Collecting ffmpy\r\n",
      "  Downloading ffmpy-0.3.2.tar.gz (5.5 kB)\r\n",
      "  Preparing metadata (setup.py) ... \u001b[?25l-\b \bdone\r\n",
      "\u001b[?25hRequirement already satisfied: altair>=4.2.0 in /opt/conda/lib/python3.7/site-packages (from gradio) (4.2.0)\r\n",
      "Collecting gradio-client>=0.2.6\r\n",
      "  Downloading gradio_client-0.2.6-py3-none-any.whl (288 kB)\r\n",
      "\u001b[2K     \u001b[90m━━━━━━━━━━━━━━━━━━━━━━━━━━━━━━━━━━━━━━\u001b[0m \u001b[32m288.3/288.3 kB\u001b[0m \u001b[31m28.0 MB/s\u001b[0m eta \u001b[36m0:00:00\u001b[0m\r\n",
      "\u001b[?25hRequirement already satisfied: markdown-it-py[linkify]>=2.0.0 in /opt/conda/lib/python3.7/site-packages (from gradio) (2.1.0)\r\n",
      "Collecting python-multipart\r\n",
      "  Downloading python_multipart-0.0.8-py3-none-any.whl (22 kB)\r\n",
      "Requirement already satisfied: mdit-py-plugins<=0.3.3 in /opt/conda/lib/python3.7/site-packages (from gradio) (0.3.0)\r\n",
      "Requirement already satisfied: pydub in /opt/conda/lib/python3.7/site-packages (from gradio) (0.25.1)\r\n",
      "Requirement already satisfied: uvicorn>=0.14.0 in /opt/conda/lib/python3.7/site-packages (from gradio) (0.20.0)\r\n",
      "Requirement already satisfied: toolz in /opt/conda/lib/python3.7/site-packages (from altair>=4.2.0->gradio) (0.11.2)\r\n",
      "Requirement already satisfied: entrypoints in /opt/conda/lib/python3.7/site-packages (from altair>=4.2.0->gradio) (0.4)\r\n",
      "Requirement already satisfied: jsonschema>=3.0 in /opt/conda/lib/python3.7/site-packages (from altair>=4.2.0->gradio) (4.6.1)\r\n",
      "Requirement already satisfied: packaging in /opt/conda/lib/python3.7/site-packages (from gradio-client>=0.2.6->gradio) (22.0)\r\n",
      "Requirement already satisfied: fsspec in /opt/conda/lib/python3.7/site-packages (from gradio-client>=0.2.6->gradio) (2022.11.0)\r\n",
      "Requirement already satisfied: tqdm>=4.42.1 in /opt/conda/lib/python3.7/site-packages (from huggingface-hub>=0.14.0->gradio) (4.64.0)\r\n",
      "Requirement already satisfied: importlib-metadata in /opt/conda/lib/python3.7/site-packages (from huggingface-hub>=0.14.0->gradio) (4.13.0)\r\n",
      "Requirement already satisfied: filelock in /opt/conda/lib/python3.7/site-packages (from huggingface-hub>=0.14.0->gradio) (3.7.1)\r\n",
      "Requirement already satisfied: mdurl~=0.1 in /opt/conda/lib/python3.7/site-packages (from markdown-it-py[linkify]>=2.0.0->gradio) (0.1.0)\r\n",
      "Collecting linkify-it-py~=1.0\r\n",
      "  Downloading linkify_it_py-1.0.3-py3-none-any.whl (19 kB)\r\n",
      "Requirement already satisfied: python-dateutil>=2.7.3 in /opt/conda/lib/python3.7/site-packages (from pandas->gradio) (2.8.2)\r\n",
      "Requirement already satisfied: pytz>=2017.3 in /opt/conda/lib/python3.7/site-packages (from pandas->gradio) (2022.1)\r\n",
      "Requirement already satisfied: h11>=0.8 in /opt/conda/lib/python3.7/site-packages (from uvicorn>=0.14.0->gradio) (0.14.0)\r\n",
      "Requirement already satisfied: click>=7.0 in /opt/conda/lib/python3.7/site-packages (from uvicorn>=0.14.0->gradio) (8.1.3)\r\n",
      "Requirement already satisfied: multidict<7.0,>=4.5 in /opt/conda/lib/python3.7/site-packages (from aiohttp->gradio) (6.0.2)\r\n",
      "Requirement already satisfied: charset-normalizer<3.0,>=2.0 in /opt/conda/lib/python3.7/site-packages (from aiohttp->gradio) (2.1.0)\r\n",
      "Requirement already satisfied: attrs>=17.3.0 in /opt/conda/lib/python3.7/site-packages (from aiohttp->gradio) (21.4.0)\r\n",
      "Requirement already satisfied: async-timeout<5.0,>=4.0.0a3 in /opt/conda/lib/python3.7/site-packages (from aiohttp->gradio) (4.0.2)\r\n",
      "Requirement already satisfied: frozenlist>=1.1.1 in /opt/conda/lib/python3.7/site-packages (from aiohttp->gradio) (1.3.0)\r\n",
      "Requirement already satisfied: aiosignal>=1.1.2 in /opt/conda/lib/python3.7/site-packages (from aiohttp->gradio) (1.2.0)\r\n",
      "Requirement already satisfied: asynctest==0.13.0 in /opt/conda/lib/python3.7/site-packages (from aiohttp->gradio) (0.13.0)\r\n",
      "Requirement already satisfied: yarl<2.0,>=1.0 in /opt/conda/lib/python3.7/site-packages (from aiohttp->gradio) (1.7.2)\r\n",
      "Requirement already satisfied: starlette==0.22.0 in /opt/conda/lib/python3.7/site-packages (from fastapi->gradio) (0.22.0)\r\n",
      "Requirement already satisfied: anyio<5,>=3.4.0 in /opt/conda/lib/python3.7/site-packages (from starlette==0.22.0->fastapi->gradio) (3.6.1)\r\n",
      "Requirement already satisfied: certifi in /opt/conda/lib/python3.7/site-packages (from httpx->gradio) (2022.12.7)\r\n",
      "Requirement already satisfied: sniffio in /opt/conda/lib/python3.7/site-packages (from httpx->gradio) (1.2.0)\r\n",
      "Requirement already satisfied: idna in /opt/conda/lib/python3.7/site-packages (from httpx->gradio) (3.3)\r\n",
      "Collecting httpcore<0.18.0,>=0.15.0\r\n",
      "  Downloading httpcore-0.17.3-py3-none-any.whl (74 kB)\r\n",
      "\u001b[2K     \u001b[90m━━━━━━━━━━━━━━━━━━━━━━━━━━━━━━━━━━━━━━━━\u001b[0m \u001b[32m74.5/74.5 kB\u001b[0m \u001b[31m8.8 MB/s\u001b[0m eta \u001b[36m0:00:00\u001b[0m\r\n",
      "\u001b[?25hRequirement already satisfied: cycler>=0.10 in /opt/conda/lib/python3.7/site-packages (from matplotlib->gradio) (0.11.0)\r\n",
      "Requirement already satisfied: kiwisolver>=1.0.1 in /opt/conda/lib/python3.7/site-packages (from matplotlib->gradio) (1.4.3)\r\n",
      "Requirement already satisfied: pyparsing>=2.2.1 in /opt/conda/lib/python3.7/site-packages (from matplotlib->gradio) (3.0.9)\r\n",
      "Requirement already satisfied: fonttools>=4.22.0 in /opt/conda/lib/python3.7/site-packages (from matplotlib->gradio) (4.33.3)\r\n",
      "Requirement already satisfied: urllib3<1.27,>=1.21.1 in /opt/conda/lib/python3.7/site-packages (from requests->gradio) (1.26.13)\r\n",
      "Requirement already satisfied: importlib-resources>=1.4.0 in /opt/conda/lib/python3.7/site-packages (from jsonschema>=3.0->altair>=4.2.0->gradio) (5.10.2)\r\n",
      "Requirement already satisfied: pyrsistent!=0.17.0,!=0.17.1,!=0.17.2,>=0.14.0 in /opt/conda/lib/python3.7/site-packages (from jsonschema>=3.0->altair>=4.2.0->gradio) (0.18.1)\r\n",
      "Collecting uc-micro-py\r\n",
      "  Downloading uc_micro_py-1.0.3-py3-none-any.whl (6.2 kB)\r\n",
      "Requirement already satisfied: six>=1.5 in /opt/conda/lib/python3.7/site-packages (from python-dateutil>=2.7.3->pandas->gradio) (1.15.0)\r\n",
      "Requirement already satisfied: zipp>=0.5 in /opt/conda/lib/python3.7/site-packages (from importlib-metadata->huggingface-hub>=0.14.0->gradio) (3.8.0)\r\n",
      "Building wheels for collected packages: ffmpy\r\n",
      "  Building wheel for ffmpy (setup.py) ... \u001b[?25l-\b \b\\\b \bdone\r\n",
      "\u001b[?25h  Created wheel for ffmpy: filename=ffmpy-0.3.2-py3-none-any.whl size=5600 sha256=dd417eb6e7228682137645a8df2458092d241a0d3bcecde5c940695f8b88bb67\r\n",
      "  Stored in directory: /root/.cache/pip/wheels/81/c3/08/a4932aee56b934891932e4a1b189604f27d3d4e92b2ecd5ed4\r\n",
      "Successfully built ffmpy\r\n",
      "Installing collected packages: ffmpy, uc-micro-py, semantic-version, python-multipart, aiofiles, linkify-it-py, huggingface-hub, httpcore, httpx, gradio-client, gradio\r\n",
      "  Attempting uninstall: huggingface-hub\r\n",
      "    Found existing installation: huggingface-hub 0.10.1\r\n",
      "    Uninstalling huggingface-hub-0.10.1:\r\n",
      "      Successfully uninstalled huggingface-hub-0.10.1\r\n",
      "\u001b[31mERROR: pip's dependency resolver does not currently take into account all the packages that are installed. This behaviour is the source of the following dependency conflicts.\r\n",
      "cached-path 1.1.6 requires huggingface-hub<0.11.0,>=0.8.1, but you have huggingface-hub 0.16.4 which is incompatible.\u001b[0m\u001b[31m\r\n",
      "\u001b[0mSuccessfully installed aiofiles-23.2.1 ffmpy-0.3.2 gradio-3.34.0 gradio-client-0.2.6 httpcore-0.17.3 httpx-0.24.1 huggingface-hub-0.16.4 linkify-it-py-1.0.3 python-multipart-0.0.8 semantic-version-2.10.0 uc-micro-py-1.0.3\r\n",
      "\u001b[33mWARNING: Running pip as the 'root' user can result in broken permissions and conflicting behaviour with the system package manager. It is recommended to use a virtual environment instead: https://pip.pypa.io/warnings/venv\u001b[0m\u001b[33m\r\n",
      "\u001b[0m"
     ]
    }
   ],
   "source": [
    "# Install Gradio for GUI\n",
    "!pip install gradio\n",
    "\n",
    "# Import libraries\n",
    "import pandas as pd \n",
    "import tensorflow as tf \n",
    "import numpy as np\n",
    "import seaborn as sns\n",
    "import matplotlib.pyplot as plt\n",
    "import re\n",
    "import gradio as gr\n",
    "from tensorflow.keras.layers import TextVectorization\n",
    "from tensorflow.keras.models import Sequential\n",
    "from tensorflow.keras.layers import LSTM, Dropout, Bidirectional, Dense, Embedding\n",
    "\n",
    "# Import warnings and ignore warnings for cleaner outputs\n",
    "import warnings\n",
    "warnings.filterwarnings('ignore')"
   ]
  },
  {
   "cell_type": "markdown",
   "id": "a80d7de1",
   "metadata": {
    "papermill": {
     "duration": 0.034006,
     "end_time": "2024-04-01T23:29:01.438859",
     "exception": false,
     "start_time": "2024-04-01T23:29:01.404853",
     "status": "completed"
    },
    "tags": []
   },
   "source": [
    "# 2. Read the Dataset"
   ]
  },
  {
   "cell_type": "markdown",
   "id": "40b7da41",
   "metadata": {
    "papermill": {
     "duration": 0.033863,
     "end_time": "2024-04-01T23:29:01.507429",
     "exception": false,
     "start_time": "2024-04-01T23:29:01.473566",
     "status": "completed"
    },
    "tags": []
   },
   "source": [
    "**Read the Train CSV using Pandas Library**"
   ]
  },
  {
   "cell_type": "code",
   "execution_count": 2,
   "id": "2c0edc4d",
   "metadata": {
    "execution": {
     "iopub.execute_input": "2024-04-01T23:29:01.577545Z",
     "iopub.status.busy": "2024-04-01T23:29:01.576841Z",
     "iopub.status.idle": "2024-04-01T23:29:03.478821Z",
     "shell.execute_reply": "2024-04-01T23:29:03.477886Z"
    },
    "papermill": {
     "duration": 1.939682,
     "end_time": "2024-04-01T23:29:03.481345",
     "exception": false,
     "start_time": "2024-04-01T23:29:01.541663",
     "status": "completed"
    },
    "tags": [],
    "vscode": {
     "languageId": "python"
    }
   },
   "outputs": [],
   "source": [
    "# Dataset from: https://www.kaggle.com/datasets/julian3833/jigsaw-toxic-comment-classification-challenge\n",
    "\n",
    "df = pd.read_csv(\"../input/jigsaw-toxic-comment-classification-challenge/train.csv\")"
   ]
  },
  {
   "cell_type": "markdown",
   "id": "df1f3901",
   "metadata": {
    "papermill": {
     "duration": 0.033573,
     "end_time": "2024-04-01T23:29:03.549421",
     "exception": false,
     "start_time": "2024-04-01T23:29:03.515848",
     "status": "completed"
    },
    "tags": []
   },
   "source": [
    "**Print the first 10 rows of the Comments Dataset**"
   ]
  },
  {
   "cell_type": "code",
   "execution_count": 3,
   "id": "01b8689d",
   "metadata": {
    "execution": {
     "iopub.execute_input": "2024-04-01T23:29:03.619082Z",
     "iopub.status.busy": "2024-04-01T23:29:03.618669Z",
     "iopub.status.idle": "2024-04-01T23:29:03.640669Z",
     "shell.execute_reply": "2024-04-01T23:29:03.639684Z"
    },
    "papermill": {
     "duration": 0.059731,
     "end_time": "2024-04-01T23:29:03.642847",
     "exception": false,
     "start_time": "2024-04-01T23:29:03.583116",
     "status": "completed"
    },
    "tags": [],
    "vscode": {
     "languageId": "python"
    }
   },
   "outputs": [
    {
     "data": {
      "text/html": [
       "<div>\n",
       "<style scoped>\n",
       "    .dataframe tbody tr th:only-of-type {\n",
       "        vertical-align: middle;\n",
       "    }\n",
       "\n",
       "    .dataframe tbody tr th {\n",
       "        vertical-align: top;\n",
       "    }\n",
       "\n",
       "    .dataframe thead th {\n",
       "        text-align: right;\n",
       "    }\n",
       "</style>\n",
       "<table border=\"1\" class=\"dataframe\">\n",
       "  <thead>\n",
       "    <tr style=\"text-align: right;\">\n",
       "      <th></th>\n",
       "      <th>id</th>\n",
       "      <th>comment_text</th>\n",
       "      <th>toxic</th>\n",
       "      <th>severe_toxic</th>\n",
       "      <th>obscene</th>\n",
       "      <th>threat</th>\n",
       "      <th>insult</th>\n",
       "      <th>identity_hate</th>\n",
       "    </tr>\n",
       "  </thead>\n",
       "  <tbody>\n",
       "    <tr>\n",
       "      <th>0</th>\n",
       "      <td>0000997932d777bf</td>\n",
       "      <td>Explanation\\nWhy the edits made under my usern...</td>\n",
       "      <td>0</td>\n",
       "      <td>0</td>\n",
       "      <td>0</td>\n",
       "      <td>0</td>\n",
       "      <td>0</td>\n",
       "      <td>0</td>\n",
       "    </tr>\n",
       "    <tr>\n",
       "      <th>1</th>\n",
       "      <td>000103f0d9cfb60f</td>\n",
       "      <td>D'aww! He matches this background colour I'm s...</td>\n",
       "      <td>0</td>\n",
       "      <td>0</td>\n",
       "      <td>0</td>\n",
       "      <td>0</td>\n",
       "      <td>0</td>\n",
       "      <td>0</td>\n",
       "    </tr>\n",
       "    <tr>\n",
       "      <th>2</th>\n",
       "      <td>000113f07ec002fd</td>\n",
       "      <td>Hey man, I'm really not trying to edit war. It...</td>\n",
       "      <td>0</td>\n",
       "      <td>0</td>\n",
       "      <td>0</td>\n",
       "      <td>0</td>\n",
       "      <td>0</td>\n",
       "      <td>0</td>\n",
       "    </tr>\n",
       "    <tr>\n",
       "      <th>3</th>\n",
       "      <td>0001b41b1c6bb37e</td>\n",
       "      <td>\"\\nMore\\nI can't make any real suggestions on ...</td>\n",
       "      <td>0</td>\n",
       "      <td>0</td>\n",
       "      <td>0</td>\n",
       "      <td>0</td>\n",
       "      <td>0</td>\n",
       "      <td>0</td>\n",
       "    </tr>\n",
       "    <tr>\n",
       "      <th>4</th>\n",
       "      <td>0001d958c54c6e35</td>\n",
       "      <td>You, sir, are my hero. Any chance you remember...</td>\n",
       "      <td>0</td>\n",
       "      <td>0</td>\n",
       "      <td>0</td>\n",
       "      <td>0</td>\n",
       "      <td>0</td>\n",
       "      <td>0</td>\n",
       "    </tr>\n",
       "    <tr>\n",
       "      <th>5</th>\n",
       "      <td>00025465d4725e87</td>\n",
       "      <td>\"\\n\\nCongratulations from me as well, use the ...</td>\n",
       "      <td>0</td>\n",
       "      <td>0</td>\n",
       "      <td>0</td>\n",
       "      <td>0</td>\n",
       "      <td>0</td>\n",
       "      <td>0</td>\n",
       "    </tr>\n",
       "    <tr>\n",
       "      <th>6</th>\n",
       "      <td>0002bcb3da6cb337</td>\n",
       "      <td>COCKSUCKER BEFORE YOU PISS AROUND ON MY WORK</td>\n",
       "      <td>1</td>\n",
       "      <td>1</td>\n",
       "      <td>1</td>\n",
       "      <td>0</td>\n",
       "      <td>1</td>\n",
       "      <td>0</td>\n",
       "    </tr>\n",
       "    <tr>\n",
       "      <th>7</th>\n",
       "      <td>00031b1e95af7921</td>\n",
       "      <td>Your vandalism to the Matt Shirvington article...</td>\n",
       "      <td>0</td>\n",
       "      <td>0</td>\n",
       "      <td>0</td>\n",
       "      <td>0</td>\n",
       "      <td>0</td>\n",
       "      <td>0</td>\n",
       "    </tr>\n",
       "    <tr>\n",
       "      <th>8</th>\n",
       "      <td>00037261f536c51d</td>\n",
       "      <td>Sorry if the word 'nonsense' was offensive to ...</td>\n",
       "      <td>0</td>\n",
       "      <td>0</td>\n",
       "      <td>0</td>\n",
       "      <td>0</td>\n",
       "      <td>0</td>\n",
       "      <td>0</td>\n",
       "    </tr>\n",
       "    <tr>\n",
       "      <th>9</th>\n",
       "      <td>00040093b2687caa</td>\n",
       "      <td>alignment on this subject and which are contra...</td>\n",
       "      <td>0</td>\n",
       "      <td>0</td>\n",
       "      <td>0</td>\n",
       "      <td>0</td>\n",
       "      <td>0</td>\n",
       "      <td>0</td>\n",
       "    </tr>\n",
       "  </tbody>\n",
       "</table>\n",
       "</div>"
      ],
      "text/plain": [
       "                 id                                       comment_text  toxic  \\\n",
       "0  0000997932d777bf  Explanation\\nWhy the edits made under my usern...      0   \n",
       "1  000103f0d9cfb60f  D'aww! He matches this background colour I'm s...      0   \n",
       "2  000113f07ec002fd  Hey man, I'm really not trying to edit war. It...      0   \n",
       "3  0001b41b1c6bb37e  \"\\nMore\\nI can't make any real suggestions on ...      0   \n",
       "4  0001d958c54c6e35  You, sir, are my hero. Any chance you remember...      0   \n",
       "5  00025465d4725e87  \"\\n\\nCongratulations from me as well, use the ...      0   \n",
       "6  0002bcb3da6cb337       COCKSUCKER BEFORE YOU PISS AROUND ON MY WORK      1   \n",
       "7  00031b1e95af7921  Your vandalism to the Matt Shirvington article...      0   \n",
       "8  00037261f536c51d  Sorry if the word 'nonsense' was offensive to ...      0   \n",
       "9  00040093b2687caa  alignment on this subject and which are contra...      0   \n",
       "\n",
       "   severe_toxic  obscene  threat  insult  identity_hate  \n",
       "0             0        0       0       0              0  \n",
       "1             0        0       0       0              0  \n",
       "2             0        0       0       0              0  \n",
       "3             0        0       0       0              0  \n",
       "4             0        0       0       0              0  \n",
       "5             0        0       0       0              0  \n",
       "6             1        1       0       1              0  \n",
       "7             0        0       0       0              0  \n",
       "8             0        0       0       0              0  \n",
       "9             0        0       0       0              0  "
      ]
     },
     "execution_count": 3,
     "metadata": {},
     "output_type": "execute_result"
    }
   ],
   "source": [
    "df.head(10)"
   ]
  },
  {
   "cell_type": "markdown",
   "id": "52e8da8b",
   "metadata": {
    "papermill": {
     "duration": 0.034953,
     "end_time": "2024-04-01T23:29:03.712658",
     "exception": false,
     "start_time": "2024-04-01T23:29:03.677705",
     "status": "completed"
    },
    "tags": []
   },
   "source": [
    "**Print the last 10 rows of the Comments Dataset**"
   ]
  },
  {
   "cell_type": "code",
   "execution_count": 4,
   "id": "57bc92d3",
   "metadata": {
    "execution": {
     "iopub.execute_input": "2024-04-01T23:29:03.782963Z",
     "iopub.status.busy": "2024-04-01T23:29:03.782565Z",
     "iopub.status.idle": "2024-04-01T23:29:03.795902Z",
     "shell.execute_reply": "2024-04-01T23:29:03.795032Z"
    },
    "papermill": {
     "duration": 0.050767,
     "end_time": "2024-04-01T23:29:03.798024",
     "exception": false,
     "start_time": "2024-04-01T23:29:03.747257",
     "status": "completed"
    },
    "tags": [],
    "vscode": {
     "languageId": "python"
    }
   },
   "outputs": [
    {
     "data": {
      "text/html": [
       "<div>\n",
       "<style scoped>\n",
       "    .dataframe tbody tr th:only-of-type {\n",
       "        vertical-align: middle;\n",
       "    }\n",
       "\n",
       "    .dataframe tbody tr th {\n",
       "        vertical-align: top;\n",
       "    }\n",
       "\n",
       "    .dataframe thead th {\n",
       "        text-align: right;\n",
       "    }\n",
       "</style>\n",
       "<table border=\"1\" class=\"dataframe\">\n",
       "  <thead>\n",
       "    <tr style=\"text-align: right;\">\n",
       "      <th></th>\n",
       "      <th>id</th>\n",
       "      <th>comment_text</th>\n",
       "      <th>toxic</th>\n",
       "      <th>severe_toxic</th>\n",
       "      <th>obscene</th>\n",
       "      <th>threat</th>\n",
       "      <th>insult</th>\n",
       "      <th>identity_hate</th>\n",
       "    </tr>\n",
       "  </thead>\n",
       "  <tbody>\n",
       "    <tr>\n",
       "      <th>159561</th>\n",
       "      <td>ffd2e85b07b3c7e4</td>\n",
       "      <td>\"\\nNo he did not, read it again (I would have ...</td>\n",
       "      <td>0</td>\n",
       "      <td>0</td>\n",
       "      <td>0</td>\n",
       "      <td>0</td>\n",
       "      <td>0</td>\n",
       "      <td>0</td>\n",
       "    </tr>\n",
       "    <tr>\n",
       "      <th>159562</th>\n",
       "      <td>ffd72e9766c09c97</td>\n",
       "      <td>\"\\n Auto guides and the motoring press are not...</td>\n",
       "      <td>0</td>\n",
       "      <td>0</td>\n",
       "      <td>0</td>\n",
       "      <td>0</td>\n",
       "      <td>0</td>\n",
       "      <td>0</td>\n",
       "    </tr>\n",
       "    <tr>\n",
       "      <th>159563</th>\n",
       "      <td>ffe029a7c79dc7fe</td>\n",
       "      <td>\"\\nplease identify what part of BLP applies be...</td>\n",
       "      <td>0</td>\n",
       "      <td>0</td>\n",
       "      <td>0</td>\n",
       "      <td>0</td>\n",
       "      <td>0</td>\n",
       "      <td>0</td>\n",
       "    </tr>\n",
       "    <tr>\n",
       "      <th>159564</th>\n",
       "      <td>ffe897e7f7182c90</td>\n",
       "      <td>Catalan independentism is the social movement ...</td>\n",
       "      <td>0</td>\n",
       "      <td>0</td>\n",
       "      <td>0</td>\n",
       "      <td>0</td>\n",
       "      <td>0</td>\n",
       "      <td>0</td>\n",
       "    </tr>\n",
       "    <tr>\n",
       "      <th>159565</th>\n",
       "      <td>ffe8b9316245be30</td>\n",
       "      <td>The numbers in parentheses are the additional ...</td>\n",
       "      <td>0</td>\n",
       "      <td>0</td>\n",
       "      <td>0</td>\n",
       "      <td>0</td>\n",
       "      <td>0</td>\n",
       "      <td>0</td>\n",
       "    </tr>\n",
       "    <tr>\n",
       "      <th>159566</th>\n",
       "      <td>ffe987279560d7ff</td>\n",
       "      <td>\":::::And for the second time of asking, when ...</td>\n",
       "      <td>0</td>\n",
       "      <td>0</td>\n",
       "      <td>0</td>\n",
       "      <td>0</td>\n",
       "      <td>0</td>\n",
       "      <td>0</td>\n",
       "    </tr>\n",
       "    <tr>\n",
       "      <th>159567</th>\n",
       "      <td>ffea4adeee384e90</td>\n",
       "      <td>You should be ashamed of yourself \\n\\nThat is ...</td>\n",
       "      <td>0</td>\n",
       "      <td>0</td>\n",
       "      <td>0</td>\n",
       "      <td>0</td>\n",
       "      <td>0</td>\n",
       "      <td>0</td>\n",
       "    </tr>\n",
       "    <tr>\n",
       "      <th>159568</th>\n",
       "      <td>ffee36eab5c267c9</td>\n",
       "      <td>Spitzer \\n\\nUmm, theres no actual article for ...</td>\n",
       "      <td>0</td>\n",
       "      <td>0</td>\n",
       "      <td>0</td>\n",
       "      <td>0</td>\n",
       "      <td>0</td>\n",
       "      <td>0</td>\n",
       "    </tr>\n",
       "    <tr>\n",
       "      <th>159569</th>\n",
       "      <td>fff125370e4aaaf3</td>\n",
       "      <td>And it looks like it was actually you who put ...</td>\n",
       "      <td>0</td>\n",
       "      <td>0</td>\n",
       "      <td>0</td>\n",
       "      <td>0</td>\n",
       "      <td>0</td>\n",
       "      <td>0</td>\n",
       "    </tr>\n",
       "    <tr>\n",
       "      <th>159570</th>\n",
       "      <td>fff46fc426af1f9a</td>\n",
       "      <td>\"\\nAnd ... I really don't think you understand...</td>\n",
       "      <td>0</td>\n",
       "      <td>0</td>\n",
       "      <td>0</td>\n",
       "      <td>0</td>\n",
       "      <td>0</td>\n",
       "      <td>0</td>\n",
       "    </tr>\n",
       "  </tbody>\n",
       "</table>\n",
       "</div>"
      ],
      "text/plain": [
       "                      id                                       comment_text  \\\n",
       "159561  ffd2e85b07b3c7e4  \"\\nNo he did not, read it again (I would have ...   \n",
       "159562  ffd72e9766c09c97  \"\\n Auto guides and the motoring press are not...   \n",
       "159563  ffe029a7c79dc7fe  \"\\nplease identify what part of BLP applies be...   \n",
       "159564  ffe897e7f7182c90  Catalan independentism is the social movement ...   \n",
       "159565  ffe8b9316245be30  The numbers in parentheses are the additional ...   \n",
       "159566  ffe987279560d7ff  \":::::And for the second time of asking, when ...   \n",
       "159567  ffea4adeee384e90  You should be ashamed of yourself \\n\\nThat is ...   \n",
       "159568  ffee36eab5c267c9  Spitzer \\n\\nUmm, theres no actual article for ...   \n",
       "159569  fff125370e4aaaf3  And it looks like it was actually you who put ...   \n",
       "159570  fff46fc426af1f9a  \"\\nAnd ... I really don't think you understand...   \n",
       "\n",
       "        toxic  severe_toxic  obscene  threat  insult  identity_hate  \n",
       "159561      0             0        0       0       0              0  \n",
       "159562      0             0        0       0       0              0  \n",
       "159563      0             0        0       0       0              0  \n",
       "159564      0             0        0       0       0              0  \n",
       "159565      0             0        0       0       0              0  \n",
       "159566      0             0        0       0       0              0  \n",
       "159567      0             0        0       0       0              0  \n",
       "159568      0             0        0       0       0              0  \n",
       "159569      0             0        0       0       0              0  \n",
       "159570      0             0        0       0       0              0  "
      ]
     },
     "execution_count": 4,
     "metadata": {},
     "output_type": "execute_result"
    }
   ],
   "source": [
    "df.tail(10)"
   ]
  },
  {
   "cell_type": "markdown",
   "id": "97140761",
   "metadata": {
    "papermill": {
     "duration": 0.033984,
     "end_time": "2024-04-01T23:29:03.866526",
     "exception": false,
     "start_time": "2024-04-01T23:29:03.832542",
     "status": "completed"
    },
    "tags": []
   },
   "source": [
    "**Print the Toxicity Criteria that will be used for the model**"
   ]
  },
  {
   "cell_type": "code",
   "execution_count": 5,
   "id": "25a10d11",
   "metadata": {
    "execution": {
     "iopub.execute_input": "2024-04-01T23:29:03.937724Z",
     "iopub.status.busy": "2024-04-01T23:29:03.936902Z",
     "iopub.status.idle": "2024-04-01T23:29:03.943116Z",
     "shell.execute_reply": "2024-04-01T23:29:03.942166Z"
    },
    "papermill": {
     "duration": 0.044364,
     "end_time": "2024-04-01T23:29:03.945461",
     "exception": false,
     "start_time": "2024-04-01T23:29:03.901097",
     "status": "completed"
    },
    "tags": [],
    "vscode": {
     "languageId": "python"
    }
   },
   "outputs": [
    {
     "name": "stdout",
     "output_type": "stream",
     "text": [
      "['toxic', 'severe_toxic', 'obscene', 'threat', 'insult', 'identity_hate']\n"
     ]
    }
   ],
   "source": [
    "# List for toxicity criteria\n",
    "toxicity_criteria = []; \n",
    "\n",
    "# For loop for getting the columns in dataset\n",
    "for col in df.columns:\n",
    "    \n",
    "    # Add column name in toxicity criteria list\n",
    "    toxicity_criteria.append(col)\n",
    "    \n",
    "# Delete the first two column names since it is not part of toxicity criteria\n",
    "# Deleted columns: id and comment_text\n",
    "del toxicity_criteria[:2] \n",
    "\n",
    "# Print the toxicity criteria list\n",
    "print(toxicity_criteria)"
   ]
  },
  {
   "cell_type": "markdown",
   "id": "c608ec9f",
   "metadata": {
    "papermill": {
     "duration": 0.034512,
     "end_time": "2024-04-01T23:29:04.014481",
     "exception": false,
     "start_time": "2024-04-01T23:29:03.979969",
     "status": "completed"
    },
    "tags": []
   },
   "source": [
    "**Get the Data Correlation of Toxicity Criteria using corr() Function**"
   ]
  },
  {
   "cell_type": "code",
   "execution_count": 6,
   "id": "31740dae",
   "metadata": {
    "execution": {
     "iopub.execute_input": "2024-04-01T23:29:04.086575Z",
     "iopub.status.busy": "2024-04-01T23:29:04.085641Z",
     "iopub.status.idle": "2024-04-01T23:29:04.126544Z",
     "shell.execute_reply": "2024-04-01T23:29:04.125377Z"
    },
    "papermill": {
     "duration": 0.079455,
     "end_time": "2024-04-01T23:29:04.128921",
     "exception": false,
     "start_time": "2024-04-01T23:29:04.049466",
     "status": "completed"
    },
    "tags": [],
    "vscode": {
     "languageId": "python"
    }
   },
   "outputs": [
    {
     "data": {
      "text/html": [
       "<div>\n",
       "<style scoped>\n",
       "    .dataframe tbody tr th:only-of-type {\n",
       "        vertical-align: middle;\n",
       "    }\n",
       "\n",
       "    .dataframe tbody tr th {\n",
       "        vertical-align: top;\n",
       "    }\n",
       "\n",
       "    .dataframe thead th {\n",
       "        text-align: right;\n",
       "    }\n",
       "</style>\n",
       "<table border=\"1\" class=\"dataframe\">\n",
       "  <thead>\n",
       "    <tr style=\"text-align: right;\">\n",
       "      <th></th>\n",
       "      <th>toxic</th>\n",
       "      <th>severe_toxic</th>\n",
       "      <th>obscene</th>\n",
       "      <th>threat</th>\n",
       "      <th>insult</th>\n",
       "      <th>identity_hate</th>\n",
       "    </tr>\n",
       "  </thead>\n",
       "  <tbody>\n",
       "    <tr>\n",
       "      <th>toxic</th>\n",
       "      <td>1.000000</td>\n",
       "      <td>0.308619</td>\n",
       "      <td>0.676515</td>\n",
       "      <td>0.157058</td>\n",
       "      <td>0.647518</td>\n",
       "      <td>0.266009</td>\n",
       "    </tr>\n",
       "    <tr>\n",
       "      <th>severe_toxic</th>\n",
       "      <td>0.308619</td>\n",
       "      <td>1.000000</td>\n",
       "      <td>0.403014</td>\n",
       "      <td>0.123601</td>\n",
       "      <td>0.375807</td>\n",
       "      <td>0.201600</td>\n",
       "    </tr>\n",
       "    <tr>\n",
       "      <th>obscene</th>\n",
       "      <td>0.676515</td>\n",
       "      <td>0.403014</td>\n",
       "      <td>1.000000</td>\n",
       "      <td>0.141179</td>\n",
       "      <td>0.741272</td>\n",
       "      <td>0.286867</td>\n",
       "    </tr>\n",
       "    <tr>\n",
       "      <th>threat</th>\n",
       "      <td>0.157058</td>\n",
       "      <td>0.123601</td>\n",
       "      <td>0.141179</td>\n",
       "      <td>1.000000</td>\n",
       "      <td>0.150022</td>\n",
       "      <td>0.115128</td>\n",
       "    </tr>\n",
       "    <tr>\n",
       "      <th>insult</th>\n",
       "      <td>0.647518</td>\n",
       "      <td>0.375807</td>\n",
       "      <td>0.741272</td>\n",
       "      <td>0.150022</td>\n",
       "      <td>1.000000</td>\n",
       "      <td>0.337736</td>\n",
       "    </tr>\n",
       "    <tr>\n",
       "      <th>identity_hate</th>\n",
       "      <td>0.266009</td>\n",
       "      <td>0.201600</td>\n",
       "      <td>0.286867</td>\n",
       "      <td>0.115128</td>\n",
       "      <td>0.337736</td>\n",
       "      <td>1.000000</td>\n",
       "    </tr>\n",
       "  </tbody>\n",
       "</table>\n",
       "</div>"
      ],
      "text/plain": [
       "                  toxic  severe_toxic   obscene    threat    insult  \\\n",
       "toxic          1.000000      0.308619  0.676515  0.157058  0.647518   \n",
       "severe_toxic   0.308619      1.000000  0.403014  0.123601  0.375807   \n",
       "obscene        0.676515      0.403014  1.000000  0.141179  0.741272   \n",
       "threat         0.157058      0.123601  0.141179  1.000000  0.150022   \n",
       "insult         0.647518      0.375807  0.741272  0.150022  1.000000   \n",
       "identity_hate  0.266009      0.201600  0.286867  0.115128  0.337736   \n",
       "\n",
       "               identity_hate  \n",
       "toxic               0.266009  \n",
       "severe_toxic        0.201600  \n",
       "obscene             0.286867  \n",
       "threat              0.115128  \n",
       "insult              0.337736  \n",
       "identity_hate       1.000000  "
      ]
     },
     "execution_count": 6,
     "metadata": {},
     "output_type": "execute_result"
    }
   ],
   "source": [
    "df.corr()"
   ]
  },
  {
   "cell_type": "markdown",
   "id": "d1b03e5c",
   "metadata": {
    "papermill": {
     "duration": 0.034708,
     "end_time": "2024-04-01T23:29:04.203585",
     "exception": false,
     "start_time": "2024-04-01T23:29:04.168877",
     "status": "completed"
    },
    "tags": []
   },
   "source": [
    "**Display the Comments Dataset Description using describe() Function**"
   ]
  },
  {
   "cell_type": "code",
   "execution_count": 7,
   "id": "d56c85c5",
   "metadata": {
    "execution": {
     "iopub.execute_input": "2024-04-01T23:29:04.279176Z",
     "iopub.status.busy": "2024-04-01T23:29:04.278127Z",
     "iopub.status.idle": "2024-04-01T23:29:04.331214Z",
     "shell.execute_reply": "2024-04-01T23:29:04.330254Z"
    },
    "papermill": {
     "duration": 0.092868,
     "end_time": "2024-04-01T23:29:04.333581",
     "exception": false,
     "start_time": "2024-04-01T23:29:04.240713",
     "status": "completed"
    },
    "tags": [],
    "vscode": {
     "languageId": "python"
    }
   },
   "outputs": [
    {
     "data": {
      "text/html": [
       "<div>\n",
       "<style scoped>\n",
       "    .dataframe tbody tr th:only-of-type {\n",
       "        vertical-align: middle;\n",
       "    }\n",
       "\n",
       "    .dataframe tbody tr th {\n",
       "        vertical-align: top;\n",
       "    }\n",
       "\n",
       "    .dataframe thead th {\n",
       "        text-align: right;\n",
       "    }\n",
       "</style>\n",
       "<table border=\"1\" class=\"dataframe\">\n",
       "  <thead>\n",
       "    <tr style=\"text-align: right;\">\n",
       "      <th></th>\n",
       "      <th>toxic</th>\n",
       "      <th>severe_toxic</th>\n",
       "      <th>obscene</th>\n",
       "      <th>threat</th>\n",
       "      <th>insult</th>\n",
       "      <th>identity_hate</th>\n",
       "    </tr>\n",
       "  </thead>\n",
       "  <tbody>\n",
       "    <tr>\n",
       "      <th>count</th>\n",
       "      <td>159571.000000</td>\n",
       "      <td>159571.000000</td>\n",
       "      <td>159571.000000</td>\n",
       "      <td>159571.000000</td>\n",
       "      <td>159571.000000</td>\n",
       "      <td>159571.000000</td>\n",
       "    </tr>\n",
       "    <tr>\n",
       "      <th>mean</th>\n",
       "      <td>0.095844</td>\n",
       "      <td>0.009996</td>\n",
       "      <td>0.052948</td>\n",
       "      <td>0.002996</td>\n",
       "      <td>0.049364</td>\n",
       "      <td>0.008805</td>\n",
       "    </tr>\n",
       "    <tr>\n",
       "      <th>std</th>\n",
       "      <td>0.294379</td>\n",
       "      <td>0.099477</td>\n",
       "      <td>0.223931</td>\n",
       "      <td>0.054650</td>\n",
       "      <td>0.216627</td>\n",
       "      <td>0.093420</td>\n",
       "    </tr>\n",
       "    <tr>\n",
       "      <th>min</th>\n",
       "      <td>0.000000</td>\n",
       "      <td>0.000000</td>\n",
       "      <td>0.000000</td>\n",
       "      <td>0.000000</td>\n",
       "      <td>0.000000</td>\n",
       "      <td>0.000000</td>\n",
       "    </tr>\n",
       "    <tr>\n",
       "      <th>25%</th>\n",
       "      <td>0.000000</td>\n",
       "      <td>0.000000</td>\n",
       "      <td>0.000000</td>\n",
       "      <td>0.000000</td>\n",
       "      <td>0.000000</td>\n",
       "      <td>0.000000</td>\n",
       "    </tr>\n",
       "    <tr>\n",
       "      <th>50%</th>\n",
       "      <td>0.000000</td>\n",
       "      <td>0.000000</td>\n",
       "      <td>0.000000</td>\n",
       "      <td>0.000000</td>\n",
       "      <td>0.000000</td>\n",
       "      <td>0.000000</td>\n",
       "    </tr>\n",
       "    <tr>\n",
       "      <th>75%</th>\n",
       "      <td>0.000000</td>\n",
       "      <td>0.000000</td>\n",
       "      <td>0.000000</td>\n",
       "      <td>0.000000</td>\n",
       "      <td>0.000000</td>\n",
       "      <td>0.000000</td>\n",
       "    </tr>\n",
       "    <tr>\n",
       "      <th>max</th>\n",
       "      <td>1.000000</td>\n",
       "      <td>1.000000</td>\n",
       "      <td>1.000000</td>\n",
       "      <td>1.000000</td>\n",
       "      <td>1.000000</td>\n",
       "      <td>1.000000</td>\n",
       "    </tr>\n",
       "  </tbody>\n",
       "</table>\n",
       "</div>"
      ],
      "text/plain": [
       "               toxic   severe_toxic        obscene         threat  \\\n",
       "count  159571.000000  159571.000000  159571.000000  159571.000000   \n",
       "mean        0.095844       0.009996       0.052948       0.002996   \n",
       "std         0.294379       0.099477       0.223931       0.054650   \n",
       "min         0.000000       0.000000       0.000000       0.000000   \n",
       "25%         0.000000       0.000000       0.000000       0.000000   \n",
       "50%         0.000000       0.000000       0.000000       0.000000   \n",
       "75%         0.000000       0.000000       0.000000       0.000000   \n",
       "max         1.000000       1.000000       1.000000       1.000000   \n",
       "\n",
       "              insult  identity_hate  \n",
       "count  159571.000000  159571.000000  \n",
       "mean        0.049364       0.008805  \n",
       "std         0.216627       0.093420  \n",
       "min         0.000000       0.000000  \n",
       "25%         0.000000       0.000000  \n",
       "50%         0.000000       0.000000  \n",
       "75%         0.000000       0.000000  \n",
       "max         1.000000       1.000000  "
      ]
     },
     "execution_count": 7,
     "metadata": {},
     "output_type": "execute_result"
    }
   ],
   "source": [
    "df.describe()"
   ]
  },
  {
   "cell_type": "markdown",
   "id": "bb2b756f",
   "metadata": {
    "papermill": {
     "duration": 0.042223,
     "end_time": "2024-04-01T23:29:04.421594",
     "exception": false,
     "start_time": "2024-04-01T23:29:04.379371",
     "status": "completed"
    },
    "tags": []
   },
   "source": [
    "# 3. Clean Comment Texts"
   ]
  },
  {
   "cell_type": "markdown",
   "id": "c49a3b02",
   "metadata": {
    "papermill": {
     "duration": 0.035214,
     "end_time": "2024-04-01T23:29:04.492381",
     "exception": false,
     "start_time": "2024-04-01T23:29:04.457167",
     "status": "completed"
    },
    "tags": []
   },
   "source": [
    "**As you can see in the comment_text Column, it is messy and might be unreadable for the machine.**"
   ]
  },
  {
   "cell_type": "code",
   "execution_count": 8,
   "id": "59aac4ee",
   "metadata": {
    "execution": {
     "iopub.execute_input": "2024-04-01T23:29:04.579217Z",
     "iopub.status.busy": "2024-04-01T23:29:04.577987Z",
     "iopub.status.idle": "2024-04-01T23:29:04.596385Z",
     "shell.execute_reply": "2024-04-01T23:29:04.595141Z"
    },
    "papermill": {
     "duration": 0.07195,
     "end_time": "2024-04-01T23:29:04.599979",
     "exception": false,
     "start_time": "2024-04-01T23:29:04.528029",
     "status": "completed"
    },
    "tags": []
   },
   "outputs": [
    {
     "data": {
      "text/html": [
       "<div>\n",
       "<style scoped>\n",
       "    .dataframe tbody tr th:only-of-type {\n",
       "        vertical-align: middle;\n",
       "    }\n",
       "\n",
       "    .dataframe tbody tr th {\n",
       "        vertical-align: top;\n",
       "    }\n",
       "\n",
       "    .dataframe thead th {\n",
       "        text-align: right;\n",
       "    }\n",
       "</style>\n",
       "<table border=\"1\" class=\"dataframe\">\n",
       "  <thead>\n",
       "    <tr style=\"text-align: right;\">\n",
       "      <th></th>\n",
       "      <th>id</th>\n",
       "      <th>comment_text</th>\n",
       "      <th>toxic</th>\n",
       "      <th>severe_toxic</th>\n",
       "      <th>obscene</th>\n",
       "      <th>threat</th>\n",
       "      <th>insult</th>\n",
       "      <th>identity_hate</th>\n",
       "    </tr>\n",
       "  </thead>\n",
       "  <tbody>\n",
       "    <tr>\n",
       "      <th>0</th>\n",
       "      <td>0000997932d777bf</td>\n",
       "      <td>Explanation\\nWhy the edits made under my usern...</td>\n",
       "      <td>0</td>\n",
       "      <td>0</td>\n",
       "      <td>0</td>\n",
       "      <td>0</td>\n",
       "      <td>0</td>\n",
       "      <td>0</td>\n",
       "    </tr>\n",
       "    <tr>\n",
       "      <th>1</th>\n",
       "      <td>000103f0d9cfb60f</td>\n",
       "      <td>D'aww! He matches this background colour I'm s...</td>\n",
       "      <td>0</td>\n",
       "      <td>0</td>\n",
       "      <td>0</td>\n",
       "      <td>0</td>\n",
       "      <td>0</td>\n",
       "      <td>0</td>\n",
       "    </tr>\n",
       "    <tr>\n",
       "      <th>2</th>\n",
       "      <td>000113f07ec002fd</td>\n",
       "      <td>Hey man, I'm really not trying to edit war. It...</td>\n",
       "      <td>0</td>\n",
       "      <td>0</td>\n",
       "      <td>0</td>\n",
       "      <td>0</td>\n",
       "      <td>0</td>\n",
       "      <td>0</td>\n",
       "    </tr>\n",
       "    <tr>\n",
       "      <th>3</th>\n",
       "      <td>0001b41b1c6bb37e</td>\n",
       "      <td>\"\\nMore\\nI can't make any real suggestions on ...</td>\n",
       "      <td>0</td>\n",
       "      <td>0</td>\n",
       "      <td>0</td>\n",
       "      <td>0</td>\n",
       "      <td>0</td>\n",
       "      <td>0</td>\n",
       "    </tr>\n",
       "    <tr>\n",
       "      <th>4</th>\n",
       "      <td>0001d958c54c6e35</td>\n",
       "      <td>You, sir, are my hero. Any chance you remember...</td>\n",
       "      <td>0</td>\n",
       "      <td>0</td>\n",
       "      <td>0</td>\n",
       "      <td>0</td>\n",
       "      <td>0</td>\n",
       "      <td>0</td>\n",
       "    </tr>\n",
       "  </tbody>\n",
       "</table>\n",
       "</div>"
      ],
      "text/plain": [
       "                 id                                       comment_text  toxic  \\\n",
       "0  0000997932d777bf  Explanation\\nWhy the edits made under my usern...      0   \n",
       "1  000103f0d9cfb60f  D'aww! He matches this background colour I'm s...      0   \n",
       "2  000113f07ec002fd  Hey man, I'm really not trying to edit war. It...      0   \n",
       "3  0001b41b1c6bb37e  \"\\nMore\\nI can't make any real suggestions on ...      0   \n",
       "4  0001d958c54c6e35  You, sir, are my hero. Any chance you remember...      0   \n",
       "\n",
       "   severe_toxic  obscene  threat  insult  identity_hate  \n",
       "0             0        0       0       0              0  \n",
       "1             0        0       0       0              0  \n",
       "2             0        0       0       0              0  \n",
       "3             0        0       0       0              0  \n",
       "4             0        0       0       0              0  "
      ]
     },
     "execution_count": 8,
     "metadata": {},
     "output_type": "execute_result"
    }
   ],
   "source": [
    "df.head(5)"
   ]
  },
  {
   "cell_type": "markdown",
   "id": "9d8d4a8f",
   "metadata": {
    "papermill": {
     "duration": 0.036446,
     "end_time": "2024-04-01T23:29:04.689936",
     "exception": false,
     "start_time": "2024-04-01T23:29:04.653490",
     "status": "completed"
    },
    "tags": []
   },
   "source": [
    "**Create a Function to Clean Comments**"
   ]
  },
  {
   "cell_type": "code",
   "execution_count": 9,
   "id": "4445782e",
   "metadata": {
    "execution": {
     "iopub.execute_input": "2024-04-01T23:29:04.764619Z",
     "iopub.status.busy": "2024-04-01T23:29:04.763901Z",
     "iopub.status.idle": "2024-04-01T23:29:04.776867Z",
     "shell.execute_reply": "2024-04-01T23:29:04.776014Z"
    },
    "papermill": {
     "duration": 0.05235,
     "end_time": "2024-04-01T23:29:04.779006",
     "exception": false,
     "start_time": "2024-04-01T23:29:04.726656",
     "status": "completed"
    },
    "tags": []
   },
   "outputs": [],
   "source": [
    "# Clean Comments Function that gets text\n",
    "def clean_comments(text):\n",
    "    \n",
    "    # Lowercase comment\n",
    "    text = text.lower()\n",
    "    \n",
    "    # Replace words to clean\n",
    "    text = re.sub(r\"what's\", \"what is \", text)\n",
    "    text = re.sub(r\"\\'s\", \" \", text)\n",
    "    text = re.sub(r\"n\\'t\", \" not\", text)\n",
    "    text = re.sub(r\"\\'re\", \" are\", text)\n",
    "    text = re.sub(r\"i'm\", \"i am \", text)\n",
    "    text = re.sub(r\"\\'re\", \" are \", text)\n",
    "    text = re.sub(r\"\\'d\", \" would \", text)\n",
    "    text = re.sub(r\"\\'ll\", \" will \", text)\n",
    "    text = re.sub(r\"\\'scuse\", \" excuse \", text)\n",
    "    text = re.sub(r\"\\'t\", \" not\", text)\n",
    "    text = re.sub(r\"\\'ve\", \" have\", text)\n",
    "    text = re.sub(r\"\\'ve\", \" have \", text)\n",
    "    text = re.sub(r\"can't\", \"can not \", text)\n",
    "    text = re.sub(r\"n't\", \" not \", text)\n",
    "    text = re.sub('\\W', ' ', text)\n",
    "    text = re.sub('\\s+', ' ', text)\n",
    "    text = re.sub(r\"won't\", \"will not\", text)\n",
    "    text = re.sub(r\"\\'m\", \" am\", text)\n",
    "    text = re.sub(r\"\\'s\", \" is\", text)\n",
    "    text = re.sub(r\"\\'d\", \" would\", text)\n",
    "    text = re.sub(r\"\\'ll\", \" will\", text)\n",
    "    \n",
    "    # Erase irrelevant characters\n",
    "    text = text.replace('\\\\r', ' ')\n",
    "    text = text.replace('\\\\n', ' ')\n",
    "    text = text.replace('\\\\\"', ' ')\n",
    "    text = re.sub('[^A-Za-z0-9]+', ' ', text)\n",
    "    \n",
    "    # Strip the sentence (remove first and last space character)\n",
    "    text = text.strip(' ')\n",
    "    \n",
    "    # Return the cleaned text\n",
    "    return text"
   ]
  },
  {
   "cell_type": "markdown",
   "id": "0d55042a",
   "metadata": {
    "papermill": {
     "duration": 0.035797,
     "end_time": "2024-04-01T23:29:04.850892",
     "exception": false,
     "start_time": "2024-04-01T23:29:04.815095",
     "status": "completed"
    },
    "tags": []
   },
   "source": [
    "**Use the Clean Comments Function to the comment_text Column using map() Function**"
   ]
  },
  {
   "cell_type": "code",
   "execution_count": 10,
   "id": "5e860529",
   "metadata": {
    "execution": {
     "iopub.execute_input": "2024-04-01T23:29:04.924234Z",
     "iopub.status.busy": "2024-04-01T23:29:04.923471Z",
     "iopub.status.idle": "2024-04-01T23:29:26.153362Z",
     "shell.execute_reply": "2024-04-01T23:29:26.152534Z"
    },
    "papermill": {
     "duration": 21.269276,
     "end_time": "2024-04-01T23:29:26.155855",
     "exception": false,
     "start_time": "2024-04-01T23:29:04.886579",
     "status": "completed"
    },
    "tags": []
   },
   "outputs": [],
   "source": [
    "df['comment_text'] = df['comment_text'].map(lambda comment : clean_comments(comment))"
   ]
  },
  {
   "cell_type": "markdown",
   "id": "8ee98789",
   "metadata": {
    "papermill": {
     "duration": 0.035562,
     "end_time": "2024-04-01T23:29:26.227787",
     "exception": false,
     "start_time": "2024-04-01T23:29:26.192225",
     "status": "completed"
    },
    "tags": []
   },
   "source": [
    "**Display the Cleaned comment_text Column**"
   ]
  },
  {
   "cell_type": "code",
   "execution_count": 11,
   "id": "74c7c4ee",
   "metadata": {
    "execution": {
     "iopub.execute_input": "2024-04-01T23:29:26.301918Z",
     "iopub.status.busy": "2024-04-01T23:29:26.300961Z",
     "iopub.status.idle": "2024-04-01T23:29:26.313444Z",
     "shell.execute_reply": "2024-04-01T23:29:26.312521Z"
    },
    "papermill": {
     "duration": 0.051618,
     "end_time": "2024-04-01T23:29:26.315456",
     "exception": false,
     "start_time": "2024-04-01T23:29:26.263838",
     "status": "completed"
    },
    "tags": []
   },
   "outputs": [
    {
     "data": {
      "text/html": [
       "<div>\n",
       "<style scoped>\n",
       "    .dataframe tbody tr th:only-of-type {\n",
       "        vertical-align: middle;\n",
       "    }\n",
       "\n",
       "    .dataframe tbody tr th {\n",
       "        vertical-align: top;\n",
       "    }\n",
       "\n",
       "    .dataframe thead th {\n",
       "        text-align: right;\n",
       "    }\n",
       "</style>\n",
       "<table border=\"1\" class=\"dataframe\">\n",
       "  <thead>\n",
       "    <tr style=\"text-align: right;\">\n",
       "      <th></th>\n",
       "      <th>id</th>\n",
       "      <th>comment_text</th>\n",
       "      <th>toxic</th>\n",
       "      <th>severe_toxic</th>\n",
       "      <th>obscene</th>\n",
       "      <th>threat</th>\n",
       "      <th>insult</th>\n",
       "      <th>identity_hate</th>\n",
       "    </tr>\n",
       "  </thead>\n",
       "  <tbody>\n",
       "    <tr>\n",
       "      <th>0</th>\n",
       "      <td>0000997932d777bf</td>\n",
       "      <td>explanation why the edits made under my userna...</td>\n",
       "      <td>0</td>\n",
       "      <td>0</td>\n",
       "      <td>0</td>\n",
       "      <td>0</td>\n",
       "      <td>0</td>\n",
       "      <td>0</td>\n",
       "    </tr>\n",
       "    <tr>\n",
       "      <th>1</th>\n",
       "      <td>000103f0d9cfb60f</td>\n",
       "      <td>d aww he matches this background colour i am s...</td>\n",
       "      <td>0</td>\n",
       "      <td>0</td>\n",
       "      <td>0</td>\n",
       "      <td>0</td>\n",
       "      <td>0</td>\n",
       "      <td>0</td>\n",
       "    </tr>\n",
       "    <tr>\n",
       "      <th>2</th>\n",
       "      <td>000113f07ec002fd</td>\n",
       "      <td>hey man i am really not trying to edit war it ...</td>\n",
       "      <td>0</td>\n",
       "      <td>0</td>\n",
       "      <td>0</td>\n",
       "      <td>0</td>\n",
       "      <td>0</td>\n",
       "      <td>0</td>\n",
       "    </tr>\n",
       "    <tr>\n",
       "      <th>3</th>\n",
       "      <td>0001b41b1c6bb37e</td>\n",
       "      <td>more i ca not make any real suggestions on imp...</td>\n",
       "      <td>0</td>\n",
       "      <td>0</td>\n",
       "      <td>0</td>\n",
       "      <td>0</td>\n",
       "      <td>0</td>\n",
       "      <td>0</td>\n",
       "    </tr>\n",
       "    <tr>\n",
       "      <th>4</th>\n",
       "      <td>0001d958c54c6e35</td>\n",
       "      <td>you sir are my hero any chance you remember wh...</td>\n",
       "      <td>0</td>\n",
       "      <td>0</td>\n",
       "      <td>0</td>\n",
       "      <td>0</td>\n",
       "      <td>0</td>\n",
       "      <td>0</td>\n",
       "    </tr>\n",
       "  </tbody>\n",
       "</table>\n",
       "</div>"
      ],
      "text/plain": [
       "                 id                                       comment_text  toxic  \\\n",
       "0  0000997932d777bf  explanation why the edits made under my userna...      0   \n",
       "1  000103f0d9cfb60f  d aww he matches this background colour i am s...      0   \n",
       "2  000113f07ec002fd  hey man i am really not trying to edit war it ...      0   \n",
       "3  0001b41b1c6bb37e  more i ca not make any real suggestions on imp...      0   \n",
       "4  0001d958c54c6e35  you sir are my hero any chance you remember wh...      0   \n",
       "\n",
       "   severe_toxic  obscene  threat  insult  identity_hate  \n",
       "0             0        0       0       0              0  \n",
       "1             0        0       0       0              0  \n",
       "2             0        0       0       0              0  \n",
       "3             0        0       0       0              0  \n",
       "4             0        0       0       0              0  "
      ]
     },
     "execution_count": 11,
     "metadata": {},
     "output_type": "execute_result"
    }
   ],
   "source": [
    "df.head(5)"
   ]
  },
  {
   "cell_type": "markdown",
   "id": "6bbd31f2",
   "metadata": {
    "papermill": {
     "duration": 0.03661,
     "end_time": "2024-04-01T23:29:26.388170",
     "exception": false,
     "start_time": "2024-04-01T23:29:26.351560",
     "status": "completed"
    },
    "tags": []
   },
   "source": [
    "# 4. Display Samples of Non-toxic and Toxic Comments"
   ]
  },
  {
   "cell_type": "markdown",
   "id": "8f372ba2",
   "metadata": {
    "papermill": {
     "duration": 0.037537,
     "end_time": "2024-04-01T23:29:26.462334",
     "exception": false,
     "start_time": "2024-04-01T23:29:26.424797",
     "status": "completed"
    },
    "tags": []
   },
   "source": [
    "> **WARNING !!!**\n",
    "> \n",
    "> The following toxic (and worse) comments contains some foul, derogatory, or discriminatory language. The purpose of this section is to show you the difference between the 6 toxic criterias. You may skip this section if you wish not to see foul language."
   ]
  },
  {
   "cell_type": "markdown",
   "id": "a326a800",
   "metadata": {
    "papermill": {
     "duration": 0.036293,
     "end_time": "2024-04-01T23:29:26.535243",
     "exception": false,
     "start_time": "2024-04-01T23:29:26.498950",
     "status": "completed"
    },
    "tags": []
   },
   "source": [
    "**5 Examples of Not Toxic Comments**"
   ]
  },
  {
   "cell_type": "code",
   "execution_count": 12,
   "id": "147acb0c",
   "metadata": {
    "execution": {
     "iopub.execute_input": "2024-04-01T23:29:26.610262Z",
     "iopub.status.busy": "2024-04-01T23:29:26.609618Z",
     "iopub.status.idle": "2024-04-01T23:29:26.636914Z",
     "shell.execute_reply": "2024-04-01T23:29:26.635976Z"
    },
    "papermill": {
     "duration": 0.067622,
     "end_time": "2024-04-01T23:29:26.639088",
     "exception": false,
     "start_time": "2024-04-01T23:29:26.571466",
     "status": "completed"
    },
    "tags": [],
    "vscode": {
     "languageId": "python"
    }
   },
   "outputs": [
    {
     "data": {
      "text/html": [
       "<div>\n",
       "<style scoped>\n",
       "    .dataframe tbody tr th:only-of-type {\n",
       "        vertical-align: middle;\n",
       "    }\n",
       "\n",
       "    .dataframe tbody tr th {\n",
       "        vertical-align: top;\n",
       "    }\n",
       "\n",
       "    .dataframe thead th {\n",
       "        text-align: right;\n",
       "    }\n",
       "</style>\n",
       "<table border=\"1\" class=\"dataframe\">\n",
       "  <thead>\n",
       "    <tr style=\"text-align: right;\">\n",
       "      <th></th>\n",
       "      <th>id</th>\n",
       "      <th>comment_text</th>\n",
       "      <th>toxic</th>\n",
       "      <th>severe_toxic</th>\n",
       "      <th>obscene</th>\n",
       "      <th>threat</th>\n",
       "      <th>insult</th>\n",
       "      <th>identity_hate</th>\n",
       "    </tr>\n",
       "  </thead>\n",
       "  <tbody>\n",
       "    <tr>\n",
       "      <th>0</th>\n",
       "      <td>0000997932d777bf</td>\n",
       "      <td>explanation why the edits made under my userna...</td>\n",
       "      <td>0</td>\n",
       "      <td>0</td>\n",
       "      <td>0</td>\n",
       "      <td>0</td>\n",
       "      <td>0</td>\n",
       "      <td>0</td>\n",
       "    </tr>\n",
       "    <tr>\n",
       "      <th>1</th>\n",
       "      <td>000103f0d9cfb60f</td>\n",
       "      <td>d aww he matches this background colour i am s...</td>\n",
       "      <td>0</td>\n",
       "      <td>0</td>\n",
       "      <td>0</td>\n",
       "      <td>0</td>\n",
       "      <td>0</td>\n",
       "      <td>0</td>\n",
       "    </tr>\n",
       "    <tr>\n",
       "      <th>2</th>\n",
       "      <td>000113f07ec002fd</td>\n",
       "      <td>hey man i am really not trying to edit war it ...</td>\n",
       "      <td>0</td>\n",
       "      <td>0</td>\n",
       "      <td>0</td>\n",
       "      <td>0</td>\n",
       "      <td>0</td>\n",
       "      <td>0</td>\n",
       "    </tr>\n",
       "    <tr>\n",
       "      <th>3</th>\n",
       "      <td>0001b41b1c6bb37e</td>\n",
       "      <td>more i ca not make any real suggestions on imp...</td>\n",
       "      <td>0</td>\n",
       "      <td>0</td>\n",
       "      <td>0</td>\n",
       "      <td>0</td>\n",
       "      <td>0</td>\n",
       "      <td>0</td>\n",
       "    </tr>\n",
       "    <tr>\n",
       "      <th>4</th>\n",
       "      <td>0001d958c54c6e35</td>\n",
       "      <td>you sir are my hero any chance you remember wh...</td>\n",
       "      <td>0</td>\n",
       "      <td>0</td>\n",
       "      <td>0</td>\n",
       "      <td>0</td>\n",
       "      <td>0</td>\n",
       "      <td>0</td>\n",
       "    </tr>\n",
       "  </tbody>\n",
       "</table>\n",
       "</div>"
      ],
      "text/plain": [
       "                 id                                       comment_text  toxic  \\\n",
       "0  0000997932d777bf  explanation why the edits made under my userna...      0   \n",
       "1  000103f0d9cfb60f  d aww he matches this background colour i am s...      0   \n",
       "2  000113f07ec002fd  hey man i am really not trying to edit war it ...      0   \n",
       "3  0001b41b1c6bb37e  more i ca not make any real suggestions on imp...      0   \n",
       "4  0001d958c54c6e35  you sir are my hero any chance you remember wh...      0   \n",
       "\n",
       "   severe_toxic  obscene  threat  insult  identity_hate  \n",
       "0             0        0       0       0              0  \n",
       "1             0        0       0       0              0  \n",
       "2             0        0       0       0              0  \n",
       "3             0        0       0       0              0  \n",
       "4             0        0       0       0              0  "
      ]
     },
     "execution_count": 12,
     "metadata": {},
     "output_type": "execute_result"
    }
   ],
   "source": [
    "df[df['toxic']==0].head(5)"
   ]
  },
  {
   "cell_type": "markdown",
   "id": "67779023",
   "metadata": {
    "papermill": {
     "duration": 0.037097,
     "end_time": "2024-04-01T23:29:26.713320",
     "exception": false,
     "start_time": "2024-04-01T23:29:26.676223",
     "status": "completed"
    },
    "tags": []
   },
   "source": [
    "**5 Examples of Toxic Comments**"
   ]
  },
  {
   "cell_type": "code",
   "execution_count": 13,
   "id": "1fffdbb3",
   "metadata": {
    "execution": {
     "iopub.execute_input": "2024-04-01T23:29:26.789594Z",
     "iopub.status.busy": "2024-04-01T23:29:26.788684Z",
     "iopub.status.idle": "2024-04-01T23:29:26.805160Z",
     "shell.execute_reply": "2024-04-01T23:29:26.804201Z"
    },
    "papermill": {
     "duration": 0.056433,
     "end_time": "2024-04-01T23:29:26.807200",
     "exception": false,
     "start_time": "2024-04-01T23:29:26.750767",
     "status": "completed"
    },
    "tags": [],
    "vscode": {
     "languageId": "python"
    }
   },
   "outputs": [
    {
     "data": {
      "text/html": [
       "<div>\n",
       "<style scoped>\n",
       "    .dataframe tbody tr th:only-of-type {\n",
       "        vertical-align: middle;\n",
       "    }\n",
       "\n",
       "    .dataframe tbody tr th {\n",
       "        vertical-align: top;\n",
       "    }\n",
       "\n",
       "    .dataframe thead th {\n",
       "        text-align: right;\n",
       "    }\n",
       "</style>\n",
       "<table border=\"1\" class=\"dataframe\">\n",
       "  <thead>\n",
       "    <tr style=\"text-align: right;\">\n",
       "      <th></th>\n",
       "      <th>id</th>\n",
       "      <th>comment_text</th>\n",
       "      <th>toxic</th>\n",
       "      <th>severe_toxic</th>\n",
       "      <th>obscene</th>\n",
       "      <th>threat</th>\n",
       "      <th>insult</th>\n",
       "      <th>identity_hate</th>\n",
       "    </tr>\n",
       "  </thead>\n",
       "  <tbody>\n",
       "    <tr>\n",
       "      <th>6</th>\n",
       "      <td>0002bcb3da6cb337</td>\n",
       "      <td>cocksucker before you piss around on my work</td>\n",
       "      <td>1</td>\n",
       "      <td>1</td>\n",
       "      <td>1</td>\n",
       "      <td>0</td>\n",
       "      <td>1</td>\n",
       "      <td>0</td>\n",
       "    </tr>\n",
       "    <tr>\n",
       "      <th>12</th>\n",
       "      <td>0005c987bdfc9d4b</td>\n",
       "      <td>hey what is it talk what is it an exclusive gr...</td>\n",
       "      <td>1</td>\n",
       "      <td>0</td>\n",
       "      <td>0</td>\n",
       "      <td>0</td>\n",
       "      <td>0</td>\n",
       "      <td>0</td>\n",
       "    </tr>\n",
       "    <tr>\n",
       "      <th>16</th>\n",
       "      <td>0007e25b2121310b</td>\n",
       "      <td>bye do not look come or think of comming back ...</td>\n",
       "      <td>1</td>\n",
       "      <td>0</td>\n",
       "      <td>0</td>\n",
       "      <td>0</td>\n",
       "      <td>0</td>\n",
       "      <td>0</td>\n",
       "    </tr>\n",
       "    <tr>\n",
       "      <th>42</th>\n",
       "      <td>001810bf8c45bf5f</td>\n",
       "      <td>you are gay or antisemmitian archangel white t...</td>\n",
       "      <td>1</td>\n",
       "      <td>0</td>\n",
       "      <td>1</td>\n",
       "      <td>0</td>\n",
       "      <td>1</td>\n",
       "      <td>1</td>\n",
       "    </tr>\n",
       "    <tr>\n",
       "      <th>43</th>\n",
       "      <td>00190820581d90ce</td>\n",
       "      <td>fuck your filthy mother in the ass dry</td>\n",
       "      <td>1</td>\n",
       "      <td>0</td>\n",
       "      <td>1</td>\n",
       "      <td>0</td>\n",
       "      <td>1</td>\n",
       "      <td>0</td>\n",
       "    </tr>\n",
       "  </tbody>\n",
       "</table>\n",
       "</div>"
      ],
      "text/plain": [
       "                  id                                       comment_text  \\\n",
       "6   0002bcb3da6cb337       cocksucker before you piss around on my work   \n",
       "12  0005c987bdfc9d4b  hey what is it talk what is it an exclusive gr...   \n",
       "16  0007e25b2121310b  bye do not look come or think of comming back ...   \n",
       "42  001810bf8c45bf5f  you are gay or antisemmitian archangel white t...   \n",
       "43  00190820581d90ce             fuck your filthy mother in the ass dry   \n",
       "\n",
       "    toxic  severe_toxic  obscene  threat  insult  identity_hate  \n",
       "6       1             1        1       0       1              0  \n",
       "12      1             0        0       0       0              0  \n",
       "16      1             0        0       0       0              0  \n",
       "42      1             0        1       0       1              1  \n",
       "43      1             0        1       0       1              0  "
      ]
     },
     "execution_count": 13,
     "metadata": {},
     "output_type": "execute_result"
    }
   ],
   "source": [
    "df[df['toxic']==1].head(5)"
   ]
  },
  {
   "cell_type": "markdown",
   "id": "8b2c978c",
   "metadata": {
    "execution": {
     "iopub.execute_input": "2023-01-03T10:43:33.644407Z",
     "iopub.status.busy": "2023-01-03T10:43:33.643995Z",
     "iopub.status.idle": "2023-01-03T10:43:33.652904Z",
     "shell.execute_reply": "2023-01-03T10:43:33.651064Z",
     "shell.execute_reply.started": "2023-01-03T10:43:33.644373Z"
    },
    "papermill": {
     "duration": 0.036376,
     "end_time": "2024-04-01T23:29:26.881711",
     "exception": false,
     "start_time": "2024-04-01T23:29:26.845335",
     "status": "completed"
    },
    "tags": []
   },
   "source": [
    "**5 Examples of Severe Toxic Comments**"
   ]
  },
  {
   "cell_type": "code",
   "execution_count": 14,
   "id": "7132c98b",
   "metadata": {
    "execution": {
     "iopub.execute_input": "2024-04-01T23:29:26.956727Z",
     "iopub.status.busy": "2024-04-01T23:29:26.956022Z",
     "iopub.status.idle": "2024-04-01T23:29:26.969988Z",
     "shell.execute_reply": "2024-04-01T23:29:26.969057Z"
    },
    "papermill": {
     "duration": 0.053863,
     "end_time": "2024-04-01T23:29:26.972163",
     "exception": false,
     "start_time": "2024-04-01T23:29:26.918300",
     "status": "completed"
    },
    "tags": [],
    "vscode": {
     "languageId": "python"
    }
   },
   "outputs": [
    {
     "data": {
      "text/html": [
       "<div>\n",
       "<style scoped>\n",
       "    .dataframe tbody tr th:only-of-type {\n",
       "        vertical-align: middle;\n",
       "    }\n",
       "\n",
       "    .dataframe tbody tr th {\n",
       "        vertical-align: top;\n",
       "    }\n",
       "\n",
       "    .dataframe thead th {\n",
       "        text-align: right;\n",
       "    }\n",
       "</style>\n",
       "<table border=\"1\" class=\"dataframe\">\n",
       "  <thead>\n",
       "    <tr style=\"text-align: right;\">\n",
       "      <th></th>\n",
       "      <th>id</th>\n",
       "      <th>comment_text</th>\n",
       "      <th>toxic</th>\n",
       "      <th>severe_toxic</th>\n",
       "      <th>obscene</th>\n",
       "      <th>threat</th>\n",
       "      <th>insult</th>\n",
       "      <th>identity_hate</th>\n",
       "    </tr>\n",
       "  </thead>\n",
       "  <tbody>\n",
       "    <tr>\n",
       "      <th>6</th>\n",
       "      <td>0002bcb3da6cb337</td>\n",
       "      <td>cocksucker before you piss around on my work</td>\n",
       "      <td>1</td>\n",
       "      <td>1</td>\n",
       "      <td>1</td>\n",
       "      <td>0</td>\n",
       "      <td>1</td>\n",
       "      <td>0</td>\n",
       "    </tr>\n",
       "    <tr>\n",
       "      <th>55</th>\n",
       "      <td>0020e7119b96eeeb</td>\n",
       "      <td>stupid peace of shit stop deleting my stuff as...</td>\n",
       "      <td>1</td>\n",
       "      <td>1</td>\n",
       "      <td>1</td>\n",
       "      <td>0</td>\n",
       "      <td>1</td>\n",
       "      <td>0</td>\n",
       "    </tr>\n",
       "    <tr>\n",
       "      <th>181</th>\n",
       "      <td>006e87872c8b370c</td>\n",
       "      <td>you are a stupid fuck and your mother cunt stinks</td>\n",
       "      <td>1</td>\n",
       "      <td>1</td>\n",
       "      <td>1</td>\n",
       "      <td>0</td>\n",
       "      <td>1</td>\n",
       "      <td>0</td>\n",
       "    </tr>\n",
       "    <tr>\n",
       "      <th>442</th>\n",
       "      <td>01208d2b76624130</td>\n",
       "      <td>hi im a fucking bitch 50 180 208 181</td>\n",
       "      <td>1</td>\n",
       "      <td>1</td>\n",
       "      <td>1</td>\n",
       "      <td>0</td>\n",
       "      <td>1</td>\n",
       "      <td>0</td>\n",
       "    </tr>\n",
       "    <tr>\n",
       "      <th>579</th>\n",
       "      <td>018663f910e0bfe6</td>\n",
       "      <td>what a motherfucking piece of crap those fuckh...</td>\n",
       "      <td>1</td>\n",
       "      <td>1</td>\n",
       "      <td>1</td>\n",
       "      <td>0</td>\n",
       "      <td>1</td>\n",
       "      <td>0</td>\n",
       "    </tr>\n",
       "  </tbody>\n",
       "</table>\n",
       "</div>"
      ],
      "text/plain": [
       "                   id                                       comment_text  \\\n",
       "6    0002bcb3da6cb337       cocksucker before you piss around on my work   \n",
       "55   0020e7119b96eeeb  stupid peace of shit stop deleting my stuff as...   \n",
       "181  006e87872c8b370c  you are a stupid fuck and your mother cunt stinks   \n",
       "442  01208d2b76624130               hi im a fucking bitch 50 180 208 181   \n",
       "579  018663f910e0bfe6  what a motherfucking piece of crap those fuckh...   \n",
       "\n",
       "     toxic  severe_toxic  obscene  threat  insult  identity_hate  \n",
       "6        1             1        1       0       1              0  \n",
       "55       1             1        1       0       1              0  \n",
       "181      1             1        1       0       1              0  \n",
       "442      1             1        1       0       1              0  \n",
       "579      1             1        1       0       1              0  "
      ]
     },
     "execution_count": 14,
     "metadata": {},
     "output_type": "execute_result"
    }
   ],
   "source": [
    "df[df['severe_toxic']==1].head(5)"
   ]
  },
  {
   "cell_type": "markdown",
   "id": "a798fcfe",
   "metadata": {
    "execution": {
     "iopub.execute_input": "2023-01-03T10:43:33.644407Z",
     "iopub.status.busy": "2023-01-03T10:43:33.643995Z",
     "iopub.status.idle": "2023-01-03T10:43:33.652904Z",
     "shell.execute_reply": "2023-01-03T10:43:33.651064Z",
     "shell.execute_reply.started": "2023-01-03T10:43:33.644373Z"
    },
    "papermill": {
     "duration": 0.037609,
     "end_time": "2024-04-01T23:29:27.047567",
     "exception": false,
     "start_time": "2024-04-01T23:29:27.009958",
     "status": "completed"
    },
    "tags": []
   },
   "source": [
    "**5 Examples of Obscene Comments**"
   ]
  },
  {
   "cell_type": "code",
   "execution_count": 15,
   "id": "5e0b3b03",
   "metadata": {
    "execution": {
     "iopub.execute_input": "2024-04-01T23:29:27.128455Z",
     "iopub.status.busy": "2024-04-01T23:29:27.128053Z",
     "iopub.status.idle": "2024-04-01T23:29:27.144365Z",
     "shell.execute_reply": "2024-04-01T23:29:27.143384Z"
    },
    "papermill": {
     "duration": 0.060541,
     "end_time": "2024-04-01T23:29:27.146619",
     "exception": false,
     "start_time": "2024-04-01T23:29:27.086078",
     "status": "completed"
    },
    "tags": [],
    "vscode": {
     "languageId": "python"
    }
   },
   "outputs": [
    {
     "data": {
      "text/html": [
       "<div>\n",
       "<style scoped>\n",
       "    .dataframe tbody tr th:only-of-type {\n",
       "        vertical-align: middle;\n",
       "    }\n",
       "\n",
       "    .dataframe tbody tr th {\n",
       "        vertical-align: top;\n",
       "    }\n",
       "\n",
       "    .dataframe thead th {\n",
       "        text-align: right;\n",
       "    }\n",
       "</style>\n",
       "<table border=\"1\" class=\"dataframe\">\n",
       "  <thead>\n",
       "    <tr style=\"text-align: right;\">\n",
       "      <th></th>\n",
       "      <th>id</th>\n",
       "      <th>comment_text</th>\n",
       "      <th>toxic</th>\n",
       "      <th>severe_toxic</th>\n",
       "      <th>obscene</th>\n",
       "      <th>threat</th>\n",
       "      <th>insult</th>\n",
       "      <th>identity_hate</th>\n",
       "    </tr>\n",
       "  </thead>\n",
       "  <tbody>\n",
       "    <tr>\n",
       "      <th>6</th>\n",
       "      <td>0002bcb3da6cb337</td>\n",
       "      <td>cocksucker before you piss around on my work</td>\n",
       "      <td>1</td>\n",
       "      <td>1</td>\n",
       "      <td>1</td>\n",
       "      <td>0</td>\n",
       "      <td>1</td>\n",
       "      <td>0</td>\n",
       "    </tr>\n",
       "    <tr>\n",
       "      <th>42</th>\n",
       "      <td>001810bf8c45bf5f</td>\n",
       "      <td>you are gay or antisemmitian archangel white t...</td>\n",
       "      <td>1</td>\n",
       "      <td>0</td>\n",
       "      <td>1</td>\n",
       "      <td>0</td>\n",
       "      <td>1</td>\n",
       "      <td>1</td>\n",
       "    </tr>\n",
       "    <tr>\n",
       "      <th>43</th>\n",
       "      <td>00190820581d90ce</td>\n",
       "      <td>fuck your filthy mother in the ass dry</td>\n",
       "      <td>1</td>\n",
       "      <td>0</td>\n",
       "      <td>1</td>\n",
       "      <td>0</td>\n",
       "      <td>1</td>\n",
       "      <td>0</td>\n",
       "    </tr>\n",
       "    <tr>\n",
       "      <th>51</th>\n",
       "      <td>001dc38a83d420cf</td>\n",
       "      <td>get fucked up get fuckeeed up got a drink that...</td>\n",
       "      <td>1</td>\n",
       "      <td>0</td>\n",
       "      <td>1</td>\n",
       "      <td>0</td>\n",
       "      <td>0</td>\n",
       "      <td>0</td>\n",
       "    </tr>\n",
       "    <tr>\n",
       "      <th>55</th>\n",
       "      <td>0020e7119b96eeeb</td>\n",
       "      <td>stupid peace of shit stop deleting my stuff as...</td>\n",
       "      <td>1</td>\n",
       "      <td>1</td>\n",
       "      <td>1</td>\n",
       "      <td>0</td>\n",
       "      <td>1</td>\n",
       "      <td>0</td>\n",
       "    </tr>\n",
       "  </tbody>\n",
       "</table>\n",
       "</div>"
      ],
      "text/plain": [
       "                  id                                       comment_text  \\\n",
       "6   0002bcb3da6cb337       cocksucker before you piss around on my work   \n",
       "42  001810bf8c45bf5f  you are gay or antisemmitian archangel white t...   \n",
       "43  00190820581d90ce             fuck your filthy mother in the ass dry   \n",
       "51  001dc38a83d420cf  get fucked up get fuckeeed up got a drink that...   \n",
       "55  0020e7119b96eeeb  stupid peace of shit stop deleting my stuff as...   \n",
       "\n",
       "    toxic  severe_toxic  obscene  threat  insult  identity_hate  \n",
       "6       1             1        1       0       1              0  \n",
       "42      1             0        1       0       1              1  \n",
       "43      1             0        1       0       1              0  \n",
       "51      1             0        1       0       0              0  \n",
       "55      1             1        1       0       1              0  "
      ]
     },
     "execution_count": 15,
     "metadata": {},
     "output_type": "execute_result"
    }
   ],
   "source": [
    "df[df['obscene']==1].head(5)"
   ]
  },
  {
   "cell_type": "markdown",
   "id": "8e352887",
   "metadata": {
    "papermill": {
     "duration": 0.038877,
     "end_time": "2024-04-01T23:29:27.225672",
     "exception": false,
     "start_time": "2024-04-01T23:29:27.186795",
     "status": "completed"
    },
    "tags": []
   },
   "source": [
    "**5 Examples of Threat Comments**"
   ]
  },
  {
   "cell_type": "code",
   "execution_count": 16,
   "id": "4c15e384",
   "metadata": {
    "execution": {
     "iopub.execute_input": "2024-04-01T23:29:27.304051Z",
     "iopub.status.busy": "2024-04-01T23:29:27.303664Z",
     "iopub.status.idle": "2024-04-01T23:29:27.317596Z",
     "shell.execute_reply": "2024-04-01T23:29:27.316628Z"
    },
    "papermill": {
     "duration": 0.055699,
     "end_time": "2024-04-01T23:29:27.319897",
     "exception": false,
     "start_time": "2024-04-01T23:29:27.264198",
     "status": "completed"
    },
    "tags": [],
    "vscode": {
     "languageId": "python"
    }
   },
   "outputs": [
    {
     "data": {
      "text/html": [
       "<div>\n",
       "<style scoped>\n",
       "    .dataframe tbody tr th:only-of-type {\n",
       "        vertical-align: middle;\n",
       "    }\n",
       "\n",
       "    .dataframe tbody tr th {\n",
       "        vertical-align: top;\n",
       "    }\n",
       "\n",
       "    .dataframe thead th {\n",
       "        text-align: right;\n",
       "    }\n",
       "</style>\n",
       "<table border=\"1\" class=\"dataframe\">\n",
       "  <thead>\n",
       "    <tr style=\"text-align: right;\">\n",
       "      <th></th>\n",
       "      <th>id</th>\n",
       "      <th>comment_text</th>\n",
       "      <th>toxic</th>\n",
       "      <th>severe_toxic</th>\n",
       "      <th>obscene</th>\n",
       "      <th>threat</th>\n",
       "      <th>insult</th>\n",
       "      <th>identity_hate</th>\n",
       "    </tr>\n",
       "  </thead>\n",
       "  <tbody>\n",
       "    <tr>\n",
       "      <th>79</th>\n",
       "      <td>003217c3eb469ba9</td>\n",
       "      <td>hi i am back again last warning stop undoing m...</td>\n",
       "      <td>1</td>\n",
       "      <td>0</td>\n",
       "      <td>0</td>\n",
       "      <td>1</td>\n",
       "      <td>0</td>\n",
       "      <td>0</td>\n",
       "    </tr>\n",
       "    <tr>\n",
       "      <th>176</th>\n",
       "      <td>006b94add72ed61c</td>\n",
       "      <td>i think that your a fagget get a oife and burn...</td>\n",
       "      <td>1</td>\n",
       "      <td>0</td>\n",
       "      <td>1</td>\n",
       "      <td>1</td>\n",
       "      <td>1</td>\n",
       "      <td>1</td>\n",
       "    </tr>\n",
       "    <tr>\n",
       "      <th>600</th>\n",
       "      <td>0199d6af27b715f3</td>\n",
       "      <td>i am also a sock puppet of this account supris...</td>\n",
       "      <td>1</td>\n",
       "      <td>0</td>\n",
       "      <td>0</td>\n",
       "      <td>1</td>\n",
       "      <td>0</td>\n",
       "      <td>0</td>\n",
       "    </tr>\n",
       "    <tr>\n",
       "      <th>802</th>\n",
       "      <td>02230885017a50c5</td>\n",
       "      <td>fuck you smith please have me notified when yo...</td>\n",
       "      <td>1</td>\n",
       "      <td>0</td>\n",
       "      <td>1</td>\n",
       "      <td>1</td>\n",
       "      <td>1</td>\n",
       "      <td>0</td>\n",
       "    </tr>\n",
       "    <tr>\n",
       "      <th>1017</th>\n",
       "      <td>02c6e41e4b317ac3</td>\n",
       "      <td>would not be the first time bitch fuck you i w...</td>\n",
       "      <td>1</td>\n",
       "      <td>1</td>\n",
       "      <td>1</td>\n",
       "      <td>1</td>\n",
       "      <td>1</td>\n",
       "      <td>1</td>\n",
       "    </tr>\n",
       "  </tbody>\n",
       "</table>\n",
       "</div>"
      ],
      "text/plain": [
       "                    id                                       comment_text  \\\n",
       "79    003217c3eb469ba9  hi i am back again last warning stop undoing m...   \n",
       "176   006b94add72ed61c  i think that your a fagget get a oife and burn...   \n",
       "600   0199d6af27b715f3  i am also a sock puppet of this account supris...   \n",
       "802   02230885017a50c5  fuck you smith please have me notified when yo...   \n",
       "1017  02c6e41e4b317ac3  would not be the first time bitch fuck you i w...   \n",
       "\n",
       "      toxic  severe_toxic  obscene  threat  insult  identity_hate  \n",
       "79        1             0        0       1       0              0  \n",
       "176       1             0        1       1       1              1  \n",
       "600       1             0        0       1       0              0  \n",
       "802       1             0        1       1       1              0  \n",
       "1017      1             1        1       1       1              1  "
      ]
     },
     "execution_count": 16,
     "metadata": {},
     "output_type": "execute_result"
    }
   ],
   "source": [
    "df[df['threat']==1].head(5)"
   ]
  },
  {
   "cell_type": "markdown",
   "id": "bf3378ea",
   "metadata": {
    "papermill": {
     "duration": 0.038353,
     "end_time": "2024-04-01T23:29:27.396706",
     "exception": false,
     "start_time": "2024-04-01T23:29:27.358353",
     "status": "completed"
    },
    "tags": []
   },
   "source": [
    "**5 Examples of Insult Comment**"
   ]
  },
  {
   "cell_type": "code",
   "execution_count": 17,
   "id": "06ad3325",
   "metadata": {
    "execution": {
     "iopub.execute_input": "2024-04-01T23:29:27.476768Z",
     "iopub.status.busy": "2024-04-01T23:29:27.476246Z",
     "iopub.status.idle": "2024-04-01T23:29:27.491458Z",
     "shell.execute_reply": "2024-04-01T23:29:27.490512Z"
    },
    "papermill": {
     "duration": 0.058659,
     "end_time": "2024-04-01T23:29:27.493734",
     "exception": false,
     "start_time": "2024-04-01T23:29:27.435075",
     "status": "completed"
    },
    "tags": [],
    "vscode": {
     "languageId": "python"
    }
   },
   "outputs": [
    {
     "data": {
      "text/html": [
       "<div>\n",
       "<style scoped>\n",
       "    .dataframe tbody tr th:only-of-type {\n",
       "        vertical-align: middle;\n",
       "    }\n",
       "\n",
       "    .dataframe tbody tr th {\n",
       "        vertical-align: top;\n",
       "    }\n",
       "\n",
       "    .dataframe thead th {\n",
       "        text-align: right;\n",
       "    }\n",
       "</style>\n",
       "<table border=\"1\" class=\"dataframe\">\n",
       "  <thead>\n",
       "    <tr style=\"text-align: right;\">\n",
       "      <th></th>\n",
       "      <th>id</th>\n",
       "      <th>comment_text</th>\n",
       "      <th>toxic</th>\n",
       "      <th>severe_toxic</th>\n",
       "      <th>obscene</th>\n",
       "      <th>threat</th>\n",
       "      <th>insult</th>\n",
       "      <th>identity_hate</th>\n",
       "    </tr>\n",
       "  </thead>\n",
       "  <tbody>\n",
       "    <tr>\n",
       "      <th>6</th>\n",
       "      <td>0002bcb3da6cb337</td>\n",
       "      <td>cocksucker before you piss around on my work</td>\n",
       "      <td>1</td>\n",
       "      <td>1</td>\n",
       "      <td>1</td>\n",
       "      <td>0</td>\n",
       "      <td>1</td>\n",
       "      <td>0</td>\n",
       "    </tr>\n",
       "    <tr>\n",
       "      <th>42</th>\n",
       "      <td>001810bf8c45bf5f</td>\n",
       "      <td>you are gay or antisemmitian archangel white t...</td>\n",
       "      <td>1</td>\n",
       "      <td>0</td>\n",
       "      <td>1</td>\n",
       "      <td>0</td>\n",
       "      <td>1</td>\n",
       "      <td>1</td>\n",
       "    </tr>\n",
       "    <tr>\n",
       "      <th>43</th>\n",
       "      <td>00190820581d90ce</td>\n",
       "      <td>fuck your filthy mother in the ass dry</td>\n",
       "      <td>1</td>\n",
       "      <td>0</td>\n",
       "      <td>1</td>\n",
       "      <td>0</td>\n",
       "      <td>1</td>\n",
       "      <td>0</td>\n",
       "    </tr>\n",
       "    <tr>\n",
       "      <th>55</th>\n",
       "      <td>0020e7119b96eeeb</td>\n",
       "      <td>stupid peace of shit stop deleting my stuff as...</td>\n",
       "      <td>1</td>\n",
       "      <td>1</td>\n",
       "      <td>1</td>\n",
       "      <td>0</td>\n",
       "      <td>1</td>\n",
       "      <td>0</td>\n",
       "    </tr>\n",
       "    <tr>\n",
       "      <th>56</th>\n",
       "      <td>0020fd96ed3b8c8b</td>\n",
       "      <td>tony sidaway is obviously a fistfuckee he love...</td>\n",
       "      <td>1</td>\n",
       "      <td>0</td>\n",
       "      <td>1</td>\n",
       "      <td>0</td>\n",
       "      <td>1</td>\n",
       "      <td>0</td>\n",
       "    </tr>\n",
       "  </tbody>\n",
       "</table>\n",
       "</div>"
      ],
      "text/plain": [
       "                  id                                       comment_text  \\\n",
       "6   0002bcb3da6cb337       cocksucker before you piss around on my work   \n",
       "42  001810bf8c45bf5f  you are gay or antisemmitian archangel white t...   \n",
       "43  00190820581d90ce             fuck your filthy mother in the ass dry   \n",
       "55  0020e7119b96eeeb  stupid peace of shit stop deleting my stuff as...   \n",
       "56  0020fd96ed3b8c8b  tony sidaway is obviously a fistfuckee he love...   \n",
       "\n",
       "    toxic  severe_toxic  obscene  threat  insult  identity_hate  \n",
       "6       1             1        1       0       1              0  \n",
       "42      1             0        1       0       1              1  \n",
       "43      1             0        1       0       1              0  \n",
       "55      1             1        1       0       1              0  \n",
       "56      1             0        1       0       1              0  "
      ]
     },
     "execution_count": 17,
     "metadata": {},
     "output_type": "execute_result"
    }
   ],
   "source": [
    "df[df['insult']==1].head(5)"
   ]
  },
  {
   "cell_type": "markdown",
   "id": "73bd6e08",
   "metadata": {
    "papermill": {
     "duration": 0.03938,
     "end_time": "2024-04-01T23:29:27.572401",
     "exception": false,
     "start_time": "2024-04-01T23:29:27.533021",
     "status": "completed"
    },
    "tags": []
   },
   "source": [
    "**5 Examples of Identity Hate Comment**"
   ]
  },
  {
   "cell_type": "code",
   "execution_count": 18,
   "id": "a5f65c80",
   "metadata": {
    "execution": {
     "iopub.execute_input": "2024-04-01T23:29:27.652465Z",
     "iopub.status.busy": "2024-04-01T23:29:27.651440Z",
     "iopub.status.idle": "2024-04-01T23:29:27.665466Z",
     "shell.execute_reply": "2024-04-01T23:29:27.664540Z"
    },
    "papermill": {
     "duration": 0.056453,
     "end_time": "2024-04-01T23:29:27.667699",
     "exception": false,
     "start_time": "2024-04-01T23:29:27.611246",
     "status": "completed"
    },
    "tags": [],
    "vscode": {
     "languageId": "python"
    }
   },
   "outputs": [
    {
     "data": {
      "text/html": [
       "<div>\n",
       "<style scoped>\n",
       "    .dataframe tbody tr th:only-of-type {\n",
       "        vertical-align: middle;\n",
       "    }\n",
       "\n",
       "    .dataframe tbody tr th {\n",
       "        vertical-align: top;\n",
       "    }\n",
       "\n",
       "    .dataframe thead th {\n",
       "        text-align: right;\n",
       "    }\n",
       "</style>\n",
       "<table border=\"1\" class=\"dataframe\">\n",
       "  <thead>\n",
       "    <tr style=\"text-align: right;\">\n",
       "      <th></th>\n",
       "      <th>id</th>\n",
       "      <th>comment_text</th>\n",
       "      <th>toxic</th>\n",
       "      <th>severe_toxic</th>\n",
       "      <th>obscene</th>\n",
       "      <th>threat</th>\n",
       "      <th>insult</th>\n",
       "      <th>identity_hate</th>\n",
       "    </tr>\n",
       "  </thead>\n",
       "  <tbody>\n",
       "    <tr>\n",
       "      <th>42</th>\n",
       "      <td>001810bf8c45bf5f</td>\n",
       "      <td>you are gay or antisemmitian archangel white t...</td>\n",
       "      <td>1</td>\n",
       "      <td>0</td>\n",
       "      <td>1</td>\n",
       "      <td>0</td>\n",
       "      <td>1</td>\n",
       "      <td>1</td>\n",
       "    </tr>\n",
       "    <tr>\n",
       "      <th>105</th>\n",
       "      <td>00472b8e2d38d1ea</td>\n",
       "      <td>a pair of jew hating weiner nazi schmucks</td>\n",
       "      <td>1</td>\n",
       "      <td>0</td>\n",
       "      <td>1</td>\n",
       "      <td>0</td>\n",
       "      <td>1</td>\n",
       "      <td>1</td>\n",
       "    </tr>\n",
       "    <tr>\n",
       "      <th>176</th>\n",
       "      <td>006b94add72ed61c</td>\n",
       "      <td>i think that your a fagget get a oife and burn...</td>\n",
       "      <td>1</td>\n",
       "      <td>0</td>\n",
       "      <td>1</td>\n",
       "      <td>1</td>\n",
       "      <td>1</td>\n",
       "      <td>1</td>\n",
       "    </tr>\n",
       "    <tr>\n",
       "      <th>218</th>\n",
       "      <td>008e0818dde894fb</td>\n",
       "      <td>kill all niggers i have hard that others have ...</td>\n",
       "      <td>1</td>\n",
       "      <td>0</td>\n",
       "      <td>1</td>\n",
       "      <td>0</td>\n",
       "      <td>1</td>\n",
       "      <td>1</td>\n",
       "    </tr>\n",
       "    <tr>\n",
       "      <th>238</th>\n",
       "      <td>0097dd5c29bf7a15</td>\n",
       "      <td>u r a tw fuck off u gay boy u r smelly fuck ur...</td>\n",
       "      <td>1</td>\n",
       "      <td>0</td>\n",
       "      <td>1</td>\n",
       "      <td>0</td>\n",
       "      <td>1</td>\n",
       "      <td>1</td>\n",
       "    </tr>\n",
       "  </tbody>\n",
       "</table>\n",
       "</div>"
      ],
      "text/plain": [
       "                   id                                       comment_text  \\\n",
       "42   001810bf8c45bf5f  you are gay or antisemmitian archangel white t...   \n",
       "105  00472b8e2d38d1ea          a pair of jew hating weiner nazi schmucks   \n",
       "176  006b94add72ed61c  i think that your a fagget get a oife and burn...   \n",
       "218  008e0818dde894fb  kill all niggers i have hard that others have ...   \n",
       "238  0097dd5c29bf7a15  u r a tw fuck off u gay boy u r smelly fuck ur...   \n",
       "\n",
       "     toxic  severe_toxic  obscene  threat  insult  identity_hate  \n",
       "42       1             0        1       0       1              1  \n",
       "105      1             0        1       0       1              1  \n",
       "176      1             0        1       1       1              1  \n",
       "218      1             0        1       0       1              1  \n",
       "238      1             0        1       0       1              1  "
      ]
     },
     "execution_count": 18,
     "metadata": {},
     "output_type": "execute_result"
    }
   ],
   "source": [
    "df[df['identity_hate']==1].head(5)"
   ]
  },
  {
   "cell_type": "markdown",
   "id": "ea270837",
   "metadata": {
    "papermill": {
     "duration": 0.040198,
     "end_time": "2024-04-01T23:29:27.748825",
     "exception": false,
     "start_time": "2024-04-01T23:29:27.708627",
     "status": "completed"
    },
    "tags": []
   },
   "source": [
    "# 5. Visualizing the Dataset"
   ]
  },
  {
   "cell_type": "markdown",
   "id": "42aea088",
   "metadata": {
    "papermill": {
     "duration": 0.038684,
     "end_time": "2024-04-01T23:29:27.827491",
     "exception": false,
     "start_time": "2024-04-01T23:29:27.788807",
     "status": "completed"
    },
    "tags": []
   },
   "source": [
    "**Get the Sum of Comments and Comments of Each Toxicity Criteria**"
   ]
  },
  {
   "cell_type": "code",
   "execution_count": 19,
   "id": "8627294e",
   "metadata": {
    "execution": {
     "iopub.execute_input": "2024-04-01T23:29:27.909695Z",
     "iopub.status.busy": "2024-04-01T23:29:27.908761Z",
     "iopub.status.idle": "2024-04-01T23:29:27.917798Z",
     "shell.execute_reply": "2024-04-01T23:29:27.916974Z"
    },
    "papermill": {
     "duration": 0.051518,
     "end_time": "2024-04-01T23:29:27.919893",
     "exception": false,
     "start_time": "2024-04-01T23:29:27.868375",
     "status": "completed"
    },
    "tags": [],
    "vscode": {
     "languageId": "python"
    }
   },
   "outputs": [],
   "source": [
    "# Use len(df) for getting the total amount of comments (rows)\n",
    "comments_sum = len(df)\n",
    "\n",
    "# Use sum() function for getting the total amount of _____ comments (toxicity criteria)\n",
    "toxic_sum = df[toxicity_criteria[0]].sum()\n",
    "severe_toxic_sum = df[toxicity_criteria[1]].sum()\n",
    "obscene_sum = df[toxicity_criteria[2]].sum()\n",
    "threat_sum = df[toxicity_criteria[3]].sum()\n",
    "insult_sum = df[toxicity_criteria[4]].sum()\n",
    "identity_hate_sum = df[toxicity_criteria[5]].sum()"
   ]
  },
  {
   "cell_type": "markdown",
   "id": "25167a34",
   "metadata": {
    "papermill": {
     "duration": 0.038251,
     "end_time": "2024-04-01T23:29:27.997297",
     "exception": false,
     "start_time": "2024-04-01T23:29:27.959046",
     "status": "completed"
    },
    "tags": []
   },
   "source": [
    "**Print the Sum of Comments and Comments of Each Toxicity Criteria**"
   ]
  },
  {
   "cell_type": "code",
   "execution_count": 20,
   "id": "805c541a",
   "metadata": {
    "execution": {
     "iopub.execute_input": "2024-04-01T23:29:28.077411Z",
     "iopub.status.busy": "2024-04-01T23:29:28.076640Z",
     "iopub.status.idle": "2024-04-01T23:29:28.083636Z",
     "shell.execute_reply": "2024-04-01T23:29:28.082650Z"
    },
    "papermill": {
     "duration": 0.049898,
     "end_time": "2024-04-01T23:29:28.086303",
     "exception": false,
     "start_time": "2024-04-01T23:29:28.036405",
     "status": "completed"
    },
    "tags": [],
    "vscode": {
     "languageId": "python"
    }
   },
   "outputs": [
    {
     "name": "stdout",
     "output_type": "stream",
     "text": [
      "Comments: 159571\n",
      "Toxic Comments: 15294\n",
      "Severe Toxic Comments: 1595\n",
      "Obscene Comments: 8449\n",
      "Threat Comments: 478\n",
      "Insult Comments: 7877\n",
      "Identity Hate Comments: 1405\n"
     ]
    }
   ],
   "source": [
    "# Convert comments_sum to string using str() function\n",
    "print(\"Comments: \" + str(comments_sum))\n",
    "\n",
    "\n",
    "# Convert Sum of Toxicity Criteria to string using str() function\n",
    "print(\"Toxic Comments: \" + str(toxic_sum))\n",
    "print(\"Severe Toxic Comments: \" + str(severe_toxic_sum))\n",
    "print(\"Obscene Comments: \" + str(obscene_sum))\n",
    "print(\"Threat Comments: \" + str(threat_sum))\n",
    "print(\"Insult Comments: \" + str(insult_sum))\n",
    "print(\"Identity Hate Comments: \" + str(identity_hate_sum))"
   ]
  },
  {
   "cell_type": "markdown",
   "id": "699888bc",
   "metadata": {
    "papermill": {
     "duration": 0.03842,
     "end_time": "2024-04-01T23:29:28.164112",
     "exception": false,
     "start_time": "2024-04-01T23:29:28.125692",
     "status": "completed"
    },
    "tags": []
   },
   "source": [
    "**Set Background Color for Seaborn Visualizations to Gray**"
   ]
  },
  {
   "cell_type": "code",
   "execution_count": 21,
   "id": "0934c2f5",
   "metadata": {
    "execution": {
     "iopub.execute_input": "2024-04-01T23:29:28.243680Z",
     "iopub.status.busy": "2024-04-01T23:29:28.242909Z",
     "iopub.status.idle": "2024-04-01T23:29:28.249082Z",
     "shell.execute_reply": "2024-04-01T23:29:28.248079Z"
    },
    "papermill": {
     "duration": 0.048481,
     "end_time": "2024-04-01T23:29:28.251165",
     "exception": false,
     "start_time": "2024-04-01T23:29:28.202684",
     "status": "completed"
    },
    "tags": [],
    "vscode": {
     "languageId": "python"
    }
   },
   "outputs": [],
   "source": [
    "sns.set(rc={'axes.facecolor':'gray'})"
   ]
  },
  {
   "cell_type": "markdown",
   "id": "fcd617bc",
   "metadata": {
    "papermill": {
     "duration": 0.03922,
     "end_time": "2024-04-01T23:29:28.329694",
     "exception": false,
     "start_time": "2024-04-01T23:29:28.290474",
     "status": "completed"
    },
    "tags": []
   },
   "source": [
    "**Visualize the Amount Difference of Toxic and Non-toxic Comments using Seaborn Countplot**"
   ]
  },
  {
   "cell_type": "code",
   "execution_count": 22,
   "id": "13621d24",
   "metadata": {
    "execution": {
     "iopub.execute_input": "2024-04-01T23:29:28.409677Z",
     "iopub.status.busy": "2024-04-01T23:29:28.408772Z",
     "iopub.status.idle": "2024-04-01T23:29:29.141048Z",
     "shell.execute_reply": "2024-04-01T23:29:29.139962Z"
    },
    "papermill": {
     "duration": 0.774669,
     "end_time": "2024-04-01T23:29:29.143293",
     "exception": false,
     "start_time": "2024-04-01T23:29:28.368624",
     "status": "completed"
    },
    "tags": [],
    "vscode": {
     "languageId": "python"
    }
   },
   "outputs": [
    {
     "data": {
      "image/png": "[encoded data removed]",
      "text/plain": [
       "<Figure size 720x720 with 1 Axes>"
      ]
     },
     "metadata": {},
     "output_type": "display_data"
    }
   ],
   "source": [
    "# List for Comments\n",
    "comments = [];\n",
    "\n",
    "# For loop for getting the toxic column in dataset\n",
    "for comment in df['toxic']:\n",
    "    \n",
    "    # If comment value is 1 (comment is toxic)\n",
    "    if (comment == 1):\n",
    "        \n",
    "        # Add Toxic Comments to Comments List\n",
    "        comments.append(\"toxic\");\n",
    "        \n",
    "    # Comment value must be 0 (comment is non-toxic)\n",
    "    else:\n",
    "        \n",
    "        # Add Non-toxic Comments to Comments List\n",
    "        comments.append(\"non-toxic\");\n",
    "\n",
    "# Set the figure size of Countplot Visualization to 10,10\n",
    "fig, ax = plt.subplots(figsize=(10, 10))\n",
    "        \n",
    "# Create Countplot Visualization of Comments List\n",
    "sns.countplot(x = comments, palette='crest', ax=ax);        "
   ]
  },
  {
   "cell_type": "markdown",
   "id": "adc84c76",
   "metadata": {
    "papermill": {
     "duration": 0.038288,
     "end_time": "2024-04-01T23:29:29.220996",
     "exception": false,
     "start_time": "2024-04-01T23:29:29.182708",
     "status": "completed"
    },
    "tags": []
   },
   "source": [
    "**Visualize the Amount Difference of Comments per Toxicity Criteria using Seaborn Barplot**"
   ]
  },
  {
   "cell_type": "code",
   "execution_count": 23,
   "id": "086b9471",
   "metadata": {
    "execution": {
     "iopub.execute_input": "2024-04-01T23:29:29.300844Z",
     "iopub.status.busy": "2024-04-01T23:29:29.300049Z",
     "iopub.status.idle": "2024-04-01T23:29:29.592932Z",
     "shell.execute_reply": "2024-04-01T23:29:29.591914Z"
    },
    "papermill": {
     "duration": 0.335215,
     "end_time": "2024-04-01T23:29:29.595108",
     "exception": false,
     "start_time": "2024-04-01T23:29:29.259893",
     "status": "completed"
    },
    "tags": [],
    "vscode": {
     "languageId": "python"
    }
   },
   "outputs": [
    {
     "data": {
      "text/plain": [
       "<AxesSubplot:title={'center':'Amount Difference of Comments per Toxicity Criteria'}>"
      ]
     },
     "execution_count": 23,
     "metadata": {},
     "output_type": "execute_result"
    },
    {
     "data": {
      "image/png": "[encoded data removed]",
      "text/plain": [
       "<Figure size 720x720 with 1 Axes>"
      ]
     },
     "metadata": {},
     "output_type": "display_data"
    }
   ],
   "source": [
    "# List of Toxicity Sums\n",
    "toxicity_sums = [toxic_sum, severe_toxic_sum, obscene_sum, threat_sum, insult_sum, identity_hate_sum]\n",
    "\n",
    "# Set the figure size of Barplot Visualization to 10,10\n",
    "fig, ax = plt.subplots(figsize=(10, 10))\n",
    "\n",
    "# Set the figure title\n",
    "plt.title('Amount Difference of Comments per Toxicity Criteria')\n",
    "\n",
    "# Create Barplot Visualization of List of Toxicity Sums\n",
    "sns.barplot(x=toxicity_criteria, y=toxicity_sums, palette='viridis', ax=ax)"
   ]
  },
  {
   "cell_type": "markdown",
   "id": "8ee03df0",
   "metadata": {
    "papermill": {
     "duration": 0.040023,
     "end_time": "2024-04-01T23:29:29.676400",
     "exception": false,
     "start_time": "2024-04-01T23:29:29.636377",
     "status": "completed"
    },
    "tags": []
   },
   "source": [
    "**Visualize the Correlation of Toxicity Criteria with Each Other using Seaborn Heatmap**"
   ]
  },
  {
   "cell_type": "code",
   "execution_count": 24,
   "id": "8de34979",
   "metadata": {
    "execution": {
     "iopub.execute_input": "2024-04-01T23:29:29.758509Z",
     "iopub.status.busy": "2024-04-01T23:29:29.758088Z",
     "iopub.status.idle": "2024-04-01T23:29:30.492125Z",
     "shell.execute_reply": "2024-04-01T23:29:30.491101Z"
    },
    "papermill": {
     "duration": 0.778643,
     "end_time": "2024-04-01T23:29:30.494911",
     "exception": false,
     "start_time": "2024-04-01T23:29:29.716268",
     "status": "completed"
    },
    "tags": [],
    "vscode": {
     "languageId": "python"
    }
   },
   "outputs": [
    {
     "data": {
      "text/plain": [
       "<AxesSubplot:title={'center':'Correlation of Toxicity Criteria with Each Other'}>"
      ]
     },
     "execution_count": 24,
     "metadata": {},
     "output_type": "execute_result"
    },
    {
     "data": {
      "image/png": "[encoded data removed]",
      "text/plain": [
       "<Figure size 1080x720 with 2 Axes>"
      ]
     },
     "metadata": {},
     "output_type": "display_data"
    }
   ],
   "source": [
    "# Set the figure size of Heatmap Visualization to 15,10\n",
    "fig, ax = plt.subplots(figsize=(15, 10))\n",
    "\n",
    "# Set the figure title\n",
    "plt.title('Correlation of Toxicity Criteria with Each Other')\n",
    "\n",
    "# Create Heatmap Visualization of Toxicity Criteria\n",
    "sns.heatmap(df[toxicity_criteria].corr(),cmap='rocket_r', annot=True)"
   ]
  },
  {
   "cell_type": "markdown",
   "id": "d6ef5055",
   "metadata": {
    "papermill": {
     "duration": 0.040344,
     "end_time": "2024-04-01T23:29:30.577683",
     "exception": false,
     "start_time": "2024-04-01T23:29:30.537339",
     "status": "completed"
    },
    "tags": []
   },
   "source": [
    "# 6. Undersampling the Data"
   ]
  },
  {
   "cell_type": "markdown",
   "id": "e9b36317",
   "metadata": {
    "papermill": {
     "duration": 0.040542,
     "end_time": "2024-04-01T23:29:30.659070",
     "exception": false,
     "start_time": "2024-04-01T23:29:30.618528",
     "status": "completed"
    },
    "tags": []
   },
   "source": [
    "**As you saw in the Countplot Visualization, the Non-toxic Comments massively outweigh the Toxic Comments**\n",
    "\n",
    "> Undersampling is a great way to have a symmetrical balance on dataset. This would greatly help the machine and lessen the space required to build the model."
   ]
  },
  {
   "cell_type": "code",
   "execution_count": 25,
   "id": "f621cf34",
   "metadata": {
    "execution": {
     "iopub.execute_input": "2024-04-01T23:29:30.799380Z",
     "iopub.status.busy": "2024-04-01T23:29:30.798584Z",
     "iopub.status.idle": "2024-04-01T23:29:31.451855Z",
     "shell.execute_reply": "2024-04-01T23:29:31.450912Z"
    },
    "papermill": {
     "duration": 0.754993,
     "end_time": "2024-04-01T23:29:31.454240",
     "exception": false,
     "start_time": "2024-04-01T23:29:30.699247",
     "status": "completed"
    },
    "tags": []
   },
   "outputs": [
    {
     "data": {
      "image/png": "[encoded data removed]",
      "text/plain": [
       "<Figure size 720x720 with 1 Axes>"
      ]
     },
     "metadata": {},
     "output_type": "display_data"
    }
   ],
   "source": [
    "# Set the figure size of Countplot Visualization to 10,10\n",
    "fig, ax = plt.subplots(figsize=(10, 10))\n",
    "        \n",
    "# Create Countplot Visualization of Comments List\n",
    "sns.countplot(x = comments, palette='crest', ax=ax); "
   ]
  },
  {
   "cell_type": "markdown",
   "id": "c1722d14",
   "metadata": {
    "papermill": {
     "duration": 0.041569,
     "end_time": "2024-04-01T23:29:31.538402",
     "exception": false,
     "start_time": "2024-04-01T23:29:31.496833",
     "status": "completed"
    },
    "tags": []
   },
   "source": [
    "**Make the Dataset Symmetrical using concat() Method**"
   ]
  },
  {
   "cell_type": "code",
   "execution_count": 26,
   "id": "da95e2f3",
   "metadata": {
    "execution": {
     "iopub.execute_input": "2024-04-01T23:29:31.621969Z",
     "iopub.status.busy": "2024-04-01T23:29:31.621546Z",
     "iopub.status.idle": "2024-04-01T23:29:31.654419Z",
     "shell.execute_reply": "2024-04-01T23:29:31.653607Z"
    },
    "papermill": {
     "duration": 0.077503,
     "end_time": "2024-04-01T23:29:31.656680",
     "exception": false,
     "start_time": "2024-04-01T23:29:31.579177",
     "status": "completed"
    },
    "tags": []
   },
   "outputs": [],
   "source": [
    "# Get a number of non-toxic comments sample that is the same total amount of toxic comments using sample() Method\n",
    "non_toxic_undersample = df[df['toxic'] == 0].sample(n=(df['toxic'] == 1).sum(), random_state=201)\n",
    "\n",
    "# Use concat() Method to balance the sum of Toxic and Non-toxic Comments\n",
    "df = pd.concat([df[df['toxic'] == 1], non_toxic_undersample])"
   ]
  },
  {
   "cell_type": "markdown",
   "id": "e0de720c",
   "metadata": {
    "papermill": {
     "duration": 0.041888,
     "end_time": "2024-04-01T23:29:31.739846",
     "exception": false,
     "start_time": "2024-04-01T23:29:31.697958",
     "status": "completed"
    },
    "tags": []
   },
   "source": [
    "**Visualize the Total Amount of Toxic and Non-toxic Comments using Seaborn Countplot**"
   ]
  },
  {
   "cell_type": "code",
   "execution_count": 27,
   "id": "1218a346",
   "metadata": {
    "execution": {
     "iopub.execute_input": "2024-04-01T23:29:31.829055Z",
     "iopub.status.busy": "2024-04-01T23:29:31.828274Z",
     "iopub.status.idle": "2024-04-01T23:29:32.082899Z",
     "shell.execute_reply": "2024-04-01T23:29:32.081522Z"
    },
    "papermill": {
     "duration": 0.302698,
     "end_time": "2024-04-01T23:29:32.087059",
     "exception": false,
     "start_time": "2024-04-01T23:29:31.784361",
     "status": "completed"
    },
    "tags": []
   },
   "outputs": [
    {
     "data": {
      "image/png": "[encoded data removed]",
      "text/plain": [
       "<Figure size 720x720 with 1 Axes>"
      ]
     },
     "metadata": {},
     "output_type": "display_data"
    }
   ],
   "source": [
    "# List for Balanced Comments\n",
    "balanced_comments = [];\n",
    "\n",
    "# For loop for getting the toxic column in dataset\n",
    "for comment in df['toxic']:\n",
    "    \n",
    "    # If comment value is 1 (comment is toxic)\n",
    "    if (comment == 1):\n",
    "        \n",
    "        # Add Toxic Comments to Comments List\n",
    "        balanced_comments.append(\"toxic\");\n",
    "        \n",
    "    # Comment value must be 0 (comment is non-toxic)\n",
    "    else:\n",
    "        \n",
    "        # Add Non-toxic Comments to Comments List\n",
    "        balanced_comments.append(\"non-toxic\");\n",
    "\n",
    "# Set the figure size of Countplot Visualization to 10,10\n",
    "fig, ax = plt.subplots(figsize=(10, 10))\n",
    "        \n",
    "# Create Countplot Visualization of Balanced Comments List\n",
    "sns.countplot(x = balanced_comments, palette='crest', ax=ax);  "
   ]
  },
  {
   "cell_type": "markdown",
   "id": "3654f870",
   "metadata": {
    "papermill": {
     "duration": 0.041019,
     "end_time": "2024-04-01T23:29:32.175259",
     "exception": false,
     "start_time": "2024-04-01T23:29:32.134240",
     "status": "completed"
    },
    "tags": []
   },
   "source": [
    "# 7. Preprocessing the Data"
   ]
  },
  {
   "cell_type": "markdown",
   "id": "dfc01ac9",
   "metadata": {
    "papermill": {
     "duration": 0.040578,
     "end_time": "2024-04-01T23:29:32.256723",
     "exception": false,
     "start_time": "2024-04-01T23:29:32.216145",
     "status": "completed"
    },
    "tags": []
   },
   "source": [
    "**Define X and y labels for the Data**"
   ]
  },
  {
   "cell_type": "code",
   "execution_count": 28,
   "id": "128dd637",
   "metadata": {
    "execution": {
     "iopub.execute_input": "2024-04-01T23:29:32.340455Z",
     "iopub.status.busy": "2024-04-01T23:29:32.340057Z",
     "iopub.status.idle": "2024-04-01T23:29:32.346421Z",
     "shell.execute_reply": "2024-04-01T23:29:32.345511Z"
    },
    "papermill": {
     "duration": 0.050756,
     "end_time": "2024-04-01T23:29:32.348459",
     "exception": false,
     "start_time": "2024-04-01T23:29:32.297703",
     "status": "completed"
    },
    "tags": [],
    "vscode": {
     "languageId": "python"
    }
   },
   "outputs": [],
   "source": [
    "# Set X to the values of Comments Column\n",
    "X = df['comment_text'].values\n",
    "\n",
    "# Set y to the values of Toxicity Criteria Columns\n",
    "y = df[toxicity_criteria].values"
   ]
  },
  {
   "cell_type": "markdown",
   "id": "9ef32a9b",
   "metadata": {
    "papermill": {
     "duration": 0.0404,
     "end_time": "2024-04-01T23:29:32.429646",
     "exception": false,
     "start_time": "2024-04-01T23:29:32.389246",
     "status": "completed"
    },
    "tags": []
   },
   "source": [
    "**Check for the Value of X**"
   ]
  },
  {
   "cell_type": "code",
   "execution_count": 29,
   "id": "8bf1e802",
   "metadata": {
    "execution": {
     "iopub.execute_input": "2024-04-01T23:29:32.513533Z",
     "iopub.status.busy": "2024-04-01T23:29:32.513159Z",
     "iopub.status.idle": "2024-04-01T23:29:32.518304Z",
     "shell.execute_reply": "2024-04-01T23:29:32.517383Z"
    },
    "papermill": {
     "duration": 0.05057,
     "end_time": "2024-04-01T23:29:32.520751",
     "exception": false,
     "start_time": "2024-04-01T23:29:32.470181",
     "status": "completed"
    },
    "tags": [],
    "vscode": {
     "languageId": "python"
    }
   },
   "outputs": [
    {
     "name": "stdout",
     "output_type": "stream",
     "text": [
      "['cocksucker before you piss around on my work'\n",
      " 'hey what is it talk what is it an exclusive group of some wp talibans who are good at destroying self appointed purist who gang up any one who asks them questions abt their anti social and destructive non contribution at wp ask sityush to clean up his behavior than issue me nonsensical warnings'\n",
      " 'bye do not look come or think of comming back tosser' ...\n",
      " 'comparisons i find it strange that the area of poland in the article is compared to that of new mexico i would think that americans would comprise only a small fraction of visitors of this page'\n",
      " 'i removed material from del ponte that led nowhere that time has made irrelevant imo she signed the report june 2013 did not she that superseded her earlier remarks and left them pointless they were not in the least relevant to this article about ghouta if you find rs that link ghouta to her remarks of earlier in 2013 then fine but it just seems to me i removed a sentence that had no place in an article about ghouta its part of her history not ghouta chemical attacks imo'\n",
      " 'r i why did you revert that edit 61 37 16 234']\n"
     ]
    }
   ],
   "source": [
    "print(X)"
   ]
  },
  {
   "cell_type": "markdown",
   "id": "1b2d92f1",
   "metadata": {
    "papermill": {
     "duration": 0.041413,
     "end_time": "2024-04-01T23:29:32.603794",
     "exception": false,
     "start_time": "2024-04-01T23:29:32.562381",
     "status": "completed"
    },
    "tags": []
   },
   "source": [
    "**Check for the Value of y**"
   ]
  },
  {
   "cell_type": "code",
   "execution_count": 30,
   "id": "a1da6057",
   "metadata": {
    "execution": {
     "iopub.execute_input": "2024-04-01T23:29:32.688789Z",
     "iopub.status.busy": "2024-04-01T23:29:32.688410Z",
     "iopub.status.idle": "2024-04-01T23:29:32.693835Z",
     "shell.execute_reply": "2024-04-01T23:29:32.692847Z"
    },
    "papermill": {
     "duration": 0.051322,
     "end_time": "2024-04-01T23:29:32.696336",
     "exception": false,
     "start_time": "2024-04-01T23:29:32.645014",
     "status": "completed"
    },
    "tags": [],
    "vscode": {
     "languageId": "python"
    }
   },
   "outputs": [
    {
     "name": "stdout",
     "output_type": "stream",
     "text": [
      "[[1 1 1 0 1 0]\n",
      " [1 0 0 0 0 0]\n",
      " [1 0 0 0 0 0]\n",
      " ...\n",
      " [0 0 0 0 0 0]\n",
      " [0 0 0 0 0 0]\n",
      " [0 0 0 0 0 0]]\n"
     ]
    }
   ],
   "source": [
    "print(y)"
   ]
  },
  {
   "cell_type": "markdown",
   "id": "32820555",
   "metadata": {
    "papermill": {
     "duration": 0.041732,
     "end_time": "2024-04-01T23:29:32.780105",
     "exception": false,
     "start_time": "2024-04-01T23:29:32.738373",
     "status": "completed"
    },
    "tags": []
   },
   "source": [
    "**Create a Tokenizer for the Data**\n",
    "\n",
    "> A tokenizer is a tool to map **text** into **integer** values for storing words in ease.\n",
    "\n",
    "> My tokenizer has no maximum tokens limit, but has a maximum output sequence length of 3000.\n",
    "\n",
    "> This modification will maximize my model accuracy."
   ]
  },
  {
   "cell_type": "code",
   "execution_count": 31,
   "id": "5214dd77",
   "metadata": {
    "execution": {
     "iopub.execute_input": "2024-04-01T23:29:32.865868Z",
     "iopub.status.busy": "2024-04-01T23:29:32.864999Z",
     "iopub.status.idle": "2024-04-01T23:29:35.467303Z",
     "shell.execute_reply": "2024-04-01T23:29:35.466210Z"
    },
    "papermill": {
     "duration": 2.64817,
     "end_time": "2024-04-01T23:29:35.470088",
     "exception": false,
     "start_time": "2024-04-01T23:29:32.821918",
     "status": "completed"
    },
    "tags": [],
    "vscode": {
     "languageId": "python"
    }
   },
   "outputs": [],
   "source": [
    "tokenizer = TextVectorization(output_sequence_length=3000)"
   ]
  },
  {
   "cell_type": "markdown",
   "id": "6fced04f",
   "metadata": {
    "papermill": {
     "duration": 0.041409,
     "end_time": "2024-04-01T23:29:35.555377",
     "exception": false,
     "start_time": "2024-04-01T23:29:35.513968",
     "status": "completed"
    },
    "tags": []
   },
   "source": [
    "**Pass on Every Word of the Comments to the Tokenizer using adapt() Function**"
   ]
  },
  {
   "cell_type": "code",
   "execution_count": 32,
   "id": "13a58565",
   "metadata": {
    "execution": {
     "iopub.execute_input": "2024-04-01T23:29:35.640587Z",
     "iopub.status.busy": "2024-04-01T23:29:35.639816Z",
     "iopub.status.idle": "2024-04-01T23:29:37.227686Z",
     "shell.execute_reply": "2024-04-01T23:29:37.226565Z"
    },
    "papermill": {
     "duration": 1.633021,
     "end_time": "2024-04-01T23:29:37.230134",
     "exception": false,
     "start_time": "2024-04-01T23:29:35.597113",
     "status": "completed"
    },
    "tags": [],
    "vscode": {
     "languageId": "python"
    }
   },
   "outputs": [],
   "source": [
    "tokenizer.adapt(X)"
   ]
  },
  {
   "cell_type": "markdown",
   "id": "0003493a",
   "metadata": {
    "papermill": {
     "duration": 0.041224,
     "end_time": "2024-04-01T23:29:37.313421",
     "exception": false,
     "start_time": "2024-04-01T23:29:37.272197",
     "status": "completed"
    },
    "tags": []
   },
   "source": [
    "**Check the Words Tokenized using get_vocabulary() Function**"
   ]
  },
  {
   "cell_type": "code",
   "execution_count": 33,
   "id": "94b23b6c",
   "metadata": {
    "execution": {
     "iopub.execute_input": "2024-04-01T23:29:37.398491Z",
     "iopub.status.busy": "2024-04-01T23:29:37.397998Z",
     "iopub.status.idle": "2024-04-01T23:29:37.404648Z",
     "shell.execute_reply": "2024-04-01T23:29:37.403661Z"
    },
    "papermill": {
     "duration": 0.05191,
     "end_time": "2024-04-01T23:29:37.406693",
     "exception": false,
     "start_time": "2024-04-01T23:29:37.354783",
     "status": "completed"
    },
    "tags": [],
    "vscode": {
     "languageId": "python"
    }
   },
   "outputs": [
    {
     "data": {
      "text/plain": [
       "<bound method TextVectorization.get_vocabulary of <keras.layers.preprocessing.text_vectorization.TextVectorization object at 0x7a94724fe810>>"
      ]
     },
     "execution_count": 33,
     "metadata": {},
     "output_type": "execute_result"
    }
   ],
   "source": [
    "tokenizer.get_vocabulary"
   ]
  },
  {
   "cell_type": "markdown",
   "id": "b5ee457a",
   "metadata": {
    "papermill": {
     "duration": 0.041634,
     "end_time": "2024-04-01T23:29:37.490543",
     "exception": false,
     "start_time": "2024-04-01T23:29:37.448909",
     "status": "completed"
    },
    "tags": []
   },
   "source": [
    "**Create a Tokenized Words Variable and Tokenize the Comments using Tokenizer()**"
   ]
  },
  {
   "cell_type": "code",
   "execution_count": 34,
   "id": "f3948112",
   "metadata": {
    "execution": {
     "iopub.execute_input": "2024-04-01T23:29:37.577131Z",
     "iopub.status.busy": "2024-04-01T23:29:37.576766Z",
     "iopub.status.idle": "2024-04-01T23:29:38.519704Z",
     "shell.execute_reply": "2024-04-01T23:29:38.518842Z"
    },
    "papermill": {
     "duration": 0.988188,
     "end_time": "2024-04-01T23:29:38.522304",
     "exception": false,
     "start_time": "2024-04-01T23:29:37.534116",
     "status": "completed"
    },
    "tags": [],
    "vscode": {
     "languageId": "python"
    }
   },
   "outputs": [],
   "source": [
    "tokenized_words = tokenizer(X)"
   ]
  },
  {
   "cell_type": "markdown",
   "id": "edd663f7",
   "metadata": {
    "papermill": {
     "duration": 0.049314,
     "end_time": "2024-04-01T23:29:38.615441",
     "exception": false,
     "start_time": "2024-04-01T23:29:38.566127",
     "status": "completed"
    },
    "tags": []
   },
   "source": [
    "**Get the Total Amount of Comments (value of X) using len() Function**"
   ]
  },
  {
   "cell_type": "code",
   "execution_count": 35,
   "id": "c3d2bf6c",
   "metadata": {
    "execution": {
     "iopub.execute_input": "2024-04-01T23:29:38.714762Z",
     "iopub.status.busy": "2024-04-01T23:29:38.714359Z",
     "iopub.status.idle": "2024-04-01T23:29:38.720847Z",
     "shell.execute_reply": "2024-04-01T23:29:38.719749Z"
    },
    "papermill": {
     "duration": 0.058377,
     "end_time": "2024-04-01T23:29:38.723420",
     "exception": false,
     "start_time": "2024-04-01T23:29:38.665043",
     "status": "completed"
    },
    "tags": [],
    "vscode": {
     "languageId": "python"
    }
   },
   "outputs": [
    {
     "data": {
      "text/plain": [
       "30588"
      ]
     },
     "execution_count": 35,
     "metadata": {},
     "output_type": "execute_result"
    }
   ],
   "source": [
    "len(X)"
   ]
  },
  {
   "cell_type": "markdown",
   "id": "b0a09bee",
   "metadata": {
    "papermill": {
     "duration": 0.047738,
     "end_time": "2024-04-01T23:29:38.818957",
     "exception": false,
     "start_time": "2024-04-01T23:29:38.771219",
     "status": "completed"
    },
    "tags": []
   },
   "source": [
    "**Print the Tokenized Words**\n",
    "\n",
    "> Take note of the shape (30588, 3000)\n",
    "\n",
    "> **30588** is the Number of Comments\n",
    "\n",
    "> **3000** is the Output Sequence Length in Tokenizer\n",
    "\n",
    "> This proves that the Words have been Tokenized correctly"
   ]
  },
  {
   "cell_type": "code",
   "execution_count": 36,
   "id": "3466baa9",
   "metadata": {
    "execution": {
     "iopub.execute_input": "2024-04-01T23:29:38.913861Z",
     "iopub.status.busy": "2024-04-01T23:29:38.913040Z",
     "iopub.status.idle": "2024-04-01T23:29:38.918917Z",
     "shell.execute_reply": "2024-04-01T23:29:38.917917Z"
    },
    "papermill": {
     "duration": 0.056069,
     "end_time": "2024-04-01T23:29:38.921418",
     "exception": false,
     "start_time": "2024-04-01T23:29:38.865349",
     "status": "completed"
    },
    "tags": [],
    "vscode": {
     "languageId": "python"
    }
   },
   "outputs": [
    {
     "name": "stdout",
     "output_type": "stream",
     "text": [
      "tf.Tensor(\n",
      "[[ 411  161    3 ...    0    0    0]\n",
      " [ 231   37    9 ...    0    0    0]\n",
      " [1810   20   10 ...    0    0    0]\n",
      " ...\n",
      " [6111    4  182 ...    0    0    0]\n",
      " [   4  267  454 ...    0    0    0]\n",
      " [ 563    4   73 ...    0    0    0]], shape=(30588, 3000), dtype=int64)\n"
     ]
    }
   ],
   "source": [
    "print(tokenized_words)"
   ]
  },
  {
   "cell_type": "markdown",
   "id": "0d6e23ff",
   "metadata": {
    "papermill": {
     "duration": 0.043141,
     "end_time": "2024-04-01T23:29:39.008474",
     "exception": false,
     "start_time": "2024-04-01T23:29:38.965333",
     "status": "completed"
    },
    "tags": []
   },
   "source": [
    "**Map, Cache, Shuffle, Batch, and Prefetch the Data**\n",
    "\n",
    "> Map - is for creating a tensorflow pipeline. Used when data is too large.\n",
    "\n",
    "> Cache - store data in a cache memory\n",
    "\n",
    "> Shuffle - passing through the buffer size (16000)\n",
    "\n",
    "> Batch - groups data into 16 bacthes as samples\n",
    "\n",
    "> Prefetch - prevents data congestion\n",
    "\n",
    "\n",
    "> This 5 crucial steps is usually done with tokenization for breaking down the data in smaller bits"
   ]
  },
  {
   "cell_type": "code",
   "execution_count": 37,
   "id": "6c94efba",
   "metadata": {
    "execution": {
     "iopub.execute_input": "2024-04-01T23:29:39.097748Z",
     "iopub.status.busy": "2024-04-01T23:29:39.096943Z",
     "iopub.status.idle": "2024-04-01T23:29:39.108654Z",
     "shell.execute_reply": "2024-04-01T23:29:39.107689Z"
    },
    "papermill": {
     "duration": 0.05923,
     "end_time": "2024-04-01T23:29:39.111174",
     "exception": false,
     "start_time": "2024-04-01T23:29:39.051944",
     "status": "completed"
    },
    "tags": [],
    "vscode": {
     "languageId": "python"
    }
   },
   "outputs": [],
   "source": [
    "comment_data = tf.data.Dataset.from_tensor_slices((tokenized_words, y))\n",
    "comment_data = comment_data.cache()\n",
    "comment_data = comment_data.shuffle(160000)\n",
    "comment_data = comment_data.batch(16)\n",
    "comment_data = comment_data.prefetch(8)"
   ]
  },
  {
   "cell_type": "markdown",
   "id": "f7378b9d",
   "metadata": {
    "papermill": {
     "duration": 0.043181,
     "end_time": "2024-04-01T23:29:39.198264",
     "exception": false,
     "start_time": "2024-04-01T23:29:39.155083",
     "status": "completed"
    },
    "tags": []
   },
   "source": [
    "**Print a Batch Sample in Comment Data using as_numpy_iterator() Function**"
   ]
  },
  {
   "cell_type": "code",
   "execution_count": 38,
   "id": "d4485487",
   "metadata": {
    "execution": {
     "iopub.execute_input": "2024-04-01T23:29:39.287867Z",
     "iopub.status.busy": "2024-04-01T23:29:39.287034Z",
     "iopub.status.idle": "2024-04-01T23:29:39.941031Z",
     "shell.execute_reply": "2024-04-01T23:29:39.939463Z"
    },
    "papermill": {
     "duration": 0.70193,
     "end_time": "2024-04-01T23:29:39.943996",
     "exception": false,
     "start_time": "2024-04-01T23:29:39.242066",
     "status": "completed"
    },
    "tags": [],
    "vscode": {
     "languageId": "python"
    }
   },
   "outputs": [
    {
     "name": "stdout",
     "output_type": "stream",
     "text": [
      "(array([[  51,  763,  219, ...,    0,    0,    0],\n",
      "       [  83,    8,  557, ...,    0,    0,    0],\n",
      "       [  15,  303,  474, ...,    0,    0,    0],\n",
      "       ...,\n",
      "       [  20,   10, 2719, ...,    0,    0,    0],\n",
      "       [   9,   86, 1048, ...,    0,    0,    0],\n",
      "       [   8,  510,    5, ...,    0,    0,    0]]), array([[0, 0, 0, 0, 0, 0],\n",
      "       [0, 0, 0, 0, 0, 0],\n",
      "       [0, 0, 0, 0, 0, 0],\n",
      "       [1, 0, 0, 0, 0, 0],\n",
      "       [1, 0, 0, 0, 0, 0],\n",
      "       [0, 0, 0, 0, 0, 0],\n",
      "       [0, 0, 0, 0, 0, 0],\n",
      "       [0, 0, 0, 0, 0, 0],\n",
      "       [0, 0, 0, 0, 0, 0],\n",
      "       [1, 0, 0, 0, 0, 0],\n",
      "       [0, 0, 0, 0, 0, 0],\n",
      "       [0, 0, 0, 0, 0, 0],\n",
      "       [0, 0, 0, 0, 0, 0],\n",
      "       [1, 0, 0, 0, 0, 0],\n",
      "       [0, 0, 0, 0, 0, 0],\n",
      "       [0, 0, 0, 0, 0, 0]]))\n"
     ]
    }
   ],
   "source": [
    "print(comment_data.as_numpy_iterator().next())"
   ]
  },
  {
   "cell_type": "markdown",
   "id": "75bc510a",
   "metadata": {
    "papermill": {
     "duration": 0.042623,
     "end_time": "2024-04-01T23:29:40.033629",
     "exception": false,
     "start_time": "2024-04-01T23:29:39.991006",
     "status": "completed"
    },
    "tags": []
   },
   "source": [
    "**Define Comment Batch X and y for showing the Data Batch Shape**"
   ]
  },
  {
   "cell_type": "code",
   "execution_count": 39,
   "id": "571f3da7",
   "metadata": {
    "execution": {
     "iopub.execute_input": "2024-04-01T23:29:40.120120Z",
     "iopub.status.busy": "2024-04-01T23:29:40.119274Z",
     "iopub.status.idle": "2024-04-01T23:29:40.731632Z",
     "shell.execute_reply": "2024-04-01T23:29:40.730441Z"
    },
    "papermill": {
     "duration": 0.658641,
     "end_time": "2024-04-01T23:29:40.734389",
     "exception": false,
     "start_time": "2024-04-01T23:29:40.075748",
     "status": "completed"
    },
    "tags": [],
    "vscode": {
     "languageId": "python"
    }
   },
   "outputs": [],
   "source": [
    "comm_batch_X, comm_batch_y = comment_data.as_numpy_iterator().next()"
   ]
  },
  {
   "cell_type": "markdown",
   "id": "08b0cda4",
   "metadata": {
    "papermill": {
     "duration": 0.043268,
     "end_time": "2024-04-01T23:29:40.822550",
     "exception": false,
     "start_time": "2024-04-01T23:29:40.779282",
     "status": "completed"
    },
    "tags": []
   },
   "source": [
    "**Print Comment Batch X Shape**\n",
    "\n",
    "> Batch X represents the batched words from comments \n",
    "\n",
    "> The shape (16, 3000) means (**number of batches**, **outline sequence length of Text Vectorization**)"
   ]
  },
  {
   "cell_type": "code",
   "execution_count": 40,
   "id": "c377d78f",
   "metadata": {
    "execution": {
     "iopub.execute_input": "2024-04-01T23:29:40.909690Z",
     "iopub.status.busy": "2024-04-01T23:29:40.909243Z",
     "iopub.status.idle": "2024-04-01T23:29:40.914486Z",
     "shell.execute_reply": "2024-04-01T23:29:40.913558Z"
    },
    "papermill": {
     "duration": 0.051611,
     "end_time": "2024-04-01T23:29:40.916928",
     "exception": false,
     "start_time": "2024-04-01T23:29:40.865317",
     "status": "completed"
    },
    "tags": [],
    "vscode": {
     "languageId": "python"
    }
   },
   "outputs": [
    {
     "name": "stdout",
     "output_type": "stream",
     "text": [
      "(16, 3000)\n"
     ]
    }
   ],
   "source": [
    "print(comm_batch_X.shape)"
   ]
  },
  {
   "cell_type": "markdown",
   "id": "7b45e716",
   "metadata": {
    "papermill": {
     "duration": 0.042873,
     "end_time": "2024-04-01T23:29:41.002766",
     "exception": false,
     "start_time": "2024-04-01T23:29:40.959893",
     "status": "completed"
    },
    "tags": []
   },
   "source": [
    "**Print Comment Batch X Shape**\n",
    "\n",
    "> Batch y represents the bnumber of values each token\n",
    "\n",
    "> The shape (16, 6) means (**number of batches**, **number of values per token**)"
   ]
  },
  {
   "cell_type": "code",
   "execution_count": 41,
   "id": "815a586c",
   "metadata": {
    "execution": {
     "iopub.execute_input": "2024-04-01T23:29:41.090792Z",
     "iopub.status.busy": "2024-04-01T23:29:41.090403Z",
     "iopub.status.idle": "2024-04-01T23:29:41.095510Z",
     "shell.execute_reply": "2024-04-01T23:29:41.094565Z"
    },
    "papermill": {
     "duration": 0.051784,
     "end_time": "2024-04-01T23:29:41.097924",
     "exception": false,
     "start_time": "2024-04-01T23:29:41.046140",
     "status": "completed"
    },
    "tags": [],
    "vscode": {
     "languageId": "python"
    }
   },
   "outputs": [
    {
     "name": "stdout",
     "output_type": "stream",
     "text": [
      "(16, 6)\n"
     ]
    }
   ],
   "source": [
    "print(comm_batch_y.shape)"
   ]
  },
  {
   "cell_type": "markdown",
   "id": "28967e76",
   "metadata": {
    "papermill": {
     "duration": 0.043089,
     "end_time": "2024-04-01T23:29:41.184604",
     "exception": false,
     "start_time": "2024-04-01T23:29:41.141515",
     "status": "completed"
    },
    "tags": []
   },
   "source": [
    "**Print the Total Amount of Samples per Batch**"
   ]
  },
  {
   "cell_type": "code",
   "execution_count": 42,
   "id": "256ab227",
   "metadata": {
    "execution": {
     "iopub.execute_input": "2024-04-01T23:29:41.271208Z",
     "iopub.status.busy": "2024-04-01T23:29:41.270599Z",
     "iopub.status.idle": "2024-04-01T23:29:41.275805Z",
     "shell.execute_reply": "2024-04-01T23:29:41.274872Z"
    },
    "papermill": {
     "duration": 0.051082,
     "end_time": "2024-04-01T23:29:41.278078",
     "exception": false,
     "start_time": "2024-04-01T23:29:41.226996",
     "status": "completed"
    },
    "tags": [],
    "vscode": {
     "languageId": "python"
    }
   },
   "outputs": [
    {
     "name": "stdout",
     "output_type": "stream",
     "text": [
      "1912\n"
     ]
    }
   ],
   "source": [
    "print(len(comment_data))"
   ]
  },
  {
   "cell_type": "markdown",
   "id": "81c7020a",
   "metadata": {
    "papermill": {
     "duration": 0.041889,
     "end_time": "2024-04-01T23:29:41.362467",
     "exception": false,
     "start_time": "2024-04-01T23:29:41.320578",
     "status": "completed"
    },
    "tags": []
   },
   "source": [
    "**Split the Data into Corresponding Percentage**"
   ]
  },
  {
   "cell_type": "code",
   "execution_count": 43,
   "id": "ca3d41a2",
   "metadata": {
    "execution": {
     "iopub.execute_input": "2024-04-01T23:29:41.449294Z",
     "iopub.status.busy": "2024-04-01T23:29:41.448974Z",
     "iopub.status.idle": "2024-04-01T23:29:41.458766Z",
     "shell.execute_reply": "2024-04-01T23:29:41.458019Z"
    },
    "papermill": {
     "duration": 0.055895,
     "end_time": "2024-04-01T23:29:41.460811",
     "exception": false,
     "start_time": "2024-04-01T23:29:41.404916",
     "status": "completed"
    },
    "tags": [],
    "vscode": {
     "languageId": "python"
    }
   },
   "outputs": [],
   "source": [
    "# Take 70% of Comment Data for training the model\n",
    "# Use take() Function for getting the percentage of data\n",
    "# Mulitply the Sum of Comment Data to 0.7 and convert it to int to get the 70% number of data\n",
    "training_data = comment_data.take(int(len(comment_data) * 0.7))\n",
    "\n",
    "# Take 20% of the remaining Comment Data for validating the data of the model\n",
    "# Use skip() Function to skip the first 70% of Comment data using the Sum of Training Data \n",
    "# Use take() Function for getting the percentage of data\n",
    "# Mulitply the Sum of Comment Data to 0.2 and convert it to int to get the 20% number of data\n",
    "validating_data = comment_data.skip(len(training_data)).take(int(len(comment_data) * 0.2))\n",
    "\n",
    "# Take 10% of the remaining Comment Data for testing the model\n",
    "# Use skip() Function to skip the first 90% of Comment data  using the Sum of Training Data and Validating Data\n",
    "# Use take() Function for getting the percentage of data\n",
    "# Mulitply the Sum of Comment Data to 0.1 and convert it to int to get the 10% number of data\n",
    "testing_data = comment_data.skip(len(training_data) + len(validating_data)).take(int(len(comment_data) * 0.1))"
   ]
  },
  {
   "cell_type": "markdown",
   "id": "cc00e237",
   "metadata": {
    "papermill": {
     "duration": 0.043716,
     "end_time": "2024-04-01T23:29:41.546992",
     "exception": false,
     "start_time": "2024-04-01T23:29:41.503276",
     "status": "completed"
    },
    "tags": []
   },
   "source": [
    "**Check the Total Amount of Training Data**\n",
    "\n",
    "> The 70% of 1912 (Total Amount of Comment Data) is 1338\n",
    "\n",
    "> This proves that the splitting of data is correct!"
   ]
  },
  {
   "cell_type": "code",
   "execution_count": 44,
   "id": "5106ab68",
   "metadata": {
    "execution": {
     "iopub.execute_input": "2024-04-01T23:29:41.638408Z",
     "iopub.status.busy": "2024-04-01T23:29:41.637615Z",
     "iopub.status.idle": "2024-04-01T23:29:41.643087Z",
     "shell.execute_reply": "2024-04-01T23:29:41.642061Z"
    },
    "papermill": {
     "duration": 0.054296,
     "end_time": "2024-04-01T23:29:41.645699",
     "exception": false,
     "start_time": "2024-04-01T23:29:41.591403",
     "status": "completed"
    },
    "tags": [],
    "vscode": {
     "languageId": "python"
    }
   },
   "outputs": [
    {
     "name": "stdout",
     "output_type": "stream",
     "text": [
      "1338\n"
     ]
    }
   ],
   "source": [
    "print(len(training_data))"
   ]
  },
  {
   "cell_type": "markdown",
   "id": "0aaab6b2",
   "metadata": {
    "papermill": {
     "duration": 0.04396,
     "end_time": "2024-04-01T23:29:41.734112",
     "exception": false,
     "start_time": "2024-04-01T23:29:41.690152",
     "status": "completed"
    },
    "tags": []
   },
   "source": [
    "**Check the Total Amount of Validating Data**\n",
    "\n",
    "> The 20% of 1912 (Total Amount of Comment Data) is 382\n",
    "\n",
    "> This proves that the splitting of data is correct!"
   ]
  },
  {
   "cell_type": "code",
   "execution_count": 45,
   "id": "7179eec1",
   "metadata": {
    "execution": {
     "iopub.execute_input": "2024-04-01T23:29:41.825324Z",
     "iopub.status.busy": "2024-04-01T23:29:41.824645Z",
     "iopub.status.idle": "2024-04-01T23:29:41.830306Z",
     "shell.execute_reply": "2024-04-01T23:29:41.829246Z"
    },
    "papermill": {
     "duration": 0.054678,
     "end_time": "2024-04-01T23:29:41.832827",
     "exception": false,
     "start_time": "2024-04-01T23:29:41.778149",
     "status": "completed"
    },
    "tags": [],
    "vscode": {
     "languageId": "python"
    }
   },
   "outputs": [
    {
     "name": "stdout",
     "output_type": "stream",
     "text": [
      "382\n"
     ]
    }
   ],
   "source": [
    "print(len(validating_data))"
   ]
  },
  {
   "cell_type": "markdown",
   "id": "a10b1f9c",
   "metadata": {
    "papermill": {
     "duration": 0.044976,
     "end_time": "2024-04-01T23:29:41.923167",
     "exception": false,
     "start_time": "2024-04-01T23:29:41.878191",
     "status": "completed"
    },
    "tags": []
   },
   "source": [
    "**Check the Total Amount of Testing Data**\n",
    "\n",
    "> The 10% of 1912 (Total Amount of Comment Data) is 191\n",
    "\n",
    "> This proves that the splitting of data is correct!"
   ]
  },
  {
   "cell_type": "code",
   "execution_count": 46,
   "id": "1b666ad4",
   "metadata": {
    "execution": {
     "iopub.execute_input": "2024-04-01T23:29:42.028105Z",
     "iopub.status.busy": "2024-04-01T23:29:42.027213Z",
     "iopub.status.idle": "2024-04-01T23:29:42.033607Z",
     "shell.execute_reply": "2024-04-01T23:29:42.032544Z"
    },
    "papermill": {
     "duration": 0.062277,
     "end_time": "2024-04-01T23:29:42.036223",
     "exception": false,
     "start_time": "2024-04-01T23:29:41.973946",
     "status": "completed"
    },
    "tags": [],
    "vscode": {
     "languageId": "python"
    }
   },
   "outputs": [
    {
     "name": "stdout",
     "output_type": "stream",
     "text": [
      "191\n"
     ]
    }
   ],
   "source": [
    "print(len(testing_data))"
   ]
  },
  {
   "cell_type": "markdown",
   "id": "fce5ecb4",
   "metadata": {
    "papermill": {
     "duration": 0.050913,
     "end_time": "2024-04-01T23:29:42.138861",
     "exception": false,
     "start_time": "2024-04-01T23:29:42.087948",
     "status": "completed"
    },
    "tags": []
   },
   "source": [
    "# 8. Build the Sequential Model"
   ]
  },
  {
   "cell_type": "markdown",
   "id": "2210573b",
   "metadata": {
    "papermill": {
     "duration": 0.044261,
     "end_time": "2024-04-01T23:29:42.233601",
     "exception": false,
     "start_time": "2024-04-01T23:29:42.189340",
     "status": "completed"
    },
    "tags": []
   },
   "source": [
    "**Create Function for Creating the Sequential Model**"
   ]
  },
  {
   "cell_type": "code",
   "execution_count": 47,
   "id": "976a6275",
   "metadata": {
    "execution": {
     "iopub.execute_input": "2024-04-01T23:29:42.327043Z",
     "iopub.status.busy": "2024-04-01T23:29:42.325986Z",
     "iopub.status.idle": "2024-04-01T23:29:42.335484Z",
     "shell.execute_reply": "2024-04-01T23:29:42.334486Z"
    },
    "papermill": {
     "duration": 0.059828,
     "end_time": "2024-04-01T23:29:42.337613",
     "exception": false,
     "start_time": "2024-04-01T23:29:42.277785",
     "status": "completed"
    },
    "tags": [],
    "vscode": {
     "languageId": "python"
    }
   },
   "outputs": [],
   "source": [
    "# Function for creating the Sequential Model\n",
    "def create_Sequential_Model():\n",
    "    \n",
    "    # Set the model to Sequential\n",
    "    seq_model = Sequential()\n",
    "    \n",
    "    \n",
    "    # Use tensorflow keras layers for building the deep neural network\n",
    "    \n",
    "    \n",
    "    # Add an embedding layer to the model\n",
    "    # The embedding should have 300001 layers that will be 32 values long\n",
    "    seq_model.add(Embedding(300001, 32))\n",
    "    \n",
    "    # Add a Bidirectional and LSTM Layer\n",
    "    # The LSTM Layer has 32 units and tanh activation (used tanh because it's the only one accepted by LSTM)\n",
    "    # The Bidirectional Layers allows the LSTM Layer to pass information in both directions\n",
    "    seq_model.add(Bidirectional(LSTM(32, activation='tanh')))\n",
    "    \n",
    "    # Add 3 Connected Dense Layers\n",
    "    # The Dense Layer has 128, 256, and 128 units and relu activations\n",
    "    # These layers are used for extracting features\n",
    "    seq_model.add(Dense(128, activation='relu'))\n",
    "    seq_model.add(Dense(256, activation='relu'))\n",
    "    seq_model.add(Dense(128, activation='relu'))\n",
    "    \n",
    "    # Add Dense Layer\n",
    "    # This Special Dense Layer is for mapping the number of values per output (6)\n",
    "    # The Layer has a sigmoid activation\n",
    "    # Sigmoid is used for converting outputs from the previous layers to 0 and 1\n",
    "    seq_model.add(Dense(6, activation='sigmoid'))\n",
    "    \n",
    "    # Compile the model and set the loss to BinaryCrossentropy\n",
    "    # BinaryCrossentropy was used because the values vary from 0 to 1 only\n",
    "    # Thus, making BinaryCrossentropy more effective on reducing loss\n",
    "    # Set the optimizer to Adam \n",
    "    seq_model.compile(loss='BinaryCrossentropy', optimizer='Adam', metrics=['accuracy'])\n",
    "    \n",
    "    # Return the Sequential Model variable\n",
    "    return seq_model"
   ]
  },
  {
   "cell_type": "markdown",
   "id": "a1cf3f7d",
   "metadata": {
    "papermill": {
     "duration": 0.043141,
     "end_time": "2024-04-01T23:29:42.425628",
     "exception": false,
     "start_time": "2024-04-01T23:29:42.382487",
     "status": "completed"
    },
    "tags": []
   },
   "source": [
    "**Build the Model by calling the create_Sequential_Model Function**"
   ]
  },
  {
   "cell_type": "code",
   "execution_count": 48,
   "id": "9eeb8034",
   "metadata": {
    "execution": {
     "iopub.execute_input": "2024-04-01T23:29:42.516662Z",
     "iopub.status.busy": "2024-04-01T23:29:42.515701Z",
     "iopub.status.idle": "2024-04-01T23:29:43.026436Z",
     "shell.execute_reply": "2024-04-01T23:29:43.025366Z"
    },
    "papermill": {
     "duration": 0.559755,
     "end_time": "2024-04-01T23:29:43.029054",
     "exception": false,
     "start_time": "2024-04-01T23:29:42.469299",
     "status": "completed"
    },
    "tags": [],
    "vscode": {
     "languageId": "python"
    }
   },
   "outputs": [],
   "source": [
    "model = create_Sequential_Model()"
   ]
  },
  {
   "cell_type": "markdown",
   "id": "7d946a93",
   "metadata": {
    "papermill": {
     "duration": 0.043471,
     "end_time": "2024-04-01T23:29:43.116692",
     "exception": false,
     "start_time": "2024-04-01T23:29:43.073221",
     "status": "completed"
    },
    "tags": []
   },
   "source": [
    "**Print the Model Summary for validation using summary() Function**"
   ]
  },
  {
   "cell_type": "code",
   "execution_count": 49,
   "id": "181b703b",
   "metadata": {
    "execution": {
     "iopub.execute_input": "2024-04-01T23:29:43.206057Z",
     "iopub.status.busy": "2024-04-01T23:29:43.205402Z",
     "iopub.status.idle": "2024-04-01T23:29:43.212154Z",
     "shell.execute_reply": "2024-04-01T23:29:43.211233Z"
    },
    "papermill": {
     "duration": 0.054259,
     "end_time": "2024-04-01T23:29:43.214677",
     "exception": false,
     "start_time": "2024-04-01T23:29:43.160418",
     "status": "completed"
    },
    "tags": [],
    "vscode": {
     "languageId": "python"
    }
   },
   "outputs": [
    {
     "name": "stdout",
     "output_type": "stream",
     "text": [
      "Model: \"sequential\"\n",
      "_________________________________________________________________\n",
      "Layer (type)                 Output Shape              Param #   \n",
      "=================================================================\n",
      "embedding (Embedding)        (None, None, 32)          9600032   \n",
      "_________________________________________________________________\n",
      "bidirectional (Bidirectional (None, 64)                16640     \n",
      "_________________________________________________________________\n",
      "dense (Dense)                (None, 128)               8320      \n",
      "_________________________________________________________________\n",
      "dense_1 (Dense)              (None, 256)               33024     \n",
      "_________________________________________________________________\n",
      "dense_2 (Dense)              (None, 128)               32896     \n",
      "_________________________________________________________________\n",
      "dense_3 (Dense)              (None, 6)                 774       \n",
      "=================================================================\n",
      "Total params: 9,691,686\n",
      "Trainable params: 9,691,686\n",
      "Non-trainable params: 0\n",
      "_________________________________________________________________\n"
     ]
    }
   ],
   "source": [
    "model.summary()"
   ]
  },
  {
   "cell_type": "markdown",
   "id": "74b12f29",
   "metadata": {
    "papermill": {
     "duration": 0.044386,
     "end_time": "2024-04-01T23:29:43.302731",
     "exception": false,
     "start_time": "2024-04-01T23:29:43.258345",
     "status": "completed"
    },
    "tags": []
   },
   "source": [
    "# 9. Fit the Model to Data Training"
   ]
  },
  {
   "cell_type": "markdown",
   "id": "2ca2a760",
   "metadata": {
    "papermill": {
     "duration": 0.044389,
     "end_time": "2024-04-01T23:29:43.391031",
     "exception": false,
     "start_time": "2024-04-01T23:29:43.346642",
     "status": "completed"
    },
    "tags": []
   },
   "source": [
    "**Create a History Variable and Fit the Model using fit() Function**\n",
    "\n",
    "> In the fit() Function:\n",
    "\n",
    "> Pass on the training_data variable\n",
    "\n",
    "> Set the epochs to 10\n",
    "\n",
    "> Set the Validation Data to the validating_data variable"
   ]
  },
  {
   "cell_type": "code",
   "execution_count": 50,
   "id": "6f8c9fa0",
   "metadata": {
    "execution": {
     "iopub.execute_input": "2024-04-01T23:29:43.483032Z",
     "iopub.status.busy": "2024-04-01T23:29:43.482212Z",
     "iopub.status.idle": "2024-04-02T00:11:54.437400Z",
     "shell.execute_reply": "2024-04-02T00:11:54.436412Z"
    },
    "papermill": {
     "duration": 2531.0038,
     "end_time": "2024-04-02T00:11:54.439797",
     "exception": false,
     "start_time": "2024-04-01T23:29:43.435997",
     "status": "completed"
    },
    "tags": [],
    "vscode": {
     "languageId": "python"
    }
   },
   "outputs": [
    {
     "name": "stdout",
     "output_type": "stream",
     "text": [
      "Epoch 1/10\n",
      "1338/1338 [==============================] - 242s 178ms/step - loss: 0.2305 - accuracy: 0.9961 - val_loss: 0.1706 - val_accuracy: 0.9959\n",
      "Epoch 2/10\n",
      "1338/1338 [==============================] - 238s 178ms/step - loss: 0.1665 - accuracy: 0.9967 - val_loss: 0.1678 - val_accuracy: 0.9969\n",
      "Epoch 3/10\n",
      "1338/1338 [==============================] - 238s 178ms/step - loss: 0.1544 - accuracy: 0.9965 - val_loss: 0.1357 - val_accuracy: 0.9954\n",
      "Epoch 4/10\n",
      "1338/1338 [==============================] - 238s 178ms/step - loss: 0.1387 - accuracy: 0.9964 - val_loss: 0.1238 - val_accuracy: 0.9962\n",
      "Epoch 5/10\n",
      "1338/1338 [==============================] - 238s 178ms/step - loss: 0.1266 - accuracy: 0.9967 - val_loss: 0.1089 - val_accuracy: 0.9964\n",
      "Epoch 6/10\n",
      "1338/1338 [==============================] - 238s 178ms/step - loss: 0.1122 - accuracy: 0.9966 - val_loss: 0.1047 - val_accuracy: 0.9969\n",
      "Epoch 7/10\n",
      "1338/1338 [==============================] - 238s 178ms/step - loss: 0.1039 - accuracy: 0.9962 - val_loss: 0.0849 - val_accuracy: 0.9971\n",
      "Epoch 8/10\n",
      "1338/1338 [==============================] - 238s 178ms/step - loss: 0.0884 - accuracy: 0.9963 - val_loss: 0.0782 - val_accuracy: 0.9961\n",
      "Epoch 9/10\n",
      "1338/1338 [==============================] - 238s 178ms/step - loss: 0.0808 - accuracy: 0.9727 - val_loss: 0.0679 - val_accuracy: 0.9974\n",
      "Epoch 10/10\n",
      "1338/1338 [==============================] - 238s 178ms/step - loss: 0.0721 - accuracy: 0.9387 - val_loss: 0.0639 - val_accuracy: 0.9962\n"
     ]
    }
   ],
   "source": [
    "history = model.fit(training_data, epochs=10, validation_data=validating_data)"
   ]
  },
  {
   "cell_type": "markdown",
   "id": "9af785dc",
   "metadata": {
    "papermill": {
     "duration": 1.033838,
     "end_time": "2024-04-02T00:11:56.516331",
     "exception": false,
     "start_time": "2024-04-02T00:11:55.482493",
     "status": "completed"
    },
    "tags": []
   },
   "source": [
    "**Show the Raw History Array Result**"
   ]
  },
  {
   "cell_type": "code",
   "execution_count": 51,
   "id": "ebe1e008",
   "metadata": {
    "execution": {
     "iopub.execute_input": "2024-04-02T00:11:58.707519Z",
     "iopub.status.busy": "2024-04-02T00:11:58.707067Z",
     "iopub.status.idle": "2024-04-02T00:11:58.714267Z",
     "shell.execute_reply": "2024-04-02T00:11:58.713382Z"
    },
    "papermill": {
     "duration": 1.104141,
     "end_time": "2024-04-02T00:11:58.716448",
     "exception": false,
     "start_time": "2024-04-02T00:11:57.612307",
     "status": "completed"
    },
    "tags": [],
    "vscode": {
     "languageId": "python"
    }
   },
   "outputs": [
    {
     "data": {
      "text/plain": [
       "{'loss': [0.23051664233207703,\n",
       "  0.16648054122924805,\n",
       "  0.1543891578912735,\n",
       "  0.13874311745166779,\n",
       "  0.1265883445739746,\n",
       "  0.1122031882405281,\n",
       "  0.10393758863210678,\n",
       "  0.08835838735103607,\n",
       "  0.08083079010248184,\n",
       "  0.07212629169225693],\n",
       " 'accuracy': [0.996076226234436,\n",
       "  0.9966834783554077,\n",
       "  0.9964966177940369,\n",
       "  0.9964499473571777,\n",
       "  0.9966834783554077,\n",
       "  0.9966367483139038,\n",
       "  0.996216356754303,\n",
       "  0.9962630867958069,\n",
       "  0.972673773765564,\n",
       "  0.9387145042419434],\n",
       " 'val_loss': [0.17064602673053741,\n",
       "  0.16778229176998138,\n",
       "  0.1356699913740158,\n",
       "  0.12378282099962234,\n",
       "  0.10885104537010193,\n",
       "  0.10466944426298141,\n",
       "  0.08485715091228485,\n",
       "  0.07824289053678513,\n",
       "  0.06793784350156784,\n",
       "  0.06391297280788422],\n",
       " 'val_accuracy': [0.9959096908569336,\n",
       "  0.9968913793563843,\n",
       "  0.9954188466072083,\n",
       "  0.9962369203567505,\n",
       "  0.9964005351066589,\n",
       "  0.9968913793563843,\n",
       "  0.9970549941062927,\n",
       "  0.996073305606842,\n",
       "  0.9973822236061096,\n",
       "  0.9962369203567505]}"
      ]
     },
     "execution_count": 51,
     "metadata": {},
     "output_type": "execute_result"
    }
   ],
   "source": [
    "history.history"
   ]
  },
  {
   "cell_type": "markdown",
   "id": "3ea68b0d",
   "metadata": {
    "papermill": {
     "duration": 1.052325,
     "end_time": "2024-04-02T00:12:00.813653",
     "exception": false,
     "start_time": "2024-04-02T00:11:59.761328",
     "status": "completed"
    },
    "tags": []
   },
   "source": [
    "**Show Model Accuracy using Matplotlib Pyplot Graph**"
   ]
  },
  {
   "cell_type": "code",
   "execution_count": 52,
   "id": "fcaa636c",
   "metadata": {
    "execution": {
     "iopub.execute_input": "2024-04-02T00:12:03.001922Z",
     "iopub.status.busy": "2024-04-02T00:12:03.001492Z",
     "iopub.status.idle": "2024-04-02T00:12:03.269344Z",
     "shell.execute_reply": "2024-04-02T00:12:03.268312Z"
    },
    "papermill": {
     "duration": 1.37045,
     "end_time": "2024-04-02T00:12:03.271457",
     "exception": false,
     "start_time": "2024-04-02T00:12:01.901007",
     "status": "completed"
    },
    "tags": [],
    "vscode": {
     "languageId": "python"
    }
   },
   "outputs": [
    {
     "data": {
      "image/png": "[encoded data removed]",
      "text/plain": [
       "<Figure size 432x288 with 1 Axes>"
      ]
     },
     "metadata": {},
     "output_type": "display_data"
    }
   ],
   "source": [
    "sns.set(rc={'axes.facecolor':'white'})\n",
    "\n",
    "plt.plot(history.history['accuracy'])\n",
    "plt.plot(history.history['val_accuracy'])\n",
    "plt.title('Model Accuracy')\n",
    "plt.ylabel('accuracy')\n",
    "plt.xlabel('epoch')\n",
    "plt.legend(['train', 'test'])\n",
    "plt.show()"
   ]
  },
  {
   "cell_type": "markdown",
   "id": "83a0c2ec",
   "metadata": {
    "papermill": {
     "duration": 1.053203,
     "end_time": "2024-04-02T00:12:05.369613",
     "exception": false,
     "start_time": "2024-04-02T00:12:04.316410",
     "status": "completed"
    },
    "tags": []
   },
   "source": [
    "**Show Model Loss using Matplotlib Pyplot Graph**"
   ]
  },
  {
   "cell_type": "code",
   "execution_count": 53,
   "id": "9225f34a",
   "metadata": {
    "execution": {
     "iopub.execute_input": "2024-04-02T00:12:07.561407Z",
     "iopub.status.busy": "2024-04-02T00:12:07.561014Z",
     "iopub.status.idle": "2024-04-02T00:12:07.823757Z",
     "shell.execute_reply": "2024-04-02T00:12:07.822751Z"
    },
    "papermill": {
     "duration": 1.364609,
     "end_time": "2024-04-02T00:12:07.826064",
     "exception": false,
     "start_time": "2024-04-02T00:12:06.461455",
     "status": "completed"
    },
    "tags": [],
    "vscode": {
     "languageId": "python"
    }
   },
   "outputs": [
    {
     "data": {
      "image/png": "[encoded data removed]",
      "text/plain": [
       "<Figure size 432x288 with 1 Axes>"
      ]
     },
     "metadata": {},
     "output_type": "display_data"
    }
   ],
   "source": [
    "sns.set(rc={'axes.facecolor':'white'})\n",
    "\n",
    "plt.plot(history.history['loss'])\n",
    "plt.plot(history.history['val_loss'])\n",
    "plt.title('Model loss')\n",
    "plt.ylabel('loss')\n",
    "plt.xlabel('epoch')\n",
    "plt.legend(['train', 'test'])\n",
    "plt.show()"
   ]
  },
  {
   "cell_type": "markdown",
   "id": "ff96c74f",
   "metadata": {
    "papermill": {
     "duration": 1.037895,
     "end_time": "2024-04-02T00:12:09.920580",
     "exception": false,
     "start_time": "2024-04-02T00:12:08.882685",
     "status": "completed"
    },
    "tags": []
   },
   "source": [
    "# 10. Predict the Model"
   ]
  },
  {
   "cell_type": "markdown",
   "id": "125be984",
   "metadata": {
    "papermill": {
     "duration": 1.098779,
     "end_time": "2024-04-02T00:12:12.118103",
     "exception": false,
     "start_time": "2024-04-02T00:12:11.019324",
     "status": "completed"
    },
    "tags": []
   },
   "source": [
    "**Create a Test Comment for Predicting the Model**\n",
    "\n",
    "> Use the tokenizer to tokenize the phrase \"I hate you, you fat pig!\""
   ]
  },
  {
   "cell_type": "code",
   "execution_count": 54,
   "id": "fa45fc2b",
   "metadata": {
    "execution": {
     "iopub.execute_input": "2024-04-02T00:12:14.200081Z",
     "iopub.status.busy": "2024-04-02T00:12:14.199677Z",
     "iopub.status.idle": "2024-04-02T00:12:14.217430Z",
     "shell.execute_reply": "2024-04-02T00:12:14.216550Z"
    },
    "papermill": {
     "duration": 1.059151,
     "end_time": "2024-04-02T00:12:14.219746",
     "exception": false,
     "start_time": "2024-04-02T00:12:13.160595",
     "status": "completed"
    },
    "tags": [],
    "vscode": {
     "languageId": "python"
    }
   },
   "outputs": [],
   "source": [
    "test_comment = tokenizer(\"I hate you, you fat pig!\")"
   ]
  },
  {
   "cell_type": "markdown",
   "id": "a8843986",
   "metadata": {
    "papermill": {
     "duration": 1.171023,
     "end_time": "2024-04-02T00:12:16.527754",
     "exception": false,
     "start_time": "2024-04-02T00:12:15.356731",
     "status": "completed"
    },
    "tags": []
   },
   "source": [
    "**Create a Test Variable and Predict the Model using predict() Function**\n",
    "\n",
    "> Use the np.array() Function to make the test comment into numpy array"
   ]
  },
  {
   "cell_type": "code",
   "execution_count": 55,
   "id": "d0b2b032",
   "metadata": {
    "execution": {
     "iopub.execute_input": "2024-04-02T00:12:18.615140Z",
     "iopub.status.busy": "2024-04-02T00:12:18.614736Z",
     "iopub.status.idle": "2024-04-02T00:12:19.287682Z",
     "shell.execute_reply": "2024-04-02T00:12:19.286569Z"
    },
    "papermill": {
     "duration": 1.713955,
     "end_time": "2024-04-02T00:12:19.290267",
     "exception": false,
     "start_time": "2024-04-02T00:12:17.576312",
     "status": "completed"
    },
    "tags": [],
    "vscode": {
     "languageId": "python"
    }
   },
   "outputs": [],
   "source": [
    "test = model.predict(np.array([test_comment]))"
   ]
  },
  {
   "cell_type": "markdown",
   "id": "9f3f2bab",
   "metadata": {
    "papermill": {
     "duration": 1.091562,
     "end_time": "2024-04-02T00:12:21.473332",
     "exception": false,
     "start_time": "2024-04-02T00:12:20.381770",
     "status": "completed"
    },
    "tags": []
   },
   "source": [
    "**Print the Toxicity Criteria Once Again**"
   ]
  },
  {
   "cell_type": "code",
   "execution_count": 56,
   "id": "6a04e8ae",
   "metadata": {
    "execution": {
     "iopub.execute_input": "2024-04-02T00:12:23.554347Z",
     "iopub.status.busy": "2024-04-02T00:12:23.553963Z",
     "iopub.status.idle": "2024-04-02T00:12:23.560152Z",
     "shell.execute_reply": "2024-04-02T00:12:23.559156Z"
    },
    "papermill": {
     "duration": 1.052169,
     "end_time": "2024-04-02T00:12:23.562646",
     "exception": false,
     "start_time": "2024-04-02T00:12:22.510477",
     "status": "completed"
    },
    "tags": [],
    "vscode": {
     "languageId": "python"
    }
   },
   "outputs": [
    {
     "data": {
      "text/plain": [
       "['toxic', 'severe_toxic', 'obscene', 'threat', 'insult', 'identity_hate']"
      ]
     },
     "execution_count": 56,
     "metadata": {},
     "output_type": "execute_result"
    }
   ],
   "source": [
    "toxicity_criteria"
   ]
  },
  {
   "cell_type": "markdown",
   "id": "2332863f",
   "metadata": {
    "papermill": {
     "duration": 1.099738,
     "end_time": "2024-04-02T00:12:25.778181",
     "exception": false,
     "start_time": "2024-04-02T00:12:24.678443",
     "status": "completed"
    },
    "tags": []
   },
   "source": [
    "**Print the Result of the Test Variable**\n",
    "\n",
    "> The following values are the result evaluation of the toxic comment detector model\n",
    "\n",
    "> The following array also follows the order toxicity criteria\n",
    "\n",
    "> The values, in order, means: toxic, severe_toxic, obscene, threat, insult, identity_hate\n",
    "\n",
    "> If the value is more than 0.5, then the comment passes that certain toxicity criteria"
   ]
  },
  {
   "cell_type": "code",
   "execution_count": 57,
   "id": "35e349fc",
   "metadata": {
    "execution": {
     "iopub.execute_input": "2024-04-02T00:12:27.853320Z",
     "iopub.status.busy": "2024-04-02T00:12:27.852339Z",
     "iopub.status.idle": "2024-04-02T00:12:27.858977Z",
     "shell.execute_reply": "2024-04-02T00:12:27.858073Z"
    },
    "papermill": {
     "duration": 1.047029,
     "end_time": "2024-04-02T00:12:27.861336",
     "exception": false,
     "start_time": "2024-04-02T00:12:26.814307",
     "status": "completed"
    },
    "tags": [],
    "vscode": {
     "languageId": "python"
    }
   },
   "outputs": [
    {
     "data": {
      "text/plain": [
       "array([[0.9967686 , 0.07094533, 0.47257826, 0.02849133, 0.8698157 ,\n",
       "        0.34771708]], dtype=float32)"
      ]
     },
     "execution_count": 57,
     "metadata": {},
     "output_type": "execute_result"
    }
   ],
   "source": [
    "test"
   ]
  },
  {
   "cell_type": "markdown",
   "id": "25cfcac3",
   "metadata": {
    "papermill": {
     "duration": 1.109152,
     "end_time": "2024-04-02T00:12:30.070696",
     "exception": false,
     "start_time": "2024-04-02T00:12:28.961544",
     "status": "completed"
    },
    "tags": []
   },
   "source": [
    "**Print the Result of the Test Variable in Boolean Form**\n",
    "\n",
    "> Check first if Test Value is above 0.5\n",
    "\n",
    "> Use the astype() Function and pass on bool as the parameter"
   ]
  },
  {
   "cell_type": "code",
   "execution_count": 58,
   "id": "dedd6e28",
   "metadata": {
    "execution": {
     "iopub.execute_input": "2024-04-02T00:12:32.165205Z",
     "iopub.status.busy": "2024-04-02T00:12:32.164817Z",
     "iopub.status.idle": "2024-04-02T00:12:32.171520Z",
     "shell.execute_reply": "2024-04-02T00:12:32.170533Z"
    },
    "papermill": {
     "duration": 1.052527,
     "end_time": "2024-04-02T00:12:32.173599",
     "exception": false,
     "start_time": "2024-04-02T00:12:31.121072",
     "status": "completed"
    },
    "tags": [],
    "vscode": {
     "languageId": "python"
    }
   },
   "outputs": [
    {
     "data": {
      "text/plain": [
       "array([[ True, False, False, False,  True, False]])"
      ]
     },
     "execution_count": 58,
     "metadata": {},
     "output_type": "execute_result"
    }
   ],
   "source": [
    "(test > 0.5).astype(bool)"
   ]
  },
  {
   "cell_type": "markdown",
   "id": "978bb67f",
   "metadata": {
    "papermill": {
     "duration": 1.127053,
     "end_time": "2024-04-02T00:12:34.408518",
     "exception": false,
     "start_time": "2024-04-02T00:12:33.281465",
     "status": "completed"
    },
    "tags": []
   },
   "source": [
    "**Define Comment Batch X and y for Predicting the Model using Validating Data**\n",
    "\n",
    "> Use as_numpy_iterator() Function to print a batch from validating_data"
   ]
  },
  {
   "cell_type": "code",
   "execution_count": 59,
   "id": "2e88ae78",
   "metadata": {
    "execution": {
     "iopub.execute_input": "2024-04-02T00:12:36.501549Z",
     "iopub.status.busy": "2024-04-02T00:12:36.501131Z",
     "iopub.status.idle": "2024-04-02T00:12:37.243166Z",
     "shell.execute_reply": "2024-04-02T00:12:37.242252Z"
    },
    "papermill": {
     "duration": 1.788668,
     "end_time": "2024-04-02T00:12:37.245686",
     "exception": false,
     "start_time": "2024-04-02T00:12:35.457018",
     "status": "completed"
    },
    "tags": [],
    "vscode": {
     "languageId": "python"
    }
   },
   "outputs": [],
   "source": [
    "comm_batch_X, comm_batch_y = validating_data.as_numpy_iterator().next()"
   ]
  },
  {
   "cell_type": "markdown",
   "id": "9411cca2",
   "metadata": {
    "papermill": {
     "duration": 1.134313,
     "end_time": "2024-04-02T00:12:39.499912",
     "exception": false,
     "start_time": "2024-04-02T00:12:38.365599",
     "status": "completed"
    },
    "tags": []
   },
   "source": [
    "**Create a Test Data Model Variable and Predict the Model using predict() Function**\n",
    "\n",
    "> Pass in the Comment Batch X"
   ]
  },
  {
   "cell_type": "code",
   "execution_count": 60,
   "id": "12665d98",
   "metadata": {
    "execution": {
     "iopub.execute_input": "2024-04-02T00:12:41.586344Z",
     "iopub.status.busy": "2024-04-02T00:12:41.585408Z",
     "iopub.status.idle": "2024-04-02T00:12:41.717075Z",
     "shell.execute_reply": "2024-04-02T00:12:41.716158Z"
    },
    "papermill": {
     "duration": 1.174491,
     "end_time": "2024-04-02T00:12:41.719546",
     "exception": false,
     "start_time": "2024-04-02T00:12:40.545055",
     "status": "completed"
    },
    "tags": [],
    "vscode": {
     "languageId": "python"
    }
   },
   "outputs": [],
   "source": [
    "test_data_model = model.predict(comm_batch_X)"
   ]
  },
  {
   "cell_type": "markdown",
   "id": "23dfa487",
   "metadata": {
    "papermill": {
     "duration": 1.108463,
     "end_time": "2024-04-02T00:12:43.932411",
     "exception": false,
     "start_time": "2024-04-02T00:12:42.823948",
     "status": "completed"
    },
    "tags": []
   },
   "source": [
    "**Print the Result of the Test Variable in Boolean Form**\n",
    "\n",
    "> Check first if Test Value is above 0.5\n",
    "\n",
    "> Use the astype() Function and pass on bool as the parameter"
   ]
  },
  {
   "cell_type": "code",
   "execution_count": 61,
   "id": "f303c537",
   "metadata": {
    "execution": {
     "iopub.execute_input": "2024-04-02T00:12:46.067981Z",
     "iopub.status.busy": "2024-04-02T00:12:46.067124Z",
     "iopub.status.idle": "2024-04-02T00:12:46.074795Z",
     "shell.execute_reply": "2024-04-02T00:12:46.073846Z"
    },
    "papermill": {
     "duration": 1.063255,
     "end_time": "2024-04-02T00:12:46.076942",
     "exception": false,
     "start_time": "2024-04-02T00:12:45.013687",
     "status": "completed"
    },
    "tags": [],
    "vscode": {
     "languageId": "python"
    }
   },
   "outputs": [
    {
     "data": {
      "text/plain": [
       "array([[ True, False, False, False, False, False],\n",
       "       [False, False, False, False, False, False],\n",
       "       [False, False, False, False, False, False],\n",
       "       [False, False, False, False, False, False],\n",
       "       [ True, False, False, False, False, False],\n",
       "       [False, False, False, False, False, False],\n",
       "       [False, False, False, False, False, False],\n",
       "       [ True,  True,  True, False,  True, False],\n",
       "       [False, False, False, False, False, False],\n",
       "       [ True, False,  True, False,  True, False],\n",
       "       [False, False, False, False, False, False],\n",
       "       [False, False, False, False, False, False],\n",
       "       [False, False, False, False, False, False],\n",
       "       [False, False, False, False, False, False],\n",
       "       [False, False, False, False, False, False],\n",
       "       [False, False, False, False, False, False]])"
      ]
     },
     "execution_count": 61,
     "metadata": {},
     "output_type": "execute_result"
    }
   ],
   "source": [
    "(test_data_model > 0.5).astype(bool)"
   ]
  },
  {
   "cell_type": "markdown",
   "id": "ffec259e",
   "metadata": {
    "papermill": {
     "duration": 1.118137,
     "end_time": "2024-04-02T00:12:48.439649",
     "exception": false,
     "start_time": "2024-04-02T00:12:47.321512",
     "status": "completed"
    },
    "tags": []
   },
   "source": [
    "# 11. Evaluate the Model"
   ]
  },
  {
   "cell_type": "markdown",
   "id": "d6c9a68e",
   "metadata": {
    "papermill": {
     "duration": 1.04172,
     "end_time": "2024-04-02T00:12:50.525127",
     "exception": false,
     "start_time": "2024-04-02T00:12:49.483407",
     "status": "completed"
    },
    "tags": []
   },
   "source": [
    "**Evaluate the Model using evaluate() Method and Pass on the training_data Variable**"
   ]
  },
  {
   "cell_type": "code",
   "execution_count": 62,
   "id": "34331484",
   "metadata": {
    "execution": {
     "iopub.execute_input": "2024-04-02T00:12:52.732704Z",
     "iopub.status.busy": "2024-04-02T00:12:52.732265Z",
     "iopub.status.idle": "2024-04-02T00:14:26.704154Z",
     "shell.execute_reply": "2024-04-02T00:14:26.703099Z"
    },
    "papermill": {
     "duration": 95.080584,
     "end_time": "2024-04-02T00:14:26.706798",
     "exception": false,
     "start_time": "2024-04-02T00:12:51.626214",
     "status": "completed"
    },
    "tags": []
   },
   "outputs": [],
   "source": [
    "modelScore = model.evaluate(training_data, verbose=0)"
   ]
  },
  {
   "cell_type": "markdown",
   "id": "40ce1c3e",
   "metadata": {
    "papermill": {
     "duration": 1.108853,
     "end_time": "2024-04-02T00:14:28.856857",
     "exception": false,
     "start_time": "2024-04-02T00:14:27.748004",
     "status": "completed"
    },
    "tags": []
   },
   "source": [
    "**Print the Model Loss by Displaying modelScore[0]**"
   ]
  },
  {
   "cell_type": "code",
   "execution_count": 63,
   "id": "6f816976",
   "metadata": {
    "execution": {
     "iopub.execute_input": "2024-04-02T00:14:30.948598Z",
     "iopub.status.busy": "2024-04-02T00:14:30.948190Z",
     "iopub.status.idle": "2024-04-02T00:14:30.953873Z",
     "shell.execute_reply": "2024-04-02T00:14:30.952816Z"
    },
    "papermill": {
     "duration": 1.050085,
     "end_time": "2024-04-02T00:14:30.956179",
     "exception": false,
     "start_time": "2024-04-02T00:14:29.906094",
     "status": "completed"
    },
    "tags": []
   },
   "outputs": [
    {
     "name": "stdout",
     "output_type": "stream",
     "text": [
      "Model Loss: 0.06366254389286041\n"
     ]
    }
   ],
   "source": [
    "print('Model Loss:', modelScore[0])"
   ]
  },
  {
   "cell_type": "markdown",
   "id": "de030ffe",
   "metadata": {
    "papermill": {
     "duration": 1.10254,
     "end_time": "2024-04-02T00:14:33.166128",
     "exception": false,
     "start_time": "2024-04-02T00:14:32.063588",
     "status": "completed"
    },
    "tags": []
   },
   "source": [
    "**Print the Model Accuracy by Displaying modelScore[1]**"
   ]
  },
  {
   "cell_type": "code",
   "execution_count": 64,
   "id": "bdcf88c5",
   "metadata": {
    "execution": {
     "iopub.execute_input": "2024-04-02T00:14:35.264586Z",
     "iopub.status.busy": "2024-04-02T00:14:35.264177Z",
     "iopub.status.idle": "2024-04-02T00:14:35.269985Z",
     "shell.execute_reply": "2024-04-02T00:14:35.268723Z"
    },
    "papermill": {
     "duration": 1.071249,
     "end_time": "2024-04-02T00:14:35.272334",
     "exception": false,
     "start_time": "2024-04-02T00:14:34.201085",
     "status": "completed"
    },
    "tags": []
   },
   "outputs": [
    {
     "name": "stdout",
     "output_type": "stream",
     "text": [
      "Model Accuracy: 0.9961229562759399\n"
     ]
    }
   ],
   "source": [
    "print('Model Accuracy:', modelScore[1])"
   ]
  },
  {
   "cell_type": "markdown",
   "id": "c183ad91",
   "metadata": {
    "papermill": {
     "duration": 1.103485,
     "end_time": "2024-04-02T00:14:37.466975",
     "exception": false,
     "start_time": "2024-04-02T00:14:36.363490",
     "status": "completed"
    },
    "tags": []
   },
   "source": [
    "# 12. Save and Test the Model"
   ]
  },
  {
   "cell_type": "markdown",
   "id": "9a0c7000",
   "metadata": {
    "papermill": {
     "duration": 1.041048,
     "end_time": "2024-04-02T00:14:39.562018",
     "exception": false,
     "start_time": "2024-04-02T00:14:38.520970",
     "status": "completed"
    },
    "tags": []
   },
   "source": [
    "**Save the Model as toxic_comment_detector.h5 using save() Function**"
   ]
  },
  {
   "cell_type": "code",
   "execution_count": 65,
   "id": "749bbf3d",
   "metadata": {
    "execution": {
     "iopub.execute_input": "2024-04-02T00:14:41.761467Z",
     "iopub.status.busy": "2024-04-02T00:14:41.760697Z",
     "iopub.status.idle": "2024-04-02T00:14:42.027880Z",
     "shell.execute_reply": "2024-04-02T00:14:42.027008Z"
    },
    "papermill": {
     "duration": 1.370326,
     "end_time": "2024-04-02T00:14:42.030371",
     "exception": false,
     "start_time": "2024-04-02T00:14:40.660045",
     "status": "completed"
    },
    "tags": [],
    "vscode": {
     "languageId": "python"
    }
   },
   "outputs": [],
   "source": [
    "model.save('toxic_comment_detector.h5')"
   ]
  },
  {
   "cell_type": "markdown",
   "id": "cfded5f9",
   "metadata": {
    "papermill": {
     "duration": 1.106821,
     "end_time": "2024-04-02T00:14:44.176726",
     "exception": false,
     "start_time": "2024-04-02T00:14:43.069905",
     "status": "completed"
    },
    "tags": []
   },
   "source": [
    "**Load the Model using load_model() Function from Keras**"
   ]
  },
  {
   "cell_type": "code",
   "execution_count": 66,
   "id": "b04ec679",
   "metadata": {
    "execution": {
     "iopub.execute_input": "2024-04-02T00:14:46.355663Z",
     "iopub.status.busy": "2024-04-02T00:14:46.355258Z",
     "iopub.status.idle": "2024-04-02T00:14:47.452038Z",
     "shell.execute_reply": "2024-04-02T00:14:47.450908Z"
    },
    "papermill": {
     "duration": 2.209111,
     "end_time": "2024-04-02T00:14:47.454672",
     "exception": false,
     "start_time": "2024-04-02T00:14:45.245561",
     "status": "completed"
    },
    "tags": [],
    "vscode": {
     "languageId": "python"
    }
   },
   "outputs": [],
   "source": [
    "model = tf.keras.models.load_model('toxic_comment_detector.h5')"
   ]
  },
  {
   "cell_type": "markdown",
   "id": "59e86d4e",
   "metadata": {
    "papermill": {
     "duration": 1.134938,
     "end_time": "2024-04-02T00:14:49.635991",
     "exception": false,
     "start_time": "2024-04-02T00:14:48.501053",
     "status": "completed"
    },
    "tags": []
   },
   "source": [
    "**Test the Model using predict() Function with the test_comment Variable**\n",
    "\n",
    "> Use the array() Function from Numpy to transform the test_comment to Numpy Array"
   ]
  },
  {
   "cell_type": "code",
   "execution_count": 67,
   "id": "9f3c57e2",
   "metadata": {
    "execution": {
     "iopub.execute_input": "2024-04-02T00:14:51.839640Z",
     "iopub.status.busy": "2024-04-02T00:14:51.839218Z",
     "iopub.status.idle": "2024-04-02T00:14:52.517023Z",
     "shell.execute_reply": "2024-04-02T00:14:52.515810Z"
    },
    "papermill": {
     "duration": 1.793672,
     "end_time": "2024-04-02T00:14:52.519605",
     "exception": false,
     "start_time": "2024-04-02T00:14:50.725933",
     "status": "completed"
    },
    "tags": [],
    "vscode": {
     "languageId": "python"
    }
   },
   "outputs": [],
   "source": [
    "test_saved_model = model.predict(np.array([test_comment]))"
   ]
  },
  {
   "cell_type": "markdown",
   "id": "1b98fd0f",
   "metadata": {
    "papermill": {
     "duration": 1.132342,
     "end_time": "2024-04-02T00:14:54.720136",
     "exception": false,
     "start_time": "2024-04-02T00:14:53.587794",
     "status": "completed"
    },
    "tags": []
   },
   "source": [
    "**Print the Result of the Test Variable in Boolean Form**\n",
    "\n",
    "> Check first if Test Value is above 0.5\n",
    "\n",
    "> Use the astype() Function and pass on bool as the parameter"
   ]
  },
  {
   "cell_type": "code",
   "execution_count": 68,
   "id": "ec25b02e",
   "metadata": {
    "execution": {
     "iopub.execute_input": "2024-04-02T00:14:56.880021Z",
     "iopub.status.busy": "2024-04-02T00:14:56.879621Z",
     "iopub.status.idle": "2024-04-02T00:14:56.886282Z",
     "shell.execute_reply": "2024-04-02T00:14:56.885392Z"
    },
    "papermill": {
     "duration": 1.123134,
     "end_time": "2024-04-02T00:14:56.888365",
     "exception": false,
     "start_time": "2024-04-02T00:14:55.765231",
     "status": "completed"
    },
    "tags": [],
    "vscode": {
     "languageId": "python"
    }
   },
   "outputs": [
    {
     "data": {
      "text/plain": [
       "array([[ True, False, False, False,  True, False]])"
      ]
     },
     "execution_count": 68,
     "metadata": {},
     "output_type": "execute_result"
    }
   ],
   "source": [
    "(test_saved_model > 0.5).astype(bool)"
   ]
  },
  {
   "cell_type": "markdown",
   "id": "91b92e21",
   "metadata": {
    "papermill": {
     "duration": 1.107425,
     "end_time": "2024-04-02T00:14:59.042031",
     "exception": false,
     "start_time": "2024-04-02T00:14:57.934606",
     "status": "completed"
    },
    "tags": []
   },
   "source": [
    "# 13. Create a GUI for the Model using Gradio"
   ]
  },
  {
   "cell_type": "markdown",
   "id": "daaddecc",
   "metadata": {
    "papermill": {
     "duration": 1.129443,
     "end_time": "2024-04-02T00:15:01.232847",
     "exception": false,
     "start_time": "2024-04-02T00:15:00.103404",
     "status": "completed"
    },
    "tags": []
   },
   "source": [
    "**Create Evaluate Comment Function for the GUI**"
   ]
  },
  {
   "cell_type": "code",
   "execution_count": 69,
   "id": "e4272d37",
   "metadata": {
    "execution": {
     "iopub.execute_input": "2024-04-02T00:15:03.414899Z",
     "iopub.status.busy": "2024-04-02T00:15:03.414481Z",
     "iopub.status.idle": "2024-04-02T00:15:03.435614Z",
     "shell.execute_reply": "2024-04-02T00:15:03.434570Z"
    },
    "papermill": {
     "duration": 1.148092,
     "end_time": "2024-04-02T00:15:03.437807",
     "exception": false,
     "start_time": "2024-04-02T00:15:02.289715",
     "status": "completed"
    },
    "tags": [],
    "vscode": {
     "languageId": "python"
    }
   },
   "outputs": [],
   "source": [
    "# Create evaluate comment function and take the comment as the parameter\n",
    "def evaluate_comment(comment):\n",
    "    \n",
    "    # Tokenize the comment using the tokenizer() Method\n",
    "    # Place the comment in [] brackets because the Method requires 2D array\n",
    "    tokenized_comment = tokenizer([comment])\n",
    "    \n",
    "    # Predict the Tokenized Comment and place it on the Result Variable\n",
    "    result = model.predict(tokenized_comment)\n",
    "    \n",
    "    \n",
    "    ### START TEXT OUTPUT\n",
    "    \n",
    "    # Declare the Text that is to be displayed in the GUI\n",
    "    # Add the Text \"Your comment seems to be:\" as the Heading for the Output\n",
    "    text = 'Your comment seems to be:\\n'\n",
    "    \n",
    "    \n",
    "    \n",
    "    ### LIST TEXT OUTPUT\n",
    "    \n",
    "    # For loop that loops through the Toxicity Criteria\n",
    "    for index, column in enumerate(df[toxicity_criteria]):\n",
    "        \n",
    "        # Check if the loop is in Toxic Column\n",
    "        if column == 'toxic':\n",
    "            \n",
    "            # Check if Comment Toxic Result is more than 0.5 (toxic)\n",
    "            if result[0][index] > 0.5:\n",
    "                \n",
    "                # Add Toxic to the Output\n",
    "                text += '- Toxic\\n'\n",
    "                \n",
    "            # Comment Toxic Result must be less than 0.5 (not toxic)\n",
    "            else:\n",
    "                \n",
    "                # Add Non-toxic to the Output\n",
    "                text += '- Non-toxic\\n'\n",
    "              \n",
    "        # Check if the loop is in Severe Toxic Column    \n",
    "        elif column == 'severe_toxic':\n",
    "            \n",
    "            # Check if Comment Severe Toxic Result is more than 0.5 (severe_toxic)\n",
    "            if result[0][index] > 0.5:\n",
    "                \n",
    "                # Add Severely Toxic to the Output\n",
    "                text += '- Severely Toxic\\n'\n",
    "             \n",
    "        # Check if the loop is in Obscene Column     \n",
    "        elif column == 'obscene':\n",
    "            \n",
    "            # Check if Comment Obscene Result is more than 0.5 (obscene)\n",
    "            if result[0][index] > 0.5:\n",
    "                \n",
    "                # Add Obscene to the Output\n",
    "                text += '- Obscene\\n'   \n",
    "                \n",
    "        # Check if the loop is in Threat Column \n",
    "        elif column == 'threat':\n",
    "            \n",
    "            # Check if Comment Threat Result is more than 0.5 (threatening)\n",
    "            if result[0][index] > 0.5:\n",
    "                \n",
    "                # Add Threatening to the Output\n",
    "                text += '- Threatening\\n'\n",
    "                \n",
    "        # Check if the loop is in Insult Column \n",
    "        elif column == 'insult':\n",
    "            \n",
    "            # Check if Comment Insult Result is more than 0.5 (offensive)\n",
    "            if result[0][index] > 0.5:\n",
    "                \n",
    "                # Add Offensive to the Output\n",
    "                text += '- Offensive\\n'\n",
    "            \n",
    "        # Check if the loop is in Identity Hate Column \n",
    "        elif column == 'identity_hate':\n",
    "            \n",
    "            # Check if Comment Identity Hate Result is more than 0.5 (racist)\n",
    "            if result[0][index] > 0.5:\n",
    "                \n",
    "                # Add Racist to the Output\n",
    "                text += '- Racist\\n'\n",
    "                \n",
    "                \n",
    "    ### END TEXT OUTPUT\n",
    "                \n",
    "    # Check if Comment Toxic Result is more than 0.5 (toxic)\n",
    "    if result[0][0] > 0.5:\n",
    "        \n",
    "        # Add \"No need to be toxic! Being nice won't hurt you\" with a grimacing face emoji to the Output\n",
    "        text += \"\\n\\nNo need to be toxic! Being nice won't hurt you \\N{grimacing face}\"\n",
    "        \n",
    "    # Comment Toxic Result must be less than 0.5 (not toxic)\n",
    "    else:\n",
    "        \n",
    "        # Add \"Keep it up!\" with a grinning face and thumbs up emojis to the Output\n",
    "        text += \"\\n\\nKeep it up! \\N{grinning face}\"\n",
    "    \n",
    "    \n",
    "    # Return the Output Text\n",
    "    return text"
   ]
  },
  {
   "cell_type": "markdown",
   "id": "128c4760",
   "metadata": {
    "papermill": {
     "duration": 1.062767,
     "end_time": "2024-04-02T00:15:05.574469",
     "exception": false,
     "start_time": "2024-04-02T00:15:04.511702",
     "status": "completed"
    },
    "tags": []
   },
   "source": [
    "**Create the Gradio GUI using Interface() Function**"
   ]
  },
  {
   "cell_type": "code",
   "execution_count": 70,
   "id": "094c76e2",
   "metadata": {
    "execution": {
     "iopub.execute_input": "2024-04-02T00:15:07.799047Z",
     "iopub.status.busy": "2024-04-02T00:15:07.798630Z",
     "iopub.status.idle": "2024-04-02T00:15:19.929569Z",
     "shell.execute_reply": "2024-04-02T00:15:19.928514Z"
    },
    "papermill": {
     "duration": 13.246786,
     "end_time": "2024-04-02T00:15:19.932302",
     "exception": false,
     "start_time": "2024-04-02T00:15:06.685516",
     "status": "completed"
    },
    "tags": []
   },
   "outputs": [
    {
     "name": "stdout",
     "output_type": "stream",
     "text": [
      "Requirement already satisfied: gradio in /opt/conda/lib/python3.7/site-packages (3.34.0)\r\n",
      "Requirement already satisfied: pandas in /opt/conda/lib/python3.7/site-packages (from gradio) (1.3.5)\r\n",
      "Requirement already satisfied: markupsafe in /opt/conda/lib/python3.7/site-packages (from gradio) (2.1.1)\r\n",
      "Requirement already satisfied: typing-extensions in /opt/conda/lib/python3.7/site-packages (from gradio) (4.1.1)\r\n",
      "Requirement already satisfied: orjson in /opt/conda/lib/python3.7/site-packages (from gradio) (3.7.5)\r\n",
      "Requirement already satisfied: pyyaml in /opt/conda/lib/python3.7/site-packages (from gradio) (6.0)\r\n",
      "Requirement already satisfied: ffmpy in /opt/conda/lib/python3.7/site-packages (from gradio) (0.3.2)\r\n",
      "Requirement already satisfied: gradio-client>=0.2.6 in /opt/conda/lib/python3.7/site-packages (from gradio) (0.2.6)\r\n",
      "Requirement already satisfied: fastapi in /opt/conda/lib/python3.7/site-packages (from gradio) (0.88.0)\r\n",
      "Requirement already satisfied: pydub in /opt/conda/lib/python3.7/site-packages (from gradio) (0.25.1)\r\n",
      "Requirement already satisfied: websockets>=10.0 in /opt/conda/lib/python3.7/site-packages (from gradio) (10.4)\r\n",
      "Requirement already satisfied: pydantic in /opt/conda/lib/python3.7/site-packages (from gradio) (1.8.2)\r\n",
      "Requirement already satisfied: mdit-py-plugins<=0.3.3 in /opt/conda/lib/python3.7/site-packages (from gradio) (0.3.0)\r\n",
      "Requirement already satisfied: matplotlib in /opt/conda/lib/python3.7/site-packages (from gradio) (3.5.3)\r\n",
      "Requirement already satisfied: semantic-version in /opt/conda/lib/python3.7/site-packages (from gradio) (2.10.0)\r\n",
      "Requirement already satisfied: pygments>=2.12.0 in /opt/conda/lib/python3.7/site-packages (from gradio) (2.12.0)\r\n",
      "Requirement already satisfied: uvicorn>=0.14.0 in /opt/conda/lib/python3.7/site-packages (from gradio) (0.20.0)\r\n",
      "Requirement already satisfied: altair>=4.2.0 in /opt/conda/lib/python3.7/site-packages (from gradio) (4.2.0)\r\n",
      "Requirement already satisfied: python-multipart in /opt/conda/lib/python3.7/site-packages (from gradio) (0.0.8)\r\n",
      "Requirement already satisfied: aiohttp in /opt/conda/lib/python3.7/site-packages (from gradio) (3.8.1)\r\n",
      "Requirement already satisfied: markdown-it-py[linkify]>=2.0.0 in /opt/conda/lib/python3.7/site-packages (from gradio) (2.1.0)\r\n",
      "Requirement already satisfied: numpy in /opt/conda/lib/python3.7/site-packages (from gradio) (1.21.6)\r\n",
      "Requirement already satisfied: pillow in /opt/conda/lib/python3.7/site-packages (from gradio) (9.1.1)\r\n",
      "Requirement already satisfied: huggingface-hub>=0.14.0 in /opt/conda/lib/python3.7/site-packages (from gradio) (0.16.4)\r\n",
      "Requirement already satisfied: aiofiles in /opt/conda/lib/python3.7/site-packages (from gradio) (23.2.1)\r\n",
      "Requirement already satisfied: requests in /opt/conda/lib/python3.7/site-packages (from gradio) (2.28.1)\r\n",
      "Requirement already satisfied: jinja2 in /opt/conda/lib/python3.7/site-packages (from gradio) (3.1.2)\r\n",
      "Requirement already satisfied: httpx in /opt/conda/lib/python3.7/site-packages (from gradio) (0.24.1)\r\n",
      "Requirement already satisfied: entrypoints in /opt/conda/lib/python3.7/site-packages (from altair>=4.2.0->gradio) (0.4)\r\n",
      "Requirement already satisfied: jsonschema>=3.0 in /opt/conda/lib/python3.7/site-packages (from altair>=4.2.0->gradio) (4.6.1)\r\n",
      "Requirement already satisfied: toolz in /opt/conda/lib/python3.7/site-packages (from altair>=4.2.0->gradio) (0.11.2)\r\n",
      "Requirement already satisfied: packaging in /opt/conda/lib/python3.7/site-packages (from gradio-client>=0.2.6->gradio) (22.0)\r\n",
      "Requirement already satisfied: fsspec in /opt/conda/lib/python3.7/site-packages (from gradio-client>=0.2.6->gradio) (2022.11.0)\r\n",
      "Requirement already satisfied: tqdm>=4.42.1 in /opt/conda/lib/python3.7/site-packages (from huggingface-hub>=0.14.0->gradio) (4.64.0)\r\n",
      "Requirement already satisfied: importlib-metadata in /opt/conda/lib/python3.7/site-packages (from huggingface-hub>=0.14.0->gradio) (4.13.0)\r\n",
      "Requirement already satisfied: filelock in /opt/conda/lib/python3.7/site-packages (from huggingface-hub>=0.14.0->gradio) (3.7.1)\r\n",
      "Requirement already satisfied: mdurl~=0.1 in /opt/conda/lib/python3.7/site-packages (from markdown-it-py[linkify]>=2.0.0->gradio) (0.1.0)\r\n",
      "Requirement already satisfied: linkify-it-py~=1.0 in /opt/conda/lib/python3.7/site-packages (from markdown-it-py[linkify]>=2.0.0->gradio) (1.0.3)\r\n",
      "Requirement already satisfied: python-dateutil>=2.7.3 in /opt/conda/lib/python3.7/site-packages (from pandas->gradio) (2.8.2)\r\n",
      "Requirement already satisfied: pytz>=2017.3 in /opt/conda/lib/python3.7/site-packages (from pandas->gradio) (2022.1)\r\n",
      "Requirement already satisfied: click>=7.0 in /opt/conda/lib/python3.7/site-packages (from uvicorn>=0.14.0->gradio) (8.1.3)\r\n",
      "Requirement already satisfied: h11>=0.8 in /opt/conda/lib/python3.7/site-packages (from uvicorn>=0.14.0->gradio) (0.14.0)\r\n",
      "Requirement already satisfied: attrs>=17.3.0 in /opt/conda/lib/python3.7/site-packages (from aiohttp->gradio) (21.4.0)\r\n",
      "Requirement already satisfied: multidict<7.0,>=4.5 in /opt/conda/lib/python3.7/site-packages (from aiohttp->gradio) (6.0.2)\r\n",
      "Requirement already satisfied: charset-normalizer<3.0,>=2.0 in /opt/conda/lib/python3.7/site-packages (from aiohttp->gradio) (2.1.0)\r\n",
      "Requirement already satisfied: aiosignal>=1.1.2 in /opt/conda/lib/python3.7/site-packages (from aiohttp->gradio) (1.2.0)\r\n",
      "Requirement already satisfied: asynctest==0.13.0 in /opt/conda/lib/python3.7/site-packages (from aiohttp->gradio) (0.13.0)\r\n",
      "Requirement already satisfied: yarl<2.0,>=1.0 in /opt/conda/lib/python3.7/site-packages (from aiohttp->gradio) (1.7.2)\r\n",
      "Requirement already satisfied: async-timeout<5.0,>=4.0.0a3 in /opt/conda/lib/python3.7/site-packages (from aiohttp->gradio) (4.0.2)\r\n",
      "Requirement already satisfied: frozenlist>=1.1.1 in /opt/conda/lib/python3.7/site-packages (from aiohttp->gradio) (1.3.0)\r\n",
      "Requirement already satisfied: starlette==0.22.0 in /opt/conda/lib/python3.7/site-packages (from fastapi->gradio) (0.22.0)\r\n",
      "Requirement already satisfied: anyio<5,>=3.4.0 in /opt/conda/lib/python3.7/site-packages (from starlette==0.22.0->fastapi->gradio) (3.6.1)\r\n",
      "Requirement already satisfied: sniffio in /opt/conda/lib/python3.7/site-packages (from httpx->gradio) (1.2.0)\r\n",
      "Requirement already satisfied: certifi in /opt/conda/lib/python3.7/site-packages (from httpx->gradio) (2022.12.7)\r\n",
      "Requirement already satisfied: idna in /opt/conda/lib/python3.7/site-packages (from httpx->gradio) (3.3)\r\n",
      "Requirement already satisfied: httpcore<0.18.0,>=0.15.0 in /opt/conda/lib/python3.7/site-packages (from httpx->gradio) (0.17.3)\r\n",
      "Requirement already satisfied: pyparsing>=2.2.1 in /opt/conda/lib/python3.7/site-packages (from matplotlib->gradio) (3.0.9)\r\n",
      "Requirement already satisfied: cycler>=0.10 in /opt/conda/lib/python3.7/site-packages (from matplotlib->gradio) (0.11.0)\r\n",
      "Requirement already satisfied: fonttools>=4.22.0 in /opt/conda/lib/python3.7/site-packages (from matplotlib->gradio) (4.33.3)\r\n",
      "Requirement already satisfied: kiwisolver>=1.0.1 in /opt/conda/lib/python3.7/site-packages (from matplotlib->gradio) (1.4.3)\r\n",
      "Requirement already satisfied: urllib3<1.27,>=1.21.1 in /opt/conda/lib/python3.7/site-packages (from requests->gradio) (1.26.13)\r\n",
      "Requirement already satisfied: pyrsistent!=0.17.0,!=0.17.1,!=0.17.2,>=0.14.0 in /opt/conda/lib/python3.7/site-packages (from jsonschema>=3.0->altair>=4.2.0->gradio) (0.18.1)\r\n",
      "Requirement already satisfied: importlib-resources>=1.4.0 in /opt/conda/lib/python3.7/site-packages (from jsonschema>=3.0->altair>=4.2.0->gradio) (5.10.2)\r\n",
      "Requirement already satisfied: uc-micro-py in /opt/conda/lib/python3.7/site-packages (from linkify-it-py~=1.0->markdown-it-py[linkify]>=2.0.0->gradio) (1.0.3)\r\n",
      "Requirement already satisfied: six>=1.5 in /opt/conda/lib/python3.7/site-packages (from python-dateutil>=2.7.3->pandas->gradio) (1.15.0)\r\n",
      "Requirement already satisfied: zipp>=0.5 in /opt/conda/lib/python3.7/site-packages (from importlib-metadata->huggingface-hub>=0.14.0->gradio) (3.8.0)\r\n",
      "\u001b[33mWARNING: Running pip as the 'root' user can result in broken permissions and conflicting behaviour with the system package manager. It is recommended to use a virtual environment instead: https://pip.pypa.io/warnings/venv\u001b[0m\u001b[33m\r\n",
      "\u001b[0m"
     ]
    }
   ],
   "source": [
    "!pip install gradio\n",
    "import gradio as gr"
   ]
  },
  {
   "cell_type": "code",
   "execution_count": 71,
   "id": "4d1f4d6a",
   "metadata": {
    "execution": {
     "iopub.execute_input": "2024-04-02T00:15:22.168043Z",
     "iopub.status.busy": "2024-04-02T00:15:22.167342Z",
     "iopub.status.idle": "2024-04-02T00:15:37.879882Z",
     "shell.execute_reply": "2024-04-02T00:15:37.878745Z"
    },
    "papermill": {
     "duration": 16.841311,
     "end_time": "2024-04-02T00:15:37.882176",
     "exception": false,
     "start_time": "2024-04-02T00:15:21.040865",
     "status": "completed"
    },
    "tags": [],
    "vscode": {
     "languageId": "python"
    }
   },
   "outputs": [
    {
     "name": "stdout",
     "output_type": "stream",
     "text": [
      "Kaggle notebooks require sharing enabled. Setting `share=True` (you can turn this off by setting `share=False` in `launch()` explicitly).\n",
      "\n",
      "Running on local URL:  http://127.0.0.1:7860\n",
      "Running on public URL: https://ac9b65e8e7ce4ba2b8.gradio.live\n",
      "\n",
      "This share link expires in 72 hours. For free permanent hosting and GPU upgrades, run `gradio deploy` from Terminal to deploy to Spaces (https://huggingface.co/spaces)\n"
     ]
    },
    {
     "data": {
      "text/html": [
       "<div><iframe src=\"https://ac9b65e8e7ce4ba2b8.gradio.live\" width=\"100%\" height=\"500\" allow=\"autoplay; camera; microphone; clipboard-read; clipboard-write;\" frameborder=\"0\" allowfullscreen></iframe></div>"
      ],
      "text/plain": [
       "<IPython.core.display.HTML object>"
      ]
     },
     "metadata": {},
     "output_type": "display_data"
    },
    {
     "data": {
      "text/plain": []
     },
     "execution_count": 71,
     "metadata": {},
     "output_type": "execute_result"
    }
   ],
   "source": [
    "import gradio as gr\n",
    "\n",
    "def evaluate_comment(comment):\n",
    "    # Your evaluation logic here\n",
    "    return \"The evaluation result\"\n",
    "\n",
    "GradioGUI = gr.Interface(\n",
    "    fn=evaluate_comment,  # Pass on evaluate_comment Function\n",
    "    inputs=gr.inputs.Textbox(lines=5, placeholder='Enter your comment...'),  # Create Input Textbox that will be passed on to the evaluate_comment Function\n",
    "    outputs='text',  # Set the Outputs to text variable\n",
    "    title='Toxic Comment Detector',  # Set the title\n",
    "    description='A machine learning project that detects if your comment is toxic or not',  # Set the description\n",
    "    css='''span{text-transform: uppercase} p{text-align: center}'''  # Modify some CSS for the texts\n",
    ")\n",
    "\n",
    "GradioGUI.launch()\n"
   ]
  },
  {
   "cell_type": "markdown",
   "id": "43ba828b",
   "metadata": {
    "papermill": {
     "duration": 1.153887,
     "end_time": "2024-04-02T00:15:40.136170",
     "exception": false,
     "start_time": "2024-04-02T00:15:38.982283",
     "status": "completed"
    },
    "tags": []
   },
   "source": [
    "**Launch the Gradio GUI using lanuch() Function**\n",
    "\n",
    "> Set the share to True so that there will be a shareable public URL of the interface"
   ]
  },
  {
   "cell_type": "code",
   "execution_count": 72,
   "id": "a1641bb9",
   "metadata": {
    "execution": {
     "iopub.execute_input": "2024-04-02T00:15:42.330284Z",
     "iopub.status.busy": "2024-04-02T00:15:42.329493Z",
     "iopub.status.idle": "2024-04-02T00:15:43.087116Z",
     "shell.execute_reply": "2024-04-02T00:15:43.086116Z"
    },
    "papermill": {
     "duration": 1.891664,
     "end_time": "2024-04-02T00:15:43.089663",
     "exception": false,
     "start_time": "2024-04-02T00:15:41.197999",
     "status": "completed"
    },
    "tags": [],
    "vscode": {
     "languageId": "python"
    }
   },
   "outputs": [
    {
     "name": "stdout",
     "output_type": "stream",
     "text": [
      "Rerunning server... use `close()` to stop if you need to change `launch()` parameters.\n",
      "----\n",
      "Running on local URL:  http://127.0.0.1:7860\n",
      "Running on public URL: https://ac9b65e8e7ce4ba2b8.gradio.live\n",
      "\n",
      "This share link expires in 72 hours. For free permanent hosting and GPU upgrades, run `gradio deploy` from Terminal to deploy to Spaces (https://huggingface.co/spaces)\n"
     ]
    },
    {
     "data": {
      "text/html": [
       "<div><iframe src=\"https://ac9b65e8e7ce4ba2b8.gradio.live\" width=\"100%\" height=\"500\" allow=\"autoplay; camera; microphone; clipboard-read; clipboard-write;\" frameborder=\"0\" allowfullscreen></iframe></div>"
      ],
      "text/plain": [
       "<IPython.core.display.HTML object>"
      ]
     },
     "metadata": {},
     "output_type": "display_data"
    },
    {
     "data": {
      "text/plain": []
     },
     "execution_count": 72,
     "metadata": {},
     "output_type": "execute_result"
    }
   ],
   "source": [
    "GradioGUI.launch(share=True)\n",
    "\n",
    "# The public URL is most probably expired when you are checking this.\n",
    "# I recommend you to run the code again to generate your own public URL"
   ]
  }
 ],
 "metadata": {
  "kaggle": {
   "accelerator": "gpu",
   "dataSources": [
    {
     "datasetId": 1709138,
     "sourceId": 2798066,
     "sourceType": "datasetVersion"
    }
   ],
   "dockerImageVersionId": 30357,
   "isGpuEnabled": true,
   "isInternetEnabled": true,
   "language": "python",
   "sourceType": "notebook"
  },
  "kernelspec": {
   "display_name": "Python 3",
   "language": "python",
   "name": "python3"
  },
  "language_info": {
   "codemirror_mode": {
    "name": "ipython",
    "version": 3
   },
   "file_extension": ".py",
   "mimetype": "text/x-python",
   "name": "python",
   "nbconvert_exporter": "python",
   "pygments_lexer": "ipython3",
   "version": "3.7.12"
  },
  "papermill": {
   "default_parameters": {},
   "duration": 2840.821859,
   "end_time": "2024-04-02T00:15:47.042470",
   "environment_variables": {},
   "exception": null,
   "input_path": "__notebook__.ipynb",
   "output_path": "__notebook__.ipynb",
   "parameters": {},
   "start_time": "2024-04-01T23:28:26.220611",
   "version": "2.3.4"
  }
 },
 "nbformat": 4,
 "nbformat_minor": 5
}
